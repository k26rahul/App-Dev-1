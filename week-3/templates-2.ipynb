{
 "cells": [
  {
   "cell_type": "code",
   "execution_count": 101,
   "metadata": {},
   "outputs": [
    {
     "data": {
      "text/plain": [
       "55"
      ]
     },
     "execution_count": 101,
     "metadata": {},
     "output_type": "execute_result"
    },
    {
     "data": {
      "text/plain": [
       "6"
      ]
     },
     "execution_count": 101,
     "metadata": {},
     "output_type": "execute_result"
    }
   ],
   "source": [
    "def find_Min_Difference(L, P):\n",
    "  L = sorted(L)\n",
    "  mini = float('inf')\n",
    "  for i in range(0, len(L)-P+1):\n",
    "    new_mini = abs(L[i] - L[i+P-1])\n",
    "    if new_mini < mini:\n",
    "      mini = new_mini\n",
    "  return mini\n",
    "\n",
    "\n",
    "find_Min_Difference([3, 4, 1, 9, 56, 7], 6)\n",
    "find_Min_Difference([3, 4, 1, 9, 56, 7, 9, 12], 5)"
   ]
  },
  {
   "cell_type": "code",
   "execution_count": 102,
   "metadata": {},
   "outputs": [
    {
     "data": {
      "text/plain": [
       "[(3, 23), (7, 19), (13, 13)]"
      ]
     },
     "execution_count": 102,
     "metadata": {},
     "output_type": "execute_result"
    }
   ],
   "source": [
    "def is_prime(n):\n",
    "  for i in range(2, int(n**0.5)+1):\n",
    "    if n % i == 0:\n",
    "      return False\n",
    "  return True\n",
    "\n",
    "\n",
    "def Goldbach(n):\n",
    "  ans = []\n",
    "  for i in range(2, n//2+1):\n",
    "    if is_prime(i) and is_prime(n-i):\n",
    "      ans.append((i, n-i))\n",
    "  return ans\n",
    "\n",
    "\n",
    "Goldbach(26)"
   ]
  },
  {
   "cell_type": "code",
   "execution_count": 103,
   "metadata": {},
   "outputs": [
    {
     "data": {
      "text/plain": [
       "'float'"
      ]
     },
     "execution_count": 103,
     "metadata": {},
     "output_type": "execute_result"
    }
   ],
   "source": [
    "def odd_one(L):\n",
    "  freq = {\n",
    "      'int': 0,\n",
    "      'float': 0,\n",
    "      'str': 0,\n",
    "      'bool': 0,\n",
    "  }\n",
    "\n",
    "  for el in L:\n",
    "    if type(el) == int:\n",
    "      freq['int'] += 1\n",
    "    if type(el) == float:\n",
    "      freq['float'] += 1\n",
    "    if type(el) == str:\n",
    "      freq['str'] += 1\n",
    "    if type(el) == bool:\n",
    "      freq['bool'] += 1\n",
    "\n",
    "  for key, val in freq.items():\n",
    "    if val == 1:\n",
    "      return key\n",
    "\n",
    "\n",
    "odd_one([2, 13, 16, 4.5])"
   ]
  },
  {
   "cell_type": "markdown",
   "metadata": {},
   "source": [
    "# Templating"
   ]
  },
  {
   "cell_type": "code",
   "execution_count": 104,
   "metadata": {},
   "outputs": [
    {
     "name": "stdout",
     "output_type": "stream",
     "text": [
      "I am Vidhatri, and I am 21 yo.\n",
      "I am Vidhatri, and I am 21 yo.\n"
     ]
    }
   ],
   "source": [
    "name = 'Vidhatri'\n",
    "age = '21'\n",
    "\n",
    "print('I am ' + name + ', and I am ' + age + ' yo.')  # string concat\n",
    "print(f'I am {name}, and I am {age} yo.')  # f-string (format string)"
   ]
  },
  {
   "cell_type": "code",
   "execution_count": 105,
   "metadata": {},
   "outputs": [
    {
     "data": {
      "text/plain": [
       "'I am {name}, and I live in {place}, and I am {mood}'"
      ]
     },
     "execution_count": 105,
     "metadata": {},
     "output_type": "execute_result"
    },
    {
     "data": {
      "text/plain": [
       "'I am Vidhatri, and I live in HBH, and I am happy'"
      ]
     },
     "execution_count": 105,
     "metadata": {},
     "output_type": "execute_result"
    }
   ],
   "source": [
    "name = 'Vidhatri'\n",
    "place = 'HBH'\n",
    "mood = 'happy'\n",
    "\n",
    "'I am {name}, and I live in {place}, and I am {mood}'  # template\n",
    "f'I am {name}, and I live in {place}, and I am {mood}'  # f-string"
   ]
  },
  {
   "cell_type": "code",
   "execution_count": 106,
   "metadata": {},
   "outputs": [
    {
     "name": "stdout",
     "output_type": "stream",
     "text": [
      "I am Vidhatri, and I live in HBH, and I am happy\n",
      "I am Harikesh, and I live in Chandapur, and I am sad\n",
      "I am Muskan, and I live in Raipur, and I am excited\n"
     ]
    }
   ],
   "source": [
    "name = 'Vidhatri'\n",
    "place = 'HBH'\n",
    "mood = 'happy'\n",
    "print(f'I am {name}, and I live in {place}, and I am {mood}')\n",
    "\n",
    "name = 'Harikesh'\n",
    "place = 'Chandapur'\n",
    "mood = 'sad'\n",
    "print(f'I am {name}, and I live in {place}, and I am {mood}')\n",
    "\n",
    "name = 'Muskan'\n",
    "place = 'Raipur'\n",
    "mood = 'excited'\n",
    "print(f'I am {name}, and I live in {place}, and I am {mood}')"
   ]
  },
  {
   "cell_type": "code",
   "execution_count": 107,
   "metadata": {},
   "outputs": [
    {
     "name": "stdout",
     "output_type": "stream",
     "text": [
      "I am MONSTER, and I live in HBH, and I am happy, and I am studying\n",
      "I am MONSTER, and I live in Chandapur, and I am sad, and I am playing\n",
      "I am MONSTER, and I live in Raipur, and I am excited, and I am running\n",
      "I am MONSTER, and I live in Bhadohi, and I am very happy, and I am eating\n",
      "I am MONSTER, and I live in Pune, and I am upset, and I am swimming\n"
     ]
    }
   ],
   "source": [
    "def my_status(name, place, mood, doing):\n",
    "  name = 'MONSTER'\n",
    "  print(f'I am {name}, and I live in {place}, and I am {mood}, and I am {doing}')  # f-string\n",
    "\n",
    "\n",
    "my_status(name='Vidhatri', place='HBH', mood='happy', doing='studying')\n",
    "my_status(name='Harikesh', place='Chandapur', mood='sad', doing='playing')\n",
    "my_status(name='Muskan', place='Raipur', mood='excited', doing='running')\n",
    "my_status(name='Rahul', place='Bhadohi', mood='very happy', doing='eating')\n",
    "my_status(name='Sanika', place='Pune', mood='upset', doing='swimming')"
   ]
  },
  {
   "cell_type": "code",
   "execution_count": 108,
   "metadata": {},
   "outputs": [
    {
     "name": "stdout",
     "output_type": "stream",
     "text": [
      "I am Vidhatri, and I live in HBH, and I am happy, and I am studying\n",
      "I am Harikesh, and I live in Chandapur, and I am sad, and I am playing\n",
      "I am Muskan, and I live in Raipur, and I am excited, and I am running\n",
      "I am Rahul, and I live in Bhadohi, and I am very happy, and I am eating\n",
      "I am Sanika, and I live in Pune, and I am upset, and I am swimming\n"
     ]
    }
   ],
   "source": [
    "from string import Template\n",
    "bio_template = Template('I am $name, and I live in $place, and I am $mood, and I am $doing')\n",
    "print(bio_template.substitute(name='Vidhatri', place='HBH', mood='happy', doing='studying'))\n",
    "print(bio_template.substitute(name='Harikesh', place='Chandapur', mood='sad', doing='playing'))\n",
    "print(bio_template.substitute(name='Muskan', place='Raipur', mood='excited', doing='running'))\n",
    "print(bio_template.substitute(name='Rahul', place='Bhadohi', mood='very happy', doing='eating'))\n",
    "print(bio_template.substitute(name='Sanika', place='Pune', mood='upset', doing='swimming'))"
   ]
  },
  {
   "cell_type": "code",
   "execution_count": 109,
   "metadata": {},
   "outputs": [
    {
     "name": "stdout",
     "output_type": "stream",
     "text": [
      "I am Vidhatri, and I live in HBH, and I am happy, and I am studying\n",
      "I am Harikesh, and I live in Chandapur, and I am sad, and I am playing\n",
      "I am Muskan, and I live in Raipur, and I am excited, and I am running\n",
      "I am Rahul, and I live in Bhadohi, and I am very happy, and I am eating\n",
      "I am Sanika, and I live in Pune, and I am upset, and I am swimming\n"
     ]
    }
   ],
   "source": [
    "from jinja2 import Template\n",
    "bio_template = Template('I am {{name}}, and I live in {{place}}, and I am {{mood}}, and I am {{doing}}')\n",
    "print(bio_template.render(name='Vidhatri', place='HBH', mood='happy', doing='studying'))\n",
    "print(bio_template.render(name='Harikesh', place='Chandapur', mood='sad', doing='playing'))\n",
    "print(bio_template.render(name='Muskan', place='Raipur', mood='excited', doing='running'))\n",
    "print(bio_template.render(name='Rahul', place='Bhadohi', mood='very happy', doing='eating'))\n",
    "print(bio_template.render(name='Sanika', place='Pune', mood='upset', doing='swimming'))"
   ]
  },
  {
   "cell_type": "markdown",
   "metadata": {},
   "source": [
    "# HTML Templating"
   ]
  },
  {
   "cell_type": "code",
   "execution_count": 110,
   "metadata": {},
   "outputs": [
    {
     "data": {
      "text/plain": [
       "'body {background-color: red;}'"
      ]
     },
     "execution_count": 110,
     "metadata": {},
     "output_type": "execute_result"
    },
    {
     "data": {
      "text/plain": [
       "'body {background-color: blue;}'"
      ]
     },
     "execution_count": 110,
     "metadata": {},
     "output_type": "execute_result"
    },
    {
     "data": {
      "text/plain": [
       "'body {background-color: orange;}'"
      ]
     },
     "execution_count": 110,
     "metadata": {},
     "output_type": "execute_result"
    }
   ],
   "source": [
    "'body {background-color: red;}'\n",
    "'body {background-color: blue;}'\n",
    "'body {background-color: orange;}'"
   ]
  },
  {
   "cell_type": "code",
   "execution_count": 111,
   "metadata": {},
   "outputs": [
    {
     "data": {
      "text/plain": [
       "'body {background-color: magenta;}'"
      ]
     },
     "execution_count": 111,
     "metadata": {},
     "output_type": "execute_result"
    },
    {
     "data": {
      "text/plain": [
       "'body {background-color: cyan;}'"
      ]
     },
     "execution_count": 111,
     "metadata": {},
     "output_type": "execute_result"
    },
    {
     "data": {
      "text/plain": [
       "'body {background-color: tomato;}'"
      ]
     },
     "execution_count": 111,
     "metadata": {},
     "output_type": "execute_result"
    }
   ],
   "source": [
    "bg_color = 'magenta'\n",
    "f'body {{background-color: {bg_color};}}'\n",
    "\n",
    "bg_color = 'cyan'\n",
    "f'body {{background-color: {bg_color};}}'\n",
    "\n",
    "bg_color = 'tomato'\n",
    "f'body {{background-color: {bg_color};}}'"
   ]
  },
  {
   "cell_type": "code",
   "execution_count": 112,
   "metadata": {},
   "outputs": [
    {
     "name": "stdout",
     "output_type": "stream",
     "text": [
      "\n",
      "  body {\n",
      "          background-color: yellow;\n",
      "          color: blue;\n",
      "          font-family: cursive;\n",
      "        }\n",
      "  \n",
      "\n",
      "  body {\n",
      "          background-color: magenta;\n",
      "          color: white;\n",
      "          font-family: Arial;\n",
      "        }\n",
      "  \n"
     ]
    }
   ],
   "source": [
    "def get_body_styles(bg_color, text_color, ftf):\n",
    "  return f\"\"\"\n",
    "  body {{\n",
    "          background-color: {bg_color};\n",
    "          color: {text_color};\n",
    "          font-family: {ftf};\n",
    "        }}\n",
    "  \"\"\"\n",
    "\n",
    "\n",
    "print(get_body_styles(bg_color='yellow', text_color='blue', ftf='cursive'))\n",
    "print(get_body_styles(bg_color='magenta', text_color='white', ftf='Arial'))"
   ]
  },
  {
   "cell_type": "code",
   "execution_count": 113,
   "metadata": {},
   "outputs": [
    {
     "data": {
      "text/plain": [
       "'<h1>I am Vidhatri</h1>'"
      ]
     },
     "execution_count": 113,
     "metadata": {},
     "output_type": "execute_result"
    },
    {
     "data": {
      "text/plain": [
       "'<h1>Welcome to HBH</h1>'"
      ]
     },
     "execution_count": 113,
     "metadata": {},
     "output_type": "execute_result"
    },
    {
     "data": {
      "text/plain": [
       "'<h1>This is my blog!!</h1>'"
      ]
     },
     "execution_count": 113,
     "metadata": {},
     "output_type": "execute_result"
    }
   ],
   "source": [
    "'<h1>I am Vidhatri</h1>'\n",
    "'<h1>Welcome to HBH</h1>'\n",
    "'<h1>This is my blog!!</h1>'"
   ]
  },
  {
   "cell_type": "code",
   "execution_count": 114,
   "metadata": {},
   "outputs": [
    {
     "data": {
      "text/plain": [
       "'<h1>I am Rahul</h1>'"
      ]
     },
     "execution_count": 114,
     "metadata": {},
     "output_type": "execute_result"
    },
    {
     "data": {
      "text/plain": [
       "'<h1>This is my blog!!</h1>'"
      ]
     },
     "execution_count": 114,
     "metadata": {},
     "output_type": "execute_result"
    }
   ],
   "source": [
    "text = 'I am Rahul'\n",
    "# '<h1>' + text + '</h1>'\n",
    "f'<h1>{text}</h1>'\n",
    "\n",
    "text = 'This is my blog!!'\n",
    "# '<h1>' + text + '</h1>'\n",
    "f'<h1>{text}</h1>'"
   ]
  },
  {
   "cell_type": "markdown",
   "metadata": {},
   "source": [
    "# Using code to generate markup"
   ]
  },
  {
   "cell_type": "code",
   "execution_count": 115,
   "metadata": {},
   "outputs": [
    {
     "data": {
      "text/plain": [
       "'<h1>I am Vidhatri</h1>'"
      ]
     },
     "execution_count": 115,
     "metadata": {},
     "output_type": "execute_result"
    },
    {
     "data": {
      "text/plain": [
       "'<h1>Welcome to HBH!!</h1>'"
      ]
     },
     "execution_count": 115,
     "metadata": {},
     "output_type": "execute_result"
    }
   ],
   "source": [
    "def h1(text):\n",
    "  # return '<h1>' + text + '</h1>'\n",
    "  return f'<h1>{text}</h1>'\n",
    "\n",
    "\n",
    "h1('I am Vidhatri')\n",
    "h1('Welcome to HBH!!')"
   ]
  },
  {
   "cell_type": "code",
   "execution_count": 116,
   "metadata": {},
   "outputs": [
    {
     "data": {
      "text/plain": [
       "'<h2>Today is a beautiful day!</h2>'"
      ]
     },
     "execution_count": 116,
     "metadata": {},
     "output_type": "execute_result"
    },
    {
     "data": {
      "text/plain": [
       "'<h2>Sale is live!!! Huge offers available!!</h2>'"
      ]
     },
     "execution_count": 116,
     "metadata": {},
     "output_type": "execute_result"
    }
   ],
   "source": [
    "def h2(text):\n",
    "  return f'<h2>{text}</h2>'\n",
    "\n",
    "\n",
    "h2('Today is a beautiful day!')\n",
    "h2('Sale is live!!! Huge offers available!!')"
   ]
  },
  {
   "cell_type": "code",
   "execution_count": 117,
   "metadata": {},
   "outputs": [
    {
     "data": {
      "text/plain": [
       "'<h2>Today is a beautiful day!</h2>'"
      ]
     },
     "execution_count": 117,
     "metadata": {},
     "output_type": "execute_result"
    },
    {
     "data": {
      "text/plain": [
       "'<h2>Sale is live!!! Huge offers available!!</h2>'"
      ]
     },
     "execution_count": 117,
     "metadata": {},
     "output_type": "execute_result"
    }
   ],
   "source": [
    "def h3(text):\n",
    "  return f'<h2>{text}</h2>'\n",
    "\n",
    "\n",
    "h2('Today is a beautiful day!')\n",
    "h2('Sale is live!!! Huge offers available!!')"
   ]
  },
  {
   "cell_type": "code",
   "execution_count": 118,
   "metadata": {},
   "outputs": [
    {
     "data": {
      "text/plain": [
       "'<div class=>I am Vidhatri, and I am happy!!!</div>'"
      ]
     },
     "execution_count": 118,
     "metadata": {},
     "output_type": "execute_result"
    },
    {
     "data": {
      "text/plain": [
       "'<div class=>Codeforces div 4 is live!!! Good luck!!</div>'"
      ]
     },
     "execution_count": 118,
     "metadata": {},
     "output_type": "execute_result"
    }
   ],
   "source": [
    "def div(text, klass=''):\n",
    "  return f'<div class={klass}>{text}</div>'\n",
    "\n",
    "\n",
    "div('I am Vidhatri, and I am happy!!!')\n",
    "div('Codeforces div 4 is live!!! Good luck!!')"
   ]
  },
  {
   "cell_type": "code",
   "execution_count": 119,
   "metadata": {},
   "outputs": [
    {
     "data": {
      "text/plain": [
       "'<div class=><h1>I am Vidhatri</h1><h2>Welcome to Pryj!!</h2></div>'"
      ]
     },
     "execution_count": 119,
     "metadata": {},
     "output_type": "execute_result"
    }
   ],
   "source": [
    "div(h1('I am Vidhatri') + h3('Welcome to Pryj!!'))"
   ]
  },
  {
   "cell_type": "code",
   "execution_count": 120,
   "metadata": {},
   "outputs": [
    {
     "data": {
      "text/plain": [
       "'<div class=heading>I am Rahul</div>'"
      ]
     },
     "execution_count": 120,
     "metadata": {},
     "output_type": "execute_result"
    },
    {
     "data": {
      "text/plain": [
       "'<div class=message>Welcome to HBH!!!</div>'"
      ]
     },
     "execution_count": 120,
     "metadata": {},
     "output_type": "execute_result"
    },
    {
     "data": {
      "text/plain": [
       "'<div class=>I am happy!!!</div>'"
      ]
     },
     "execution_count": 120,
     "metadata": {},
     "output_type": "execute_result"
    }
   ],
   "source": [
    "div('I am Rahul', klass='heading')  # class=heading\n",
    "div('Welcome to HBH!!!', klass='message')  # class=message\n",
    "div('I am happy!!!',)"
   ]
  },
  {
   "cell_type": "markdown",
   "metadata": {},
   "source": [
    "# PyHTML"
   ]
  },
  {
   "cell_type": "code",
   "execution_count": 136,
   "metadata": {},
   "outputs": [],
   "source": [
    "from pyhtml import div, h1, h2, h3, html, head, body, title"
   ]
  },
  {
   "cell_type": "code",
   "execution_count": 122,
   "metadata": {},
   "outputs": [
    {
     "name": "stdout",
     "output_type": "stream",
     "text": [
      "<h1>\n",
      "  I am Vidhatri\n",
      "</h1>\n",
      "<h2>\n",
      "  Welcome to HBH!!!\n",
      "</h2>\n"
     ]
    }
   ],
   "source": [
    "print(h1('I am Vidhatri').render())\n",
    "print(h2('Welcome to HBH!!!').render())"
   ]
  },
  {
   "cell_type": "code",
   "execution_count": 128,
   "metadata": {},
   "outputs": [
    {
     "name": "stdout",
     "output_type": "stream",
     "text": [
      "<div>\n",
      "  <h1>\n",
      "    I am Vaishnvi\n",
      "  </h1>\n",
      "</div>\n"
     ]
    }
   ],
   "source": [
    "print(div(h1('I am Vaishnvi')))"
   ]
  },
  {
   "cell_type": "code",
   "execution_count": 140,
   "metadata": {},
   "outputs": [
    {
     "name": "stdout",
     "output_type": "stream",
     "text": [
      "<!DOCTYPE html>\n",
      "<html>\n",
      "  <head>\n",
      "    <title>\n",
      "      This is my website\n",
      "    </title>\n",
      "  </head>\n",
      "  <body>\n",
      "    <h1>\n",
      "      You are welcome here!\n",
      "    </h1>\n",
      "    <div>\n",
      "      This website is made using PyHTML\n",
      "    </div>\n",
      "  </body>\n",
      "</html>\n"
     ]
    }
   ],
   "source": [
    "doc = html(\n",
    "    head(\n",
    "        title('This is my website')\n",
    "    ),\n",
    "    body(\n",
    "        h1('You are welcome here!'),\n",
    "        div('This website is made using PyHTML')\n",
    "    )\n",
    ")\n",
    "print(doc)"
   ]
  }
 ],
 "metadata": {
  "kernelspec": {
   "display_name": "Python 3",
   "language": "python",
   "name": "python3"
  },
  "language_info": {
   "codemirror_mode": {
    "name": "ipython",
    "version": 3
   },
   "file_extension": ".py",
   "mimetype": "text/x-python",
   "name": "python",
   "nbconvert_exporter": "python",
   "pygments_lexer": "ipython3",
   "version": "3.12.6"
  }
 },
 "nbformat": 4,
 "nbformat_minor": 2
}
