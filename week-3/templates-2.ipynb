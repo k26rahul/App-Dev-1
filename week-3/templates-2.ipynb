{
 "cells": [
  {
   "cell_type": "markdown",
   "metadata": {},
   "source": [
    "# Templating"
   ]
  },
  {
   "cell_type": "code",
   "execution_count": 34,
   "metadata": {},
   "outputs": [
    {
     "name": "stdout",
     "output_type": "stream",
     "text": [
      "I am Vidhatri, and I am 21 yo.\n",
      "I am Vidhatri, and I am 21 yo.\n"
     ]
    }
   ],
   "source": [
    "name = 'Vidhatri'\n",
    "age = '21'\n",
    "\n",
    "print('I am ' + name + ', and I am ' + age + ' yo.')  # string concat\n",
    "print(f'I am {name}, and I am {age} yo.')  # f-string (format string)"
   ]
  },
  {
   "cell_type": "code",
   "execution_count": 35,
   "metadata": {},
   "outputs": [
    {
     "data": {
      "text/plain": [
       "'I am {name}, and I live in {place}, and I am {mood}'"
      ]
     },
     "execution_count": 35,
     "metadata": {},
     "output_type": "execute_result"
    },
    {
     "data": {
      "text/plain": [
       "'I am Vidhatri, and I live in HBH, and I am happy'"
      ]
     },
     "execution_count": 35,
     "metadata": {},
     "output_type": "execute_result"
    }
   ],
   "source": [
    "name = 'Vidhatri'\n",
    "place = 'HBH'\n",
    "mood = 'happy'\n",
    "\n",
    "'I am {name}, and I live in {place}, and I am {mood}'  # template\n",
    "f'I am {name}, and I live in {place}, and I am {mood}'  # f-string"
   ]
  },
  {
   "cell_type": "code",
   "execution_count": 36,
   "metadata": {},
   "outputs": [
    {
     "name": "stdout",
     "output_type": "stream",
     "text": [
      "I am Vidhatri, and I live in HBH, and I am happy\n",
      "I am Harikesh, and I live in Chandapur, and I am sad\n",
      "I am Muskan, and I live in Raipur, and I am excited\n"
     ]
    }
   ],
   "source": [
    "name = 'Vidhatri'\n",
    "place = 'HBH'\n",
    "mood = 'happy'\n",
    "print(f'I am {name}, and I live in {place}, and I am {mood}')\n",
    "\n",
    "name = 'Harikesh'\n",
    "place = 'Chandapur'\n",
    "mood = 'sad'\n",
    "print(f'I am {name}, and I live in {place}, and I am {mood}')\n",
    "\n",
    "name = 'Muskan'\n",
    "place = 'Raipur'\n",
    "mood = 'excited'\n",
    "print(f'I am {name}, and I live in {place}, and I am {mood}')"
   ]
  },
  {
   "cell_type": "code",
   "execution_count": 37,
   "metadata": {},
   "outputs": [
    {
     "name": "stdout",
     "output_type": "stream",
     "text": [
      "I am VIDHATRI, and I live in HBH, and I am happy, and I am studying\n",
      "I am HARIKESH, and I live in Chandapur, and I am sad, and I am playing\n",
      "I am MUSKAN, and I live in Raipur, and I am excited, and I am running\n"
     ]
    }
   ],
   "source": [
    "def my_status(name, place, mood, doing):\n",
    "  print(f'I am {name.upper()}, and I live in {place}, and I am {mood}, and I am {doing}')\n",
    "\n",
    "\n",
    "my_status(name='Vidhatri', place='HBH', mood='happy', doing='studying')\n",
    "my_status(name='Harikesh', place='Chandapur', mood='sad', doing='playing')\n",
    "my_status(name='Muskan', place='Raipur', mood='excited', doing='running')"
   ]
  },
  {
   "cell_type": "markdown",
   "metadata": {},
   "source": [
    "# string.Template"
   ]
  },
  {
   "cell_type": "code",
   "execution_count": 38,
   "metadata": {},
   "outputs": [
    {
     "name": "stdout",
     "output_type": "stream",
     "text": [
      "I am Vidhatri, and I live in HBH, and I am happy, and I am studying\n",
      "I am Harikesh, and I live in Chandapur, and I am sad, and I am playing\n",
      "I am Muskan, and I live in Raipur, and I am excited, and I am running\n"
     ]
    }
   ],
   "source": [
    "from string import Template\n",
    "bio_template = Template('I am $name, and I live in $place, and I am $mood, and I am $doing')\n",
    "print(bio_template.substitute(name='Vidhatri', place='HBH', mood='happy', doing='studying'))\n",
    "print(bio_template.substitute(name='Harikesh', place='Chandapur', mood='sad', doing='playing'))\n",
    "print(bio_template.substitute(name='Muskan', place='Raipur', mood='excited', doing='running'))"
   ]
  },
  {
   "cell_type": "markdown",
   "metadata": {},
   "source": [
    "# jinja2"
   ]
  },
  {
   "cell_type": "code",
   "execution_count": 39,
   "metadata": {},
   "outputs": [
    {
     "name": "stdout",
     "output_type": "stream",
     "text": [
      "I am Vidhatri, and I live in HBH, and I am happy, and I am studying\n",
      "I am Harikesh, and I live in Chandapur, and I am sad, and I am playing\n",
      "I am Muskan, and I live in Raipur, and I am excited, and I am running\n"
     ]
    }
   ],
   "source": [
    "from jinja2 import Template\n",
    "bio_template = Template('I am {{name}}, and I live in {{place}}, and I am {{mood}}, and I am {{doing}}')\n",
    "print(bio_template.render(name='Vidhatri', place='HBH', mood='happy', doing='studying'))\n",
    "print(bio_template.render(name='Harikesh', place='Chandapur', mood='sad', doing='playing'))\n",
    "print(bio_template.render(name='Muskan', place='Raipur', mood='excited', doing='running'))"
   ]
  },
  {
   "cell_type": "markdown",
   "metadata": {},
   "source": [
    "# HTML Templating"
   ]
  },
  {
   "cell_type": "code",
   "execution_count": 40,
   "metadata": {},
   "outputs": [
    {
     "data": {
      "text/plain": [
       "'body {background-color: red;}'"
      ]
     },
     "execution_count": 40,
     "metadata": {},
     "output_type": "execute_result"
    },
    {
     "data": {
      "text/plain": [
       "'body {background-color: blue;}'"
      ]
     },
     "execution_count": 40,
     "metadata": {},
     "output_type": "execute_result"
    }
   ],
   "source": [
    "'body {background-color: red;}'\n",
    "'body {background-color: blue;}'"
   ]
  },
  {
   "cell_type": "code",
   "execution_count": 41,
   "metadata": {},
   "outputs": [
    {
     "data": {
      "text/plain": [
       "'body {background-color: magenta;}'"
      ]
     },
     "execution_count": 41,
     "metadata": {},
     "output_type": "execute_result"
    },
    {
     "data": {
      "text/plain": [
       "'body {background-color: cyan;}'"
      ]
     },
     "execution_count": 41,
     "metadata": {},
     "output_type": "execute_result"
    }
   ],
   "source": [
    "bg_color = 'magenta'\n",
    "f'body {{background-color: {bg_color};}}'\n",
    "\n",
    "bg_color = 'cyan'\n",
    "f'body {{background-color: {bg_color};}}'"
   ]
  },
  {
   "cell_type": "code",
   "execution_count": 42,
   "metadata": {},
   "outputs": [
    {
     "name": "stdout",
     "output_type": "stream",
     "text": [
      "\n",
      "  body {\n",
      "          background-color: yellow;\n",
      "          color: blue;\n",
      "          font-family: cursive;\n",
      "        }\n",
      "  \n",
      "\n",
      "  body {\n",
      "          background-color: magenta;\n",
      "          color: white;\n",
      "          font-family: Arial;\n",
      "        }\n",
      "  \n"
     ]
    }
   ],
   "source": [
    "def get_body_styles(bg_color, text_color, ftf):\n",
    "  return f\"\"\"\n",
    "  body {{\n",
    "          background-color: {bg_color};\n",
    "          color: {text_color};\n",
    "          font-family: {ftf};\n",
    "        }}\n",
    "  \"\"\"\n",
    "\n",
    "\n",
    "print(get_body_styles(bg_color='yellow', text_color='blue', ftf='cursive'))\n",
    "print(get_body_styles(bg_color='magenta', text_color='white', ftf='Arial'))"
   ]
  },
  {
   "cell_type": "code",
   "execution_count": 43,
   "metadata": {},
   "outputs": [
    {
     "data": {
      "text/plain": [
       "'<h1>I am Vidhatri</h1>'"
      ]
     },
     "execution_count": 43,
     "metadata": {},
     "output_type": "execute_result"
    },
    {
     "data": {
      "text/plain": [
       "'<h2>Welcome to HBH</h2>'"
      ]
     },
     "execution_count": 43,
     "metadata": {},
     "output_type": "execute_result"
    },
    {
     "data": {
      "text/plain": [
       "'<div>This is my blog!!</div>'"
      ]
     },
     "execution_count": 43,
     "metadata": {},
     "output_type": "execute_result"
    }
   ],
   "source": [
    "'<h1>I am Vidhatri</h1>'\n",
    "'<h2>Welcome to HBH</h2>'\n",
    "'<div>This is my blog!!</div>'"
   ]
  },
  {
   "cell_type": "code",
   "execution_count": 44,
   "metadata": {},
   "outputs": [
    {
     "data": {
      "text/plain": [
       "'<h1>I am Rahul</h1>'"
      ]
     },
     "execution_count": 44,
     "metadata": {},
     "output_type": "execute_result"
    },
    {
     "data": {
      "text/plain": [
       "'<h1>This is my blog!!</h1>'"
      ]
     },
     "execution_count": 44,
     "metadata": {},
     "output_type": "execute_result"
    }
   ],
   "source": [
    "text = 'I am Rahul'\n",
    "f'<h1>{text}</h1>'\n",
    "\n",
    "text = 'This is my blog!!'\n",
    "f'<h1>{text}</h1>'"
   ]
  },
  {
   "cell_type": "markdown",
   "metadata": {},
   "source": [
    "# Using code to generate markup"
   ]
  },
  {
   "cell_type": "code",
   "execution_count": 45,
   "metadata": {},
   "outputs": [
    {
     "data": {
      "text/plain": [
       "'<h1>I am Vidhatri</h1>'"
      ]
     },
     "execution_count": 45,
     "metadata": {},
     "output_type": "execute_result"
    },
    {
     "data": {
      "text/plain": [
       "'<h1>Welcome to HBH!!</h1>'"
      ]
     },
     "execution_count": 45,
     "metadata": {},
     "output_type": "execute_result"
    }
   ],
   "source": [
    "def h1(text):\n",
    "  return f'<h1>{text}</h1>'\n",
    "\n",
    "\n",
    "h1('I am Vidhatri')\n",
    "h1('Welcome to HBH!!')"
   ]
  },
  {
   "cell_type": "code",
   "execution_count": 46,
   "metadata": {},
   "outputs": [
    {
     "data": {
      "text/plain": [
       "'<h2>Today is a beautiful day!</h2>'"
      ]
     },
     "execution_count": 46,
     "metadata": {},
     "output_type": "execute_result"
    },
    {
     "data": {
      "text/plain": [
       "'<h2>Sale is live!!! Huge offers available!!</h2>'"
      ]
     },
     "execution_count": 46,
     "metadata": {},
     "output_type": "execute_result"
    }
   ],
   "source": [
    "def h2(text):\n",
    "  return f'<h2>{text}</h2>'\n",
    "\n",
    "\n",
    "h2('Today is a beautiful day!')\n",
    "h2('Sale is live!!! Huge offers available!!')"
   ]
  },
  {
   "cell_type": "code",
   "execution_count": 47,
   "metadata": {},
   "outputs": [
    {
     "data": {
      "text/plain": [
       "'<div class=\"\">I am Vidhatri, and I am happy!!!</div>'"
      ]
     },
     "execution_count": 47,
     "metadata": {},
     "output_type": "execute_result"
    },
    {
     "data": {
      "text/plain": [
       "'<div class=\"\">Codeforces div 4 is live!!! Good luck!!</div>'"
      ]
     },
     "execution_count": 47,
     "metadata": {},
     "output_type": "execute_result"
    }
   ],
   "source": [
    "def div(text, klass=''):\n",
    "  return f'<div class=\"{klass}\">{text}</div>'\n",
    "\n",
    "\n",
    "div('I am Vidhatri, and I am happy!!!')\n",
    "div('Codeforces div 4 is live!!! Good luck!!')"
   ]
  },
  {
   "cell_type": "code",
   "execution_count": 48,
   "metadata": {},
   "outputs": [
    {
     "data": {
      "text/plain": [
       "'<div class=\"heading\">I am Rahul</div>'"
      ]
     },
     "execution_count": 48,
     "metadata": {},
     "output_type": "execute_result"
    },
    {
     "data": {
      "text/plain": [
       "'<div class=\"message\">Welcome to HBH!!!</div>'"
      ]
     },
     "execution_count": 48,
     "metadata": {},
     "output_type": "execute_result"
    },
    {
     "data": {
      "text/plain": [
       "'<div class=\"big message\">I am happy!!!</div>'"
      ]
     },
     "execution_count": 48,
     "metadata": {},
     "output_type": "execute_result"
    }
   ],
   "source": [
    "div('I am Rahul', klass='heading')  # class=heading\n",
    "div('Welcome to HBH!!!', klass='message')  # class=message\n",
    "div('I am happy!!!', klass='big message')"
   ]
  },
  {
   "cell_type": "code",
   "execution_count": 49,
   "metadata": {},
   "outputs": [
    {
     "data": {
      "text/plain": [
       "'<div class=\"\"></div>'"
      ]
     },
     "execution_count": 49,
     "metadata": {},
     "output_type": "execute_result"
    },
    {
     "data": {
      "text/plain": [
       "'<h1>I am Vidhatri</h1>'"
      ]
     },
     "execution_count": 49,
     "metadata": {},
     "output_type": "execute_result"
    },
    {
     "data": {
      "text/plain": [
       "'<div class=\"\"><h1>I am Vidhatri</h1></div>'"
      ]
     },
     "execution_count": 49,
     "metadata": {},
     "output_type": "execute_result"
    }
   ],
   "source": [
    "div('')\n",
    "h1('I am Vidhatri')\n",
    "div(h1('I am Vidhatri'))"
   ]
  },
  {
   "cell_type": "markdown",
   "metadata": {},
   "source": [
    "# PyHTML"
   ]
  },
  {
   "cell_type": "code",
   "execution_count": 50,
   "metadata": {},
   "outputs": [],
   "source": [
    "from pyhtml import div, h1, h2, h3, html, head, body, title"
   ]
  },
  {
   "cell_type": "code",
   "execution_count": 51,
   "metadata": {},
   "outputs": [
    {
     "name": "stdout",
     "output_type": "stream",
     "text": [
      "<h1>\n",
      "  I am Vidhatri\n",
      "</h1>\n",
      "<h2>\n",
      "  Welcome to HBH!!!\n",
      "</h2>\n"
     ]
    }
   ],
   "source": [
    "print(h1('I am Vidhatri'))\n",
    "print(h2('Welcome to HBH!!!'))"
   ]
  },
  {
   "cell_type": "code",
   "execution_count": 52,
   "metadata": {},
   "outputs": [
    {
     "name": "stdout",
     "output_type": "stream",
     "text": [
      "<div>\n",
      "  <h1>\n",
      "    I am Vaishnvi\n",
      "  </h1>\n",
      "</div>\n"
     ]
    }
   ],
   "source": [
    "print(div(h1('I am Vaishnvi')))"
   ]
  },
  {
   "cell_type": "code",
   "execution_count": 53,
   "metadata": {},
   "outputs": [
    {
     "name": "stdout",
     "output_type": "stream",
     "text": [
      "<!DOCTYPE html>\n",
      "<html>\n",
      "  <head>\n",
      "    <title>\n",
      "      This is my website\n",
      "    </title>\n",
      "  </head>\n",
      "  <body>\n",
      "    <h1>\n",
      "      You are welcome here!\n",
      "    </h1>\n",
      "    <div>\n",
      "      This website is made using PyHTML\n",
      "    </div>\n",
      "  </body>\n",
      "</html>\n"
     ]
    }
   ],
   "source": [
    "doc = html(\n",
    "    head(\n",
    "        title('This is my website')\n",
    "    ),\n",
    "    body(\n",
    "        h1('You are welcome here!'),\n",
    "        div('This website is made using PyHTML')\n",
    "    )\n",
    ")\n",
    "print(doc)"
   ]
  }
 ],
 "metadata": {
  "kernelspec": {
   "display_name": "Python 3",
   "language": "python",
   "name": "python3"
  },
  "language_info": {
   "codemirror_mode": {
    "name": "ipython",
    "version": 3
   },
   "file_extension": ".py",
   "mimetype": "text/x-python",
   "name": "python",
   "nbconvert_exporter": "python",
   "pygments_lexer": "ipython3",
   "version": "3.12.6"
  }
 },
 "nbformat": 4,
 "nbformat_minor": 2
}
