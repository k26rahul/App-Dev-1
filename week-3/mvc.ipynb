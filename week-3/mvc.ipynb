{
 "cells": [
  {
   "cell_type": "code",
   "execution_count": 10,
   "metadata": {},
   "outputs": [
    {
     "name": "stdout",
     "output_type": "stream",
     "text": [
      "[10, 20]\n",
      "2\n",
      "20\n"
     ]
    }
   ],
   "source": [
    "class Stack:  # blueprint for a stack object\n",
    "  def __init__(self):\n",
    "    self.data = []  # data is a property of stack\n",
    "    self.size = 0  # size also is a property of stack\n",
    "\n",
    "  def push(self, value):\n",
    "    self.data.append(value)\n",
    "    self.size += 1\n",
    "\n",
    "  def pop(self):\n",
    "    self.size -= 1\n",
    "    return self.data.pop()\n",
    "\n",
    "  def is_empty(self):\n",
    "    return self.data == [] # self refers to object instance\n",
    "\n",
    "\n",
    "# my_stack as an object (instance) of class Stack\n",
    "my_stack = Stack()\n",
    "my_stack.push(10)\n",
    "my_stack.push(20)\n",
    "print(my_stack.data)\n",
    "print(my_stack.size)\n",
    "print(my_stack.pop())"
   ]
  },
  {
   "cell_type": "code",
   "execution_count": 15,
   "metadata": {},
   "outputs": [
    {
     "name": "stdout",
     "output_type": "stream",
     "text": [
      "my_stack=[10, 20, 30]\n",
      "size=3\n"
     ]
    }
   ],
   "source": [
    "# stack without a class\n",
    "\n",
    "def push(stack, size, value):\n",
    "  stack.append(value)\n",
    "  size += 1\n",
    "  return size\n",
    "\n",
    "\n",
    "def pop(stack, size):\n",
    "  size -= 1\n",
    "  return stack.pop(), size\n",
    "\n",
    "\n",
    "def is_empty(stack):\n",
    "  return stack == []\n",
    "\n",
    "\n",
    "my_stack = []\n",
    "size = 0\n",
    "\n",
    "size = push(my_stack, size, 10)\n",
    "size = push(my_stack, size, 20)\n",
    "size = push(my_stack, size, 30)\n",
    "print(f'{my_stack=}')\n",
    "print(f'{size=}')"
   ]
  },
  {
   "cell_type": "code",
   "execution_count": 8,
   "metadata": {},
   "outputs": [],
   "source": [
    "# Stack: LI-FO\n",
    "# in: 10, 20, 30, 40, 50\n",
    "# out: 50, ...\n",
    "\n",
    "# Queue: FI-FO\n",
    "# in: 10, 20, 30, 40, 50\n",
    "# out: 10, ..."
   ]
  },
  {
   "cell_type": "code",
   "execution_count": 27,
   "metadata": {},
   "outputs": [
    {
     "name": "stdout",
     "output_type": "stream",
     "text": [
      "starting the orange audi\n",
      "accelerating the orange audi\n",
      "accelerating the orange audi\n",
      "accelerating the orange audi\n",
      "accelerating the orange audi\n"
     ]
    },
    {
     "data": {
      "text/plain": [
       "40"
      ]
     },
     "execution_count": 27,
     "metadata": {},
     "output_type": "execute_result"
    },
    {
     "data": {
      "text/plain": [
       "'off'"
      ]
     },
     "execution_count": 27,
     "metadata": {},
     "output_type": "execute_result"
    },
    {
     "name": "stdout",
     "output_type": "stream",
     "text": [
      "braking the orange audi\n",
      "braking the orange audi\n",
      "starting the green toyota\n"
     ]
    },
    {
     "data": {
      "text/plain": [
       "20"
      ]
     },
     "execution_count": 27,
     "metadata": {},
     "output_type": "execute_result"
    },
    {
     "data": {
      "text/plain": [
       "'on'"
      ]
     },
     "execution_count": 27,
     "metadata": {},
     "output_type": "execute_result"
    }
   ],
   "source": [
    "class Car:\n",
    "  def __init__(self, model, color, fuel_type, nos_seats):\n",
    "    self.model = model\n",
    "    self.color = color\n",
    "    self.fuel_type = fuel_type\n",
    "    self.nos_seats = nos_seats\n",
    "    self.status = 'off'\n",
    "    self.speed = 0\n",
    "\n",
    "  def start(self):\n",
    "    self.status = 'on'\n",
    "    print(f'starting the {self.color} {self.model}')\n",
    "\n",
    "  def accelerate(self):\n",
    "    self.speed += 10\n",
    "    print(f'accelerating the {self.color} {self.model}')\n",
    "\n",
    "  def brake(self):\n",
    "    self.speed -= 10\n",
    "    print(f'braking the {self.color} {self.model}')\n",
    "\n",
    "\n",
    "red_toyota = Car('toyota', 'red', 'petrol', 5)\n",
    "green_toyota = Car('toyota', 'green', 'cng', 7)\n",
    "orange_audi = Car('audi', 'orange', 'petrol', 4)\n",
    "\n",
    "orange_audi.start()\n",
    "orange_audi.accelerate()\n",
    "orange_audi.accelerate()\n",
    "orange_audi.accelerate()\n",
    "orange_audi.accelerate()\n",
    "orange_audi.speed\n",
    "green_toyota.status\n",
    "\n",
    "orange_audi.brake()\n",
    "orange_audi.brake()\n",
    "green_toyota.start()\n",
    "orange_audi.speed\n",
    "green_toyota.status"
   ]
  },
  {
   "cell_type": "code",
   "execution_count": 29,
   "metadata": {},
   "outputs": [],
   "source": [
    "age = 15  # int\n",
    "\n",
    "age = '15'  # str"
   ]
  }
 ],
 "metadata": {
  "kernelspec": {
   "display_name": "Python 3",
   "language": "python",
   "name": "python3"
  },
  "language_info": {
   "codemirror_mode": "typescript",
   "file_extension": ".ts",
   "mimetype": "text/x.typescript",
   "name": "python",
   "nbconvert_exporter": "script",
   "pygments_lexer": "typescript",
   "version": "3.12.6"
  }
 },
 "nbformat": 4,
 "nbformat_minor": 2
}
