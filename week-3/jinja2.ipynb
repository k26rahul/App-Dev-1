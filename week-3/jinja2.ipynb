{
 "cells": [
  {
   "cell_type": "code",
   "execution_count": 4,
   "metadata": {},
   "outputs": [],
   "source": [
    "from jinja2 import Template"
   ]
  },
  {
   "cell_type": "markdown",
   "metadata": {},
   "source": [
    "# people_places"
   ]
  },
  {
   "cell_type": "code",
   "execution_count": 5,
   "metadata": {},
   "outputs": [],
   "source": [
    "people_places = [\n",
    "    [\"Vidu\", \"HBH\"],\n",
    "    [\"Rahul\", \"Bhadohi\"],\n",
    "    [\"Harikesh\", \"Bhadohi\"],\n",
    "    [\"Muskan\", \"Raipur\"],\n",
    "    [\"Vaish\", \"Indore\"]\n",
    "]"
   ]
  },
  {
   "cell_type": "code",
   "execution_count": 6,
   "metadata": {},
   "outputs": [],
   "source": [
    "template_str = \"\"\"\n",
    "<div>\n",
    "  {% for person, place in people_places %}\n",
    "  <p>\n",
    "    I am {{ person }}, I live in {{ place }}\n",
    "  </p>\n",
    "  {% endfor %}\n",
    "</div>\n",
    "\"\"\""
   ]
  },
  {
   "cell_type": "code",
   "execution_count": 11,
   "metadata": {},
   "outputs": [
    {
     "name": "stdout",
     "output_type": "stream",
     "text": [
      "\n",
      "<div>\n",
      "  \n",
      "  <p>\n",
      "    I am Vidu, I live in HBH\n",
      "  </p>\n",
      "  \n",
      "  <p>\n",
      "    I am Rahul, I live in Bhadohi\n",
      "  </p>\n",
      "  \n",
      "  <p>\n",
      "    I am Harikesh, I live in Bhadohi\n",
      "  </p>\n",
      "  \n",
      "  <p>\n",
      "    I am Muskan, I live in Raipur\n",
      "  </p>\n",
      "  \n",
      "  <p>\n",
      "    I am Vaish, I live in Indore\n",
      "  </p>\n",
      "  \n",
      "</div>\n"
     ]
    }
   ],
   "source": [
    "template = Template(template_str)\n",
    "markup = template.render(people_places=people_places)\n",
    "print(markup)"
   ]
  },
  {
   "cell_type": "markdown",
   "metadata": {},
   "source": [
    "# todos"
   ]
  },
  {
   "cell_type": "code",
   "execution_count": 12,
   "metadata": {},
   "outputs": [],
   "source": [
    "todos = [\n",
    "    {\"text\": \"Learn good styling\", \"status\": \"done\"},\n",
    "    {\"text\": \"Learn varna of raga kamboji\", \"status\": \"pending\"},\n",
    "    {\"text\": \"Learn\", \"status\": \"pending\"},\n",
    "    {\"text\": \"Fly in an airplane\", \"status\": \"pending\"},\n",
    "    {\"text\": \"Fly in a hot air balloon\", \"status\": \"pending\"},\n",
    "    {\"text\": \"Swim in the ocean\", \"status\": \"done\"},\n",
    "    {\"text\": \"Sky jump\", \"status\": \"pending\"},\n",
    "    {\"text\": \"Travel to Norway\", \"status\": \"pending\"}\n",
    "]"
   ]
  },
  {
   "cell_type": "code",
   "execution_count": 13,
   "metadata": {},
   "outputs": [],
   "source": [
    "template_str = \"\"\"\n",
    "<div class=\"container\">\n",
    "  {% for todo in todos %}\n",
    "  <div class=\"todo {{ todo.status }}\">\n",
    "    {% if todo.status == 'done' %}\n",
    "    ✅ {{ todo.text }}\n",
    "    {% elif todo.status == 'pending' %}\n",
    "    ⌛ {{ todo.text }}\n",
    "    {% endif %}\n",
    "  </div>\n",
    "  {% endfor %}\n",
    "</div>\n",
    "\"\"\""
   ]
  },
  {
   "cell_type": "code",
   "execution_count": 14,
   "metadata": {},
   "outputs": [
    {
     "name": "stdout",
     "output_type": "stream",
     "text": [
      "\n",
      "<div class=\"container\">\n",
      "  \n",
      "  <div class=\"todo done\">\n",
      "    \n",
      "    ✅ Learn good styling\n",
      "    \n",
      "  </div>\n",
      "  \n",
      "  <div class=\"todo pending\">\n",
      "    \n",
      "    ⌛ Learn varna of raga kamboji\n",
      "    \n",
      "  </div>\n",
      "  \n",
      "  <div class=\"todo pending\">\n",
      "    \n",
      "    ⌛ Learn\n",
      "    \n",
      "  </div>\n",
      "  \n",
      "  <div class=\"todo pending\">\n",
      "    \n",
      "    ⌛ Fly in an airplane\n",
      "    \n",
      "  </div>\n",
      "  \n",
      "  <div class=\"todo pending\">\n",
      "    \n",
      "    ⌛ Fly in a hot air balloon\n",
      "    \n",
      "  </div>\n",
      "  \n",
      "  <div class=\"todo done\">\n",
      "    \n",
      "    ✅ Swim in the ocean\n",
      "    \n",
      "  </div>\n",
      "  \n",
      "  <div class=\"todo pending\">\n",
      "    \n",
      "    ⌛ Sky jump\n",
      "    \n",
      "  </div>\n",
      "  \n",
      "  <div class=\"todo pending\">\n",
      "    \n",
      "    ⌛ Travel to Norway\n",
      "    \n",
      "  </div>\n",
      "  \n",
      "</div>\n"
     ]
    }
   ],
   "source": [
    "template = Template(template_str)\n",
    "markup = template.render(todos=todos)\n",
    "print(markup)"
   ]
  },
  {
   "cell_type": "markdown",
   "metadata": {},
   "source": [
    "# Week 3 Lab"
   ]
  },
  {
   "cell_type": "code",
   "execution_count": 15,
   "metadata": {},
   "outputs": [],
   "source": [
    "data = [\n",
    "    (1001, 2001, 56), (1002, 2001, 67), (1003, 2001, 78), (1004, 2001, 90), (1005, 2001, 45),\n",
    "    (1001, 2002, 58), (1002, 2002, 98), (1009, 2002, 12), (1007, 2002, 99), (1008, 2002, 39),\n",
    "    (1003, 2003, 34), (1004, 2003, 43), (1000, 2003, 25), (1060, 2003, 60), (1090, 2003, 88),\n",
    "    (1005, 2004, 81), (1080, 2004, 59), (1030, 2004, 87), (1001, 2004, 35), (1090, 2004, 33)\n",
    "]"
   ]
  },
  {
   "cell_type": "code",
   "execution_count": 20,
   "metadata": {},
   "outputs": [],
   "source": [
    "template_str = \"\"\"\n",
    "<div>\n",
    "  <table>\n",
    "    <tr>\n",
    "      <th>Student ID</th>\n",
    "      <th>Course ID</th>\n",
    "      <th>Marks</th>\n",
    "    </tr>\n",
    "    {% for student_id, course_id, marks in data %}\n",
    "    <tr>\n",
    "      <td>{{ student_id }}</td>\n",
    "      <td>{{ course_id }}</td>\n",
    "      <td>{{ marks }}</td>\n",
    "    </tr>\n",
    "    {% endfor %}\n",
    "  </table>\n",
    "</div>\n",
    "\"\"\""
   ]
  },
  {
   "cell_type": "code",
   "execution_count": 21,
   "metadata": {},
   "outputs": [
    {
     "name": "stdout",
     "output_type": "stream",
     "text": [
      "\n",
      "<div>\n",
      "  <table>\n",
      "    <tr>\n",
      "      <th>Student ID</th>\n",
      "      <th>Course ID</th>\n",
      "      <th>Marks</th>\n",
      "    </tr>\n",
      "    \n",
      "    <tr>\n",
      "      <td>1001</td>\n",
      "      <td>2001</td>\n",
      "      <td>56</td>\n",
      "    </tr>\n",
      "    \n",
      "    <tr>\n",
      "      <td>1002</td>\n",
      "      <td>2001</td>\n",
      "      <td>67</td>\n",
      "    </tr>\n",
      "    \n",
      "    <tr>\n",
      "      <td>1003</td>\n",
      "      <td>2001</td>\n",
      "      <td>78</td>\n",
      "    </tr>\n",
      "    \n",
      "    <tr>\n",
      "      <td>1004</td>\n",
      "      <td>2001</td>\n",
      "      <td>90</td>\n",
      "    </tr>\n",
      "    \n",
      "    <tr>\n",
      "      <td>1005</td>\n",
      "      <td>2001</td>\n",
      "      <td>45</td>\n",
      "    </tr>\n",
      "    \n",
      "    <tr>\n",
      "      <td>1001</td>\n",
      "      <td>2002</td>\n",
      "      <td>58</td>\n",
      "    </tr>\n",
      "    \n",
      "    <tr>\n",
      "      <td>1002</td>\n",
      "      <td>2002</td>\n",
      "      <td>98</td>\n",
      "    </tr>\n",
      "    \n",
      "    <tr>\n",
      "      <td>1009</td>\n",
      "      <td>2002</td>\n",
      "      <td>12</td>\n",
      "    </tr>\n",
      "    \n",
      "    <tr>\n",
      "      <td>1007</td>\n",
      "      <td>2002</td>\n",
      "      <td>99</td>\n",
      "    </tr>\n",
      "    \n",
      "    <tr>\n",
      "      <td>1008</td>\n",
      "      <td>2002</td>\n",
      "      <td>39</td>\n",
      "    </tr>\n",
      "    \n",
      "    <tr>\n",
      "      <td>1003</td>\n",
      "      <td>2003</td>\n",
      "      <td>34</td>\n",
      "    </tr>\n",
      "    \n",
      "    <tr>\n",
      "      <td>1004</td>\n",
      "      <td>2003</td>\n",
      "      <td>43</td>\n",
      "    </tr>\n",
      "    \n",
      "    <tr>\n",
      "      <td>1000</td>\n",
      "      <td>2003</td>\n",
      "      <td>25</td>\n",
      "    </tr>\n",
      "    \n",
      "    <tr>\n",
      "      <td>1060</td>\n",
      "      <td>2003</td>\n",
      "      <td>60</td>\n",
      "    </tr>\n",
      "    \n",
      "    <tr>\n",
      "      <td>1090</td>\n",
      "      <td>2003</td>\n",
      "      <td>88</td>\n",
      "    </tr>\n",
      "    \n",
      "    <tr>\n",
      "      <td>1005</td>\n",
      "      <td>2004</td>\n",
      "      <td>81</td>\n",
      "    </tr>\n",
      "    \n",
      "    <tr>\n",
      "      <td>1080</td>\n",
      "      <td>2004</td>\n",
      "      <td>59</td>\n",
      "    </tr>\n",
      "    \n",
      "    <tr>\n",
      "      <td>1030</td>\n",
      "      <td>2004</td>\n",
      "      <td>87</td>\n",
      "    </tr>\n",
      "    \n",
      "    <tr>\n",
      "      <td>1001</td>\n",
      "      <td>2004</td>\n",
      "      <td>35</td>\n",
      "    </tr>\n",
      "    \n",
      "    <tr>\n",
      "      <td>1090</td>\n",
      "      <td>2004</td>\n",
      "      <td>33</td>\n",
      "    </tr>\n",
      "    \n",
      "  </table>\n",
      "</div>\n"
     ]
    }
   ],
   "source": [
    "template = Template(template_str)\n",
    "markup = template.render(data=data)\n",
    "print(markup)"
   ]
  },
  {
   "cell_type": "markdown",
   "metadata": {},
   "source": [
    "# Week 3 Lab"
   ]
  }
 ],
 "metadata": {
  "kernelspec": {
   "display_name": "Python 3",
   "language": "python",
   "name": "python3"
  },
  "language_info": {
   "codemirror_mode": {
    "name": "ipython",
    "version": 3
   },
   "file_extension": ".py",
   "mimetype": "text/x-python",
   "name": "python",
   "nbconvert_exporter": "python",
   "pygments_lexer": "ipython3",
   "version": "3.12.6"
  }
 },
 "nbformat": 4,
 "nbformat_minor": 2
}
