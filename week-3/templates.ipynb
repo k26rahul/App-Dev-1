{
 "cells": [
  {
   "cell_type": "markdown",
   "metadata": {},
   "source": [
    "# Templating"
   ]
  },
  {
   "cell_type": "code",
   "execution_count": 15,
   "metadata": {},
   "outputs": [
    {
     "name": "stdout",
     "output_type": "stream",
     "text": [
      "I am Harikesh Shukla\n",
      "I am Harikesh Shukla\n"
     ]
    }
   ],
   "source": [
    "first_name = 'Harikesh'\n",
    "last_name = 'Shukla'\n",
    "print('I am ' + first_name + ' ' + last_name)\n",
    "print(f'I am {first_name} {last_name}')"
   ]
  },
  {
   "cell_type": "code",
   "execution_count": 12,
   "metadata": {},
   "outputs": [
    {
     "data": {
      "text/plain": [
       "'I am Harikesh Shukla'"
      ]
     },
     "execution_count": 12,
     "metadata": {},
     "output_type": "execute_result"
    }
   ],
   "source": [
    "from string import Template\n",
    "\n",
    "template = Template('I am $first_name $last_name')\n",
    "template.substitute(first_name='Harikesh', last_name='Shukla')"
   ]
  },
  {
   "cell_type": "code",
   "execution_count": 14,
   "metadata": {},
   "outputs": [
    {
     "data": {
      "text/plain": [
       "'I am Harikesh Shukla'"
      ]
     },
     "execution_count": 14,
     "metadata": {},
     "output_type": "execute_result"
    }
   ],
   "source": [
    "from jinja2 import Template\n",
    "\n",
    "template = Template('I am {{ first_name }} {{ last_name }}')\n",
    "template.render(first_name='Harikesh', last_name='Shukla')"
   ]
  },
  {
   "cell_type": "markdown",
   "metadata": {},
   "source": [
    "# HTML Templating"
   ]
  },
  {
   "cell_type": "code",
   "execution_count": 45,
   "metadata": {},
   "outputs": [
    {
     "name": "stdout",
     "output_type": "stream",
     "text": [
      "<h1>I am Harikesh Shukla</h1>\n",
      "<h1>I am Vidhatri</h1>\n"
     ]
    }
   ],
   "source": [
    "print(f'<h1>I am Harikesh Shukla</h1>')\n",
    "print(f'<h1>I am Vidhatri</h1>')"
   ]
  },
  {
   "cell_type": "code",
   "execution_count": 46,
   "metadata": {},
   "outputs": [
    {
     "name": "stdout",
     "output_type": "stream",
     "text": [
      "<h1>I am Harikesh Shukla</h1>\n",
      "<h1>I am Vidhatri</h1>\n"
     ]
    }
   ],
   "source": [
    "def h1(text):\n",
    "  return f\"<h1>{text}</h1>\"\n",
    "\n",
    "\n",
    "print(h1('I am Harikesh Shukla'))\n",
    "print(h1('I am Vidhatri'))"
   ]
  },
  {
   "cell_type": "code",
   "execution_count": 51,
   "metadata": {},
   "outputs": [
    {
     "name": "stdout",
     "output_type": "stream",
     "text": [
      "<h1>I am Harikesh Shukla</h1>\n",
      "<h1>I am Vidhatri</h1>\n"
     ]
    }
   ],
   "source": [
    "from string import Template\n",
    "\n",
    "h1 = Template('<h1>$text</h1>')\n",
    "print(h1.substitute(text='I am Harikesh Shukla'))\n",
    "print(h1.substitute(text='I am Vidhatri'))"
   ]
  },
  {
   "cell_type": "code",
   "execution_count": 50,
   "metadata": {},
   "outputs": [
    {
     "name": "stdout",
     "output_type": "stream",
     "text": [
      "<h1>I am Harikesh Shukla</h1>\n",
      "<h1>I am Vidhatri</h1>\n"
     ]
    }
   ],
   "source": [
    "from jinja2 import Template\n",
    "\n",
    "template = Template('<h1>{{ text }}</h1>')\n",
    "print(template.render(text='I am Harikesh Shukla'))\n",
    "print(template.render(text='I am Vidhatri'))"
   ]
  },
  {
   "cell_type": "code",
   "execution_count": 60,
   "metadata": {},
   "outputs": [
    {
     "name": "stdout",
     "output_type": "stream",
     "text": [
      "<h1>\n",
      "  I am Harikesh Shukla\n",
      "</h1>\n",
      "<h1>\n",
      "  I am Vidhatri\n",
      "</h1>\n"
     ]
    }
   ],
   "source": [
    "import pyhtml\n",
    "\n",
    "print(pyhtml.h1('I am Harikesh Shukla'))\n",
    "print(pyhtml.h1('I am Vidhatri'))"
   ]
  },
  {
   "cell_type": "markdown",
   "metadata": {},
   "source": [
    "# PyHTML"
   ]
  },
  {
   "cell_type": "code",
   "execution_count": 59,
   "metadata": {},
   "outputs": [
    {
     "name": "stdout",
     "output_type": "stream",
     "text": [
      "<!DOCTYPE html>\n",
      "<html>\n",
      "  <head>\n",
      "    <title>\n",
      "      Demo Page\n",
      "    </title>\n",
      "  </head>\n",
      "  <body>\n",
      "    <div>\n",
      "      <h1>\n",
      "        I am Vidhatri\n",
      "      </h1>\n",
      "      <h2>\n",
      "        Welcome to My Page\n",
      "      </h2>\n",
      "      <p>\n",
      "        This is a tiny demo page created using PyHTML.\n",
      "      </p>\n",
      "    </div>\n",
      "  </body>\n",
      "</html>\n"
     ]
    }
   ],
   "source": [
    "import pyhtml\n",
    "\n",
    "html_content = pyhtml.html(\n",
    "    pyhtml.head(pyhtml.title('Demo Page')),\n",
    "    pyhtml.body(\n",
    "        pyhtml.div(\n",
    "            pyhtml.h1('I am Vidhatri'),\n",
    "            pyhtml.h2('Welcome to My Page'),\n",
    "            pyhtml.p('This is a tiny demo page created using PyHTML.'),\n",
    "        )\n",
    "    )\n",
    ")\n",
    "\n",
    "print(html_content)"
   ]
  }
 ],
 "metadata": {
  "kernelspec": {
   "display_name": "Python 3",
   "language": "python",
   "name": "python3"
  },
  "language_info": {
   "codemirror_mode": {
    "name": "ipython",
    "version": 3
   },
   "file_extension": ".py",
   "mimetype": "text/x-python",
   "name": "python",
   "nbconvert_exporter": "python",
   "pygments_lexer": "ipython3",
   "version": "3.12.6"
  }
 },
 "nbformat": 4,
 "nbformat_minor": 2
}
