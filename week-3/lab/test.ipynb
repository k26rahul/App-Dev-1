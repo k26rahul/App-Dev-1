{
 "cells": [
  {
   "cell_type": "markdown",
   "metadata": {},
   "source": [
    "# data"
   ]
  },
  {
   "cell_type": "code",
   "execution_count": 1,
   "metadata": {},
   "outputs": [],
   "source": [
    "import csv"
   ]
  },
  {
   "cell_type": "code",
   "execution_count": 9,
   "metadata": {},
   "outputs": [
    {
     "data": {
      "text/plain": [
       "[{'student_id': '1001', 'course_id': ' 2001', 'marks': ' 56'},\n",
       " {'student_id': '1002', 'course_id': ' 2001', 'marks': ' 67'},\n",
       " {'student_id': '1003', 'course_id': ' 2001', 'marks': ' 78'},\n",
       " {'student_id': '1004', 'course_id': ' 2001', 'marks': ' 90'},\n",
       " {'student_id': '1005', 'course_id': ' 2001', 'marks': ' 45'},\n",
       " {'student_id': '1001', 'course_id': ' 2002', 'marks': ' 58'},\n",
       " {'student_id': '1002', 'course_id': ' 2002', 'marks': ' 98'},\n",
       " {'student_id': '1009', 'course_id': ' 2002', 'marks': ' 12'},\n",
       " {'student_id': '1007', 'course_id': ' 2002', 'marks': ' 99'},\n",
       " {'student_id': '1008', 'course_id': ' 2002', 'marks': ' 39'},\n",
       " {'student_id': '1003', 'course_id': ' 2003', 'marks': ' 34'},\n",
       " {'student_id': '1004', 'course_id': ' 2003', 'marks': ' 43'},\n",
       " {'student_id': '1000', 'course_id': ' 2003', 'marks': ' 25'},\n",
       " {'student_id': '1060', 'course_id': ' 2003', 'marks': ' 60'},\n",
       " {'student_id': '1090', 'course_id': ' 2003', 'marks': ' 88'},\n",
       " {'student_id': '1005', 'course_id': ' 2004', 'marks': ' 81'},\n",
       " {'student_id': '1080', 'course_id': ' 2004', 'marks': ' 59'},\n",
       " {'student_id': '1030', 'course_id': ' 2004', 'marks': ' 87'},\n",
       " {'student_id': '1001', 'course_id': ' 2004', 'marks': ' 35'},\n",
       " {'student_id': '1090', 'course_id': ' 2004', 'marks': ' 33'}]"
      ]
     },
     "execution_count": 9,
     "metadata": {},
     "output_type": "execute_result"
    }
   ],
   "source": [
    "col_names = ['student_id', 'course_id', 'marks']\n",
    "data = list(csv.DictReader(open('data.csv'), fieldnames=col_names))\n",
    "data = data[1:]\n",
    "data"
   ]
  },
  {
   "cell_type": "markdown",
   "metadata": {},
   "source": [
    "# -s {student_id}"
   ]
  },
  {
   "cell_type": "code",
   "execution_count": 11,
   "metadata": {},
   "outputs": [
    {
     "data": {
      "text/plain": [
       "[{'student_id': '1001', 'course_id': ' 2001', 'marks': ' 56'},\n",
       " {'student_id': '1001', 'course_id': ' 2002', 'marks': ' 58'},\n",
       " {'student_id': '1001', 'course_id': ' 2004', 'marks': ' 35'}]"
      ]
     },
     "execution_count": 11,
     "metadata": {},
     "output_type": "execute_result"
    }
   ],
   "source": [
    "student_id = '1001'\n",
    "student_data = [row for row in data if row['student_id'] == student_id]\n",
    "student_data"
   ]
  },
  {
   "cell_type": "code",
   "execution_count": 14,
   "metadata": {},
   "outputs": [
    {
     "data": {
      "text/plain": [
       "149"
      ]
     },
     "execution_count": 14,
     "metadata": {},
     "output_type": "execute_result"
    }
   ],
   "source": [
    "marks = [int(row['marks']) for row in student_data]\n",
    "total_marks = sum(marks)\n",
    "total_marks"
   ]
  },
  {
   "cell_type": "markdown",
   "metadata": {},
   "source": [
    "# -c {course_id}"
   ]
  },
  {
   "cell_type": "code",
   "execution_count": 17,
   "metadata": {},
   "outputs": [
    {
     "data": {
      "text/plain": [
       "[{'student_id': '1001', 'course_id': ' 2002', 'marks': ' 58'},\n",
       " {'student_id': '1002', 'course_id': ' 2002', 'marks': ' 98'},\n",
       " {'student_id': '1009', 'course_id': ' 2002', 'marks': ' 12'},\n",
       " {'student_id': '1007', 'course_id': ' 2002', 'marks': ' 99'},\n",
       " {'student_id': '1008', 'course_id': ' 2002', 'marks': ' 39'}]"
      ]
     },
     "execution_count": 17,
     "metadata": {},
     "output_type": "execute_result"
    }
   ],
   "source": [
    "course_id = ' 2002'\n",
    "course_data = [row for row in data if row['course_id'] == course_id]\n",
    "course_data"
   ]
  },
  {
   "cell_type": "code",
   "execution_count": 23,
   "metadata": {},
   "outputs": [
    {
     "data": {
      "text/plain": [
       "[58, 98, 12, 99, 39]"
      ]
     },
     "execution_count": 23,
     "metadata": {},
     "output_type": "execute_result"
    }
   ],
   "source": [
    "marks = [int(row['marks']) for row in course_data]\n",
    "marks"
   ]
  },
  {
   "cell_type": "code",
   "execution_count": 24,
   "metadata": {},
   "outputs": [
    {
     "data": {
      "text/plain": [
       "(61.2, 99)"
      ]
     },
     "execution_count": 24,
     "metadata": {},
     "output_type": "execute_result"
    }
   ],
   "source": [
    "avg_marks = sum(marks)/len(marks)\n",
    "max_marks = max(marks)\n",
    "\n",
    "avg_marks, max_marks"
   ]
  },
  {
   "cell_type": "markdown",
   "metadata": {},
   "source": [
    "# histogram"
   ]
  },
  {
   "cell_type": "code",
   "execution_count": 25,
   "metadata": {},
   "outputs": [],
   "source": [
    "import matplotlib.pyplot as plt"
   ]
  },
  {
   "cell_type": "code",
   "execution_count": 26,
   "metadata": {},
   "outputs": [
    {
     "data": {
      "text/plain": [
       "(array([1., 0., 0., 1., 0., 1., 0., 0., 0., 2.]),\n",
       " array([12. , 20.7, 29.4, 38.1, 46.8, 55.5, 64.2, 72.9, 81.6, 90.3, 99. ]),\n",
       " <BarContainer object of 10 artists>)"
      ]
     },
     "execution_count": 26,
     "metadata": {},
     "output_type": "execute_result"
    },
    {
     "data": {
      "text/plain": [
       "Text(0.5, 1.0, 'Marks vs Frequency for Course ID:  2002')"
      ]
     },
     "execution_count": 26,
     "metadata": {},
     "output_type": "execute_result"
    },
    {
     "data": {
      "text/plain": [
       "Text(0.5, 0, 'Marks')"
      ]
     },
     "execution_count": 26,
     "metadata": {},
     "output_type": "execute_result"
    },
    {
     "data": {
      "text/plain": [
       "Text(0, 0.5, 'Frequency')"
      ]
     },
     "execution_count": 26,
     "metadata": {},
     "output_type": "execute_result"
    },
    {
     "data": {
      "image/png": "[encoded data removed]",
      "text/plain": [
       "<Figure size 640x480 with 1 Axes>"
      ]
     },
     "metadata": {},
     "output_type": "display_data"
    }
   ],
   "source": [
    "plt.hist(marks)\n",
    "plt.title(f'Marks vs Frequency for Course ID: {course_id}')\n",
    "plt.xlabel('Marks')\n",
    "plt.ylabel('Frequency')\n",
    "plt.savefig('histogram.png')"
   ]
  }
 ],
 "metadata": {
  "kernelspec": {
   "display_name": "Python 3",
   "language": "python",
   "name": "python3"
  },
  "language_info": {
   "codemirror_mode": {
    "name": "ipython",
    "version": 3
   },
   "file_extension": ".py",
   "mimetype": "text/x-python",
   "name": "python",
   "nbconvert_exporter": "python",
   "pygments_lexer": "ipython3",
   "version": "3.12.6"
  }
 },
 "nbformat": 4,
 "nbformat_minor": 2
}
