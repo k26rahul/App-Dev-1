{
 "cells": [
  {
   "cell_type": "code",
   "execution_count": 17,
   "metadata": {},
   "outputs": [],
   "source": [
    "import csv\n",
    "from jinja2 import Template"
   ]
  },
  {
   "cell_type": "code",
   "execution_count": 41,
   "metadata": {},
   "outputs": [],
   "source": [
    "def get_data():\n",
    "  col_names = ['student_id', 'course_id', 'marks']\n",
    "  data = list(csv.DictReader(open('data.csv'), fieldnames=col_names))\n",
    "  data = data[1:]\n",
    "  return data\n",
    "\n",
    "\n",
    "# get_data()"
   ]
  },
  {
   "cell_type": "code",
   "execution_count": 19,
   "metadata": {},
   "outputs": [],
   "source": [
    "def get_student_data(student_id):\n",
    "  data = get_data()\n",
    "  student_data = [row for row in data if row['student_id'] == student_id]\n",
    "  if len(student_data) == 0:\n",
    "    raise Exception('invalid student_id')\n",
    "  marks = [int(row['marks']) for row in student_data]\n",
    "  total_marks = sum(marks)\n",
    "  return student_data, total_marks\n",
    "\n",
    "\n",
    "# get_student_data('1001')"
   ]
  },
  {
   "cell_type": "code",
   "execution_count": 20,
   "metadata": {},
   "outputs": [],
   "source": [
    "def get_course_data(course_id):\n",
    "  data = get_data()\n",
    "  course_data = [row for row in data if row['course_id'] == course_id]\n",
    "  if len(course_data) == 0:\n",
    "    raise Exception('invalid course_id')\n",
    "  marks = [int(row['marks']) for row in course_data]\n",
    "  avg_marks = sum(marks)/len(marks)\n",
    "  max_marks = max(marks)\n",
    "  return course_data, marks, avg_marks, max_marks\n",
    "\n",
    "\n",
    "# get_course_data(' 2001')"
   ]
  },
  {
   "cell_type": "code",
   "execution_count": 21,
   "metadata": {},
   "outputs": [],
   "source": [
    "def generate_error_output():\n",
    "  markup = open('error_output.j2').read()\n",
    "  open('output.html', 'w+').write(markup)"
   ]
  },
  {
   "cell_type": "code",
   "execution_count": 40,
   "metadata": {},
   "outputs": [],
   "source": [
    "def generate_student_output(student_id):\n",
    "  try:\n",
    "    student_data, total_marks = get_student_data(student_id)\n",
    "  except:\n",
    "    return generate_error_output()\n",
    "  template_string = open('student_output.j2').read()\n",
    "  template = Template(template_string)\n",
    "  markup = template.render(student_data=student_data, total_marks=total_marks)\n",
    "  open('output.html', 'w+').write(markup)\n",
    "\n",
    "\n",
    "generate_student_output('1004')"
   ]
  },
  {
   "cell_type": "code",
   "execution_count": 23,
   "metadata": {},
   "outputs": [],
   "source": [
    "def generate_histogram(marks, course_id):\n",
    "  import matplotlib.pyplot as plt\n",
    "  plt.hist(marks)\n",
    "  plt.title(f'Marks vs Frequency for Course ID: {course_id}')\n",
    "  plt.xlabel('Marks')\n",
    "  plt.ylabel('Frequency')\n",
    "  plt.savefig('histogram.png')"
   ]
  },
  {
   "cell_type": "code",
   "execution_count": 35,
   "metadata": {},
   "outputs": [
    {
     "data": {
      "image/png": "[encoded data removed]",
      "text/plain": [
       "<Figure size 640x480 with 1 Axes>"
      ]
     },
     "metadata": {},
     "output_type": "display_data"
    }
   ],
   "source": [
    "def generate_course_output(course_id):\n",
    "  try:\n",
    "    course_data, marks, avg_marks, max_marks = get_course_data(course_id)\n",
    "  except:\n",
    "    return generate_error_output()\n",
    "  template_string = open('course_output.j2').read()\n",
    "  template = Template(template_string)\n",
    "  markup = template.render(avg_marks=avg_marks, max_marks=max_marks)\n",
    "  open('output.html', 'w+').write(markup)\n",
    "  generate_histogram(marks, course_id)\n",
    "\n",
    "\n",
    "generate_course_output(' 2003')"
   ]
  }
 ],
 "metadata": {
  "kernelspec": {
   "display_name": "Python 3",
   "language": "python",
   "name": "python3"
  },
  "language_info": {
   "codemirror_mode": {
    "name": "ipython",
    "version": 3
   },
   "file_extension": ".py",
   "mimetype": "text/x-python",
   "name": "python",
   "nbconvert_exporter": "python",
   "pygments_lexer": "ipython3",
   "version": "3.12.6"
  }
 },
 "nbformat": 4,
 "nbformat_minor": 2
}
