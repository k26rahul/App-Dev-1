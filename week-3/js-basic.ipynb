{
 "cells": [
  {
   "cell_type": "code",
   "execution_count": 16,
   "metadata": {},
   "outputs": [
    {
     "name": "stdout",
     "output_type": "stream",
     "text": [
      "         (__)\n",
      "         (oo)\n",
      "  /-------\\/\n",
      " / |     ||\n",
      "*  ||----||\n",
      "   ~~    ~~\n",
      "     Cow\n"
     ]
    }
   ],
   "source": [
    "import cows from 'npm:cows';\n",
    "console.log(cows()[0]);\n"
   ]
  }
 ],
 "metadata": {
  "kernelspec": {
   "display_name": "Deno",
   "language": "typescript",
   "name": "deno"
  },
  "language_info": {
   "codemirror_mode": "typescript",
   "file_extension": ".ts",
   "mimetype": "text/x.typescript",
   "name": "typescript",
   "nbconvert_exporter": "script",
   "pygments_lexer": "typescript",
   "version": "5.5.2"
  }
 },
 "nbformat": 4,
 "nbformat_minor": 2
}
