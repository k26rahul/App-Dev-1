{
 "cells": [
  {
   "cell_type": "code",
   "execution_count": 5,
   "metadata": {},
   "outputs": [
    {
     "data": {
      "text/plain": [
       "32"
      ]
     },
     "execution_count": 5,
     "metadata": {},
     "output_type": "execute_result"
    },
    {
     "data": {
      "text/plain": [
       "26"
      ]
     },
     "execution_count": 5,
     "metadata": {},
     "output_type": "execute_result"
    }
   ],
   "source": [
    "len(list('pack my box with five dozen liquor jugs'.replace(' ', '')))\n",
    "len(set(list('pack my box with five dozen liquor jugs'.replace(' ', ''))))"
   ]
  },
  {
   "cell_type": "code",
   "execution_count": 31,
   "metadata": {},
   "outputs": [
    {
     "data": {
      "text/plain": [
       "1"
      ]
     },
     "execution_count": 31,
     "metadata": {},
     "output_type": "execute_result"
    },
    {
     "data": {
      "text/plain": [
       "2"
      ]
     },
     "execution_count": 31,
     "metadata": {},
     "output_type": "execute_result"
    },
    {
     "data": {
      "text/plain": [
       "3"
      ]
     },
     "execution_count": 31,
     "metadata": {},
     "output_type": "execute_result"
    },
    {
     "data": {
      "text/plain": [
       "4"
      ]
     },
     "execution_count": 31,
     "metadata": {},
     "output_type": "execute_result"
    }
   ],
   "source": [
    "class Student:\n",
    "  idx = 1\n",
    "\n",
    "  def __init__(self, name):\n",
    "    self.roll_no = Student.idx\n",
    "    Student.idx += 1\n",
    "    self.name = name.upper()\n",
    "\n",
    "\n",
    "rahul = Student('rahul maurya')\n",
    "vidu = Student('vidu hr')\n",
    "muskan = Student('muskan ag')\n",
    "harikesh = Student('harikesh shukla')\n",
    "\n",
    "rahul.roll_no\n",
    "vidu.roll_no\n",
    "muskan.roll_no\n",
    "harikesh.roll_no"
   ]
  },
  {
   "cell_type": "code",
   "execution_count": 16,
   "metadata": {},
   "outputs": [
    {
     "name": "stdout",
     "output_type": "stream",
     "text": [
      "i am $name, i live in $place\n"
     ]
    }
   ],
   "source": [
    "from string import Template\n",
    "\n",
    "statement = 'i am $name, i live in $place'\n",
    "\n",
    "out = Template(statement)\n",
    "\n",
    "print(out.safe_substitute({}))"
   ]
  },
  {
   "cell_type": "code",
   "execution_count": 30,
   "metadata": {},
   "outputs": [
    {
     "name": "stdout",
     "output_type": "stream",
     "text": [
      "$city2 and $city1 are in $country1\n"
     ]
    }
   ],
   "source": [
    "from jinja2 import Template\n",
    "\n",
    "template = Template('${{city3}} and ${{city4}} are in ${{country2}}')\n",
    "out1 = template.render(city3='city2', city4='city1', country2='country1')\n",
    "print(out1)"
   ]
  },
  {
   "cell_type": "code",
   "execution_count": 31,
   "metadata": {},
   "outputs": [
    {
     "name": "stdout",
     "output_type": "stream",
     "text": [
      "Delhi and Mumbai are in India\n"
     ]
    }
   ],
   "source": [
    "from string import Template\n",
    "\n",
    "template = Template(out1)\n",
    "out2 = template.substitute(city2='Delhi', city1='Mumbai', country1='India')\n",
    "print(out2)"
   ]
  }
 ],
 "metadata": {
  "kernelspec": {
   "display_name": "Python 3",
   "language": "python",
   "name": "python3"
  },
  "language_info": {
   "codemirror_mode": {
    "name": "ipython",
    "version": 3
   },
   "file_extension": ".py",
   "mimetype": "text/x-python",
   "name": "python",
   "nbconvert_exporter": "python",
   "pygments_lexer": "ipython3",
   "version": "3.12.6"
  }
 },
 "nbformat": 4,
 "nbformat_minor": 2
}
