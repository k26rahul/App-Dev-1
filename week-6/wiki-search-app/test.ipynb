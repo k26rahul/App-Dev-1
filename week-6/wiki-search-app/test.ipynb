{
 "cells": [
  {
   "cell_type": "code",
   "execution_count": 1,
   "metadata": {},
   "outputs": [],
   "source": [
    "import requests"
   ]
  },
  {
   "cell_type": "code",
   "execution_count": 2,
   "metadata": {},
   "outputs": [
    {
     "data": {
      "text/plain": [
       "'https://en.wikipedia.org/w/rest.php/v1/search/page?q=rss&limit=3'"
      ]
     },
     "execution_count": 2,
     "metadata": {},
     "output_type": "execute_result"
    }
   ],
   "source": [
    "# get these from users\n",
    "what_to_search = 'rss'\n",
    "how_many_results = 3\n",
    "\n",
    "# construct this url to query wiki servers\n",
    "url = f'https://en.wikipedia.org/w/rest.php/v1/search/page?q={what_to_search}&limit={how_many_results}'\n",
    "\n",
    "url"
   ]
  },
  {
   "cell_type": "code",
   "execution_count": 3,
   "metadata": {},
   "outputs": [
    {
     "data": {
      "text/plain": [
       "<Response [200]>"
      ]
     },
     "execution_count": 3,
     "metadata": {},
     "output_type": "execute_result"
    }
   ],
   "source": [
    "response = requests.get(url)\n",
    "response"
   ]
  },
  {
   "cell_type": "code",
   "execution_count": 4,
   "metadata": {},
   "outputs": [
    {
     "data": {
      "text/plain": [
       "200"
      ]
     },
     "execution_count": 4,
     "metadata": {},
     "output_type": "execute_result"
    },
    {
     "data": {
      "text/plain": [
       "{'pages': [{'id': 93489,\n",
       "   'key': 'RSS',\n",
       "   'title': 'RSS',\n",
       "   'excerpt': '<span class=\"searchmatch\">RSS</span> (RDF Site Summary or Really Simple Syndication) is a web feed that allows users and applications to access updates to websites in a standardized,',\n",
       "   'matched_title': None,\n",
       "   'description': 'Family of web feed formats',\n",
       "   'thumbnail': {'mimetype': 'image/svg+xml',\n",
       "    'width': 60,\n",
       "    'height': 60,\n",
       "    'duration': None,\n",
       "    'url': '//upload.wikimedia.org/wikipedia/en/thumb/4/43/Feed-icon.svg/60px-Feed-icon.svg.png'}},\n",
       "  {'id': 93149,\n",
       "   'key': 'Rashtriya_Swayamsevak_Sangh',\n",
       "   'title': 'Rashtriya Swayamsevak Sangh',\n",
       "   'excerpt': 'Rashtriya Swayamsevak Sangh (<span class=\"searchmatch\">RSS</span>, Rāṣṭrīya Svayaṃsevak Saṅgh, Hindi pronunciation: [raːʂˈʈriːj(ə) swəjəmˈseːʋək səŋɡʱ], lit.\\u2009\\'National Volunteer Organisation\\')',\n",
       "   'matched_title': None,\n",
       "   'description': 'Hindu nationalist organisation in India',\n",
       "   'thumbnail': {'mimetype': 'image/jpeg',\n",
       "    'width': 60,\n",
       "    'height': 40,\n",
       "    'duration': None,\n",
       "    'url': '//upload.wikimedia.org/wikipedia/commons/thumb/0/0f/Path_Sanchalan_Bhopal-1.jpg/60px-Path_Sanchalan_Bhopal-1.jpg'}},\n",
       "  {'id': 2351677,\n",
       "   'key': 'News_aggregator',\n",
       "   'title': 'News aggregator',\n",
       "   'excerpt': 'aggregator user can easily unsubscribe from a feed. The feeds are often in the <span class=\"searchmatch\">RSS</span> or Atom formats which use Extensible Markup Language (XML) to structure pieces',\n",
       "   'matched_title': None,\n",
       "   'description': 'Client software that aggregates syndicated web content',\n",
       "   'thumbnail': {'mimetype': 'image/png',\n",
       "    'width': 60,\n",
       "    'height': 34,\n",
       "    'duration': None,\n",
       "    'url': '//upload.wikimedia.org/wikipedia/commons/thumb/0/0f/Tiny_Tiny_RSS_English_Interface.png/60px-Tiny_Tiny_RSS_English_Interface.png'}}]}"
      ]
     },
     "execution_count": 4,
     "metadata": {},
     "output_type": "execute_result"
    }
   ],
   "source": [
    "response.status_code\n",
    "data = response.json()  # read response as json data\n",
    "data"
   ]
  },
  {
   "cell_type": "code",
   "execution_count": 5,
   "metadata": {},
   "outputs": [
    {
     "name": "stdout",
     "output_type": "stream",
     "text": [
      "RSS\n",
      "Family of web feed formats\n",
      "Rashtriya Swayamsevak Sangh\n",
      "Hindu nationalist organisation in India\n",
      "News aggregator\n",
      "Client software that aggregates syndicated web content\n"
     ]
    }
   ],
   "source": [
    "for page in data['pages']:\n",
    "  print(page['title'])\n",
    "  print(page['description'])"
   ]
  }
 ],
 "metadata": {
  "kernelspec": {
   "display_name": "Python 3",
   "language": "python",
   "name": "python3"
  },
  "language_info": {
   "codemirror_mode": {
    "name": "ipython",
    "version": 3
   },
   "file_extension": ".py",
   "mimetype": "text/x-python",
   "name": "python",
   "nbconvert_exporter": "python",
   "pygments_lexer": "ipython3",
   "version": "3.12.6"
  }
 },
 "nbformat": 4,
 "nbformat_minor": 2
}
