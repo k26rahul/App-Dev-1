{
 "cells": [
  {
   "cell_type": "markdown",
   "metadata": {},
   "source": [
    "# a contract"
   ]
  },
  {
   "cell_type": "code",
   "execution_count": 10,
   "metadata": {},
   "outputs": [],
   "source": [
    "message = \"\"\"\n",
    "i have 12 apples, i live in hbh, i write apis, if you want to reach me, them email me at some@example.com.\n",
    "\n",
    "i have 12 apples and 15 oranges, i live in hbh, i write nothing, but i play football, if you want to reach me, then call me at 9182882818.\n",
    "\n",
    "i have 12 apples and 15 oranges, i live in albd, i write nothing, but i play football, if you want to reach me, then call me at 9182882818.\n",
    "\n",
    "call me at 71871981991\n",
    "\"\"\""
   ]
  },
  {
   "cell_type": "code",
   "execution_count": 11,
   "metadata": {},
   "outputs": [
    {
     "name": "stdout",
     "output_type": "stream",
     "text": [
      "total 3 people\n"
     ]
    }
   ],
   "source": [
    "print('total 3 people')"
   ]
  },
  {
   "cell_type": "code",
   "execution_count": 12,
   "metadata": {},
   "outputs": [
    {
     "name": "stdout",
     "output_type": "stream",
     "text": [
      "info about person #1\n",
      "has 10 apples\n",
      "has 15 cars\n"
     ]
    },
    {
     "data": {
      "text/plain": [
       "Ellipsis"
      ]
     },
     "execution_count": 12,
     "metadata": {},
     "output_type": "execute_result"
    },
    {
     "name": "stdout",
     "output_type": "stream",
     "text": [
      "info about person #2\n",
      "has 10 apples\n",
      "has 15 cars\n"
     ]
    },
    {
     "data": {
      "text/plain": [
       "Ellipsis"
      ]
     },
     "execution_count": 12,
     "metadata": {},
     "output_type": "execute_result"
    }
   ],
   "source": [
    "print('info about person #1')\n",
    "print('has 10 apples')\n",
    "print('has 15 cars')\n",
    "...\n",
    "\n",
    "print('info about person #2')\n",
    "print('has 10 apples')\n",
    "print('has 15 cars')\n",
    "..."
   ]
  },
  {
   "cell_type": "markdown",
   "metadata": {},
   "source": [
    "# 2"
   ]
  },
  {
   "cell_type": "code",
   "execution_count": 13,
   "metadata": {},
   "outputs": [],
   "source": [
    "message = 'i am rahul, i am 12 years old'\n",
    "message = 'i am <name>, i am <age> years old'"
   ]
  },
  {
   "cell_type": "code",
   "execution_count": 14,
   "metadata": {},
   "outputs": [
    {
     "data": {
      "text/plain": [
       "'<name'"
      ]
     },
     "execution_count": 14,
     "metadata": {},
     "output_type": "execute_result"
    },
    {
     "data": {
      "text/plain": [
       "'e>'"
      ]
     },
     "execution_count": 14,
     "metadata": {},
     "output_type": "execute_result"
    }
   ],
   "source": [
    "name = message[5:10]\n",
    "age = message[-12:-10]\n",
    "name\n",
    "age"
   ]
  },
  {
   "cell_type": "markdown",
   "metadata": {},
   "source": [
    "# 3"
   ]
  },
  {
   "cell_type": "code",
   "execution_count": 15,
   "metadata": {},
   "outputs": [],
   "source": [
    "message = \"\"\"\n",
    "====\n",
    "##have\n",
    "12 apples\n",
    "\n",
    "##live\n",
    "hbh\n",
    "\n",
    "##write\n",
    "apis\n",
    "\n",
    "##play\n",
    "...\n",
    "\n",
    "##reach\n",
    "email\n",
    "some@example.com\n",
    "====.\n",
    "\n",
    "====\n",
    "##have\n",
    "12 apples\n",
    "15 oranges\n",
    "\n",
    "##live\n",
    "hbh\n",
    "\n",
    "##write\n",
    "...\n",
    "\n",
    "##play\n",
    "football\n",
    "\n",
    "##reach\n",
    "call\n",
    "9182882818\n",
    "====.\n",
    "\n",
    "====\n",
    "##have\n",
    "12 apples\n",
    "15 oranges\n",
    "\n",
    "##live\n",
    "albd\n",
    "\n",
    "##write\n",
    "...\n",
    "\n",
    "##play\n",
    "football\n",
    "\n",
    "##reach\n",
    "call\n",
    "9182882818\n",
    "====.\n",
    "\n",
    "====\n",
    "##have\n",
    "...\n",
    "\n",
    "##live\n",
    "...\n",
    "\n",
    "##write\n",
    "...\n",
    "\n",
    "##play\n",
    "...\n",
    "\n",
    "##reach\n",
    "call\n",
    "71871981991\n",
    "====.\n",
    "\"\"\""
   ]
  },
  {
   "cell_type": "code",
   "execution_count": 16,
   "metadata": {},
   "outputs": [
    {
     "name": "stdout",
     "output_type": "stream",
     "text": [
      "have\n",
      "live\n",
      "write\n",
      "play\n",
      "reach\n",
      "have\n",
      "live\n",
      "write\n",
      "play\n",
      "reach\n",
      "have\n",
      "live\n",
      "write\n",
      "play\n",
      "reach\n",
      "have\n",
      "live\n",
      "write\n",
      "play\n",
      "reach\n"
     ]
    }
   ],
   "source": [
    "data = message.split('\\n')\n",
    "lock = False\n",
    "for line in data:\n",
    "  if line == '====':\n",
    "    lock = True\n",
    "    continue\n",
    "\n",
    "  elif line == '====.':\n",
    "    lock = False\n",
    "    continue\n",
    "\n",
    "  if line.startswith('##'):\n",
    "    key = line[2:]\n",
    "    print(key)"
   ]
  },
  {
   "cell_type": "markdown",
   "metadata": {},
   "source": [
    "# 4"
   ]
  },
  {
   "cell_type": "code",
   "execution_count": 17,
   "metadata": {},
   "outputs": [],
   "source": [
    "message = \"\"\"\n",
    "i have 12 apples, i live in hbh, i write apis, if you want to reach me, them email me at some@example.com.\n",
    "\n",
    "email me at some@example.com, i write apis, but i dont play anything, i got 12 apples, and no oranges.\n",
    "\n",
    "i have 12 apples and 15 oranges, i live in hbh, i write nothing, but i play football, if you want to reach me, then call me at 9182882818.\n",
    "\n",
    "i have 12 apples and 15 oranges, i live in albd, i write nothing, but i play football, if you want to reach me, then call me at 9182882818.\n",
    "\n",
    "call me at 71871981991\n",
    "\"\"\""
   ]
  },
  {
   "cell_type": "code",
   "execution_count": 18,
   "metadata": {},
   "outputs": [
    {
     "data": {
      "text/plain": [
       "'apples'"
      ]
     },
     "execution_count": 18,
     "metadata": {},
     "output_type": "execute_result"
    }
   ],
   "source": [
    "import json\n",
    "\n",
    "\n",
    "message = \"\"\"\n",
    "[\n",
    "  {\n",
    "    \"have\": [\n",
    "      [12, \"apples\"]\n",
    "    ],\n",
    "    \"live\": \"hbh\",\n",
    "    \"write\": [\"apis\"],\n",
    "    \"play\": [\"football\", \"cricket\"]\n",
    "  }\n",
    "]\n",
    "\"\"\"\n",
    "\n",
    "data = json.loads(message)\n",
    "data[0]['have'][0][1]"
   ]
  }
 ],
 "metadata": {
  "kernelspec": {
   "display_name": "Python 3",
   "language": "python",
   "name": "python3"
  },
  "language_info": {
   "codemirror_mode": {
    "name": "ipython",
    "version": 3
   },
   "file_extension": ".py",
   "mimetype": "text/x-python",
   "name": "python",
   "nbconvert_exporter": "python",
   "pygments_lexer": "ipython3",
   "version": "3.12.6"
  }
 },
 "nbformat": 4,
 "nbformat_minor": 2
}
