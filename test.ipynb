{
 "cells": [
  {
   "cell_type": "code",
   "execution_count": 1,
   "metadata": {},
   "outputs": [
    {
     "data": {
      "text/plain": [
       "55"
      ]
     },
     "execution_count": 1,
     "metadata": {},
     "output_type": "execute_result"
    },
    {
     "data": {
      "text/plain": [
       "6"
      ]
     },
     "execution_count": 1,
     "metadata": {},
     "output_type": "execute_result"
    }
   ],
   "source": [
    "def find_Min_Difference(L, P):\n",
    "  L = sorted(L)\n",
    "  mini = float('inf')\n",
    "  for i in range(0, len(L)-P+1):\n",
    "    new_mini = abs(L[i] - L[i+P-1])\n",
    "    if new_mini < mini:\n",
    "      mini = new_mini\n",
    "  return mini\n",
    "\n",
    "\n",
    "find_Min_Difference([3, 4, 1, 9, 56, 7], 6)\n",
    "find_Min_Difference([3, 4, 1, 9, 56, 7, 9, 12], 5)"
   ]
  },
  {
   "cell_type": "code",
   "execution_count": 2,
   "metadata": {},
   "outputs": [
    {
     "data": {
      "text/plain": [
       "[(3, 23), (7, 19), (13, 13)]"
      ]
     },
     "execution_count": 2,
     "metadata": {},
     "output_type": "execute_result"
    }
   ],
   "source": [
    "def is_prime(n):\n",
    "  for i in range(2, int(n**0.5)+1):\n",
    "    if n % i == 0:\n",
    "      return False\n",
    "  return True\n",
    "\n",
    "\n",
    "def Goldbach(n):\n",
    "  ans = []\n",
    "  for i in range(2, n//2+1):\n",
    "    if is_prime(i) and is_prime(n-i):\n",
    "      ans.append((i, n-i))\n",
    "  return ans\n",
    "\n",
    "\n",
    "Goldbach(26)"
   ]
  },
  {
   "cell_type": "code",
   "execution_count": 3,
   "metadata": {},
   "outputs": [
    {
     "data": {
      "text/plain": [
       "'float'"
      ]
     },
     "execution_count": 3,
     "metadata": {},
     "output_type": "execute_result"
    }
   ],
   "source": [
    "def odd_one(L):\n",
    "  freq = {\n",
    "      'int': 0,\n",
    "      'float': 0,\n",
    "      'str': 0,\n",
    "      'bool': 0,\n",
    "  }\n",
    "\n",
    "  for el in L:\n",
    "    if type(el) == int:\n",
    "      freq['int'] += 1\n",
    "    if type(el) == float:\n",
    "      freq['float'] += 1\n",
    "    if type(el) == str:\n",
    "      freq['str'] += 1\n",
    "    if type(el) == bool:\n",
    "      freq['bool'] += 1\n",
    "\n",
    "  for key, val in freq.items():\n",
    "    if val == 1:\n",
    "      return key\n",
    "\n",
    "\n",
    "odd_one([2, 13, 16, 4.5])"
   ]
  }
 ],
 "metadata": {
  "kernelspec": {
   "display_name": "Python 3",
   "language": "python",
   "name": "python3"
  },
  "language_info": {
   "codemirror_mode": {
    "name": "ipython",
    "version": 3
   },
   "file_extension": ".py",
   "mimetype": "text/x-python",
   "name": "python",
   "nbconvert_exporter": "python",
   "pygments_lexer": "ipython3",
   "version": "3.12.6"
  }
 },
 "nbformat": 4,
 "nbformat_minor": 2
}
