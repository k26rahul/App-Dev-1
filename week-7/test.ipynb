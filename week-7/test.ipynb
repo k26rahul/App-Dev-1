{
 "cells": [
  {
   "cell_type": "code",
   "execution_count": 2,
   "metadata": {},
   "outputs": [],
   "source": [
    "from app import create_app\n",
    "from models import *\n",
    "app = create_app()"
   ]
  },
  {
   "cell_type": "code",
   "execution_count": 30,
   "metadata": {},
   "outputs": [
    {
     "data": {
      "text/plain": [
       "False"
      ]
     },
     "execution_count": 30,
     "metadata": {},
     "output_type": "execute_result"
    }
   ],
   "source": [
    "with app.app_context():\n",
    "  stats = Course.query.filter_by(name='Stats').first()\n",
    "  pdsa = Course.query.filter_by(name='PDSA').first()\n",
    "  small_list_of_two_courses = [stats, pdsa]\n",
    "\n",
    "  enroll_1 = Enrollment.query.first()\n",
    "  enroll_1.course in small_list_of_two_courses"
   ]
  },
  {
   "cell_type": "code",
   "execution_count": 34,
   "metadata": {},
   "outputs": [
    {
     "data": {
      "text/plain": [
       "<Course 3>"
      ]
     },
     "execution_count": 34,
     "metadata": {},
     "output_type": "execute_result"
    },
    {
     "data": {
      "text/plain": [
       "[<Enrollment 1>, <Enrollment 2>]"
      ]
     },
     "execution_count": 34,
     "metadata": {},
     "output_type": "execute_result"
    },
    {
     "data": {
      "text/plain": [
       "[<Course 1>, <Course 2>]"
      ]
     },
     "execution_count": 34,
     "metadata": {},
     "output_type": "execute_result"
    },
    {
     "data": {
      "text/plain": [
       "False"
      ]
     },
     "execution_count": 34,
     "metadata": {},
     "output_type": "execute_result"
    }
   ],
   "source": [
    "with app.app_context():\n",
    "  pdsa = Course.query.filter_by(name='PDSA').first()\n",
    "  vidu_enrolls = Enrollment.query.filter_by(student_id=1).all()\n",
    "  vidu_courses = [enroll.course for enroll in vidu_enrolls]\n",
    "  pdsa\n",
    "  vidu_enrolls\n",
    "  vidu_courses\n",
    "  # is vidu enrolled in pdsa?\n",
    "  # is pdsa present in vidu_courses?\n",
    "  pdsa in vidu_courses"
   ]
  },
  {
   "cell_type": "code",
   "execution_count": 37,
   "metadata": {},
   "outputs": [
    {
     "data": {
      "text/plain": [
       "[<Course 1>, <Course 2>, <Course 3>]"
      ]
     },
     "execution_count": 37,
     "metadata": {},
     "output_type": "execute_result"
    },
    {
     "data": {
      "text/plain": [
       "[<Course 1>, <Course 2>]"
      ]
     },
     "execution_count": 37,
     "metadata": {},
     "output_type": "execute_result"
    },
    {
     "name": "stdout",
     "output_type": "stream",
     "text": [
      "Maths is taken by vidu\n",
      "Stats is taken by vidu\n",
      "PDSA is NOT taken by vidu\n"
     ]
    }
   ],
   "source": [
    "with app.app_context():\n",
    "  all_courses = Course.query.all()\n",
    "  vidu_enrolls = Enrollment.query.filter_by(student_id=1).all()\n",
    "  vidu_courses = [enroll.course for enroll in vidu_enrolls]\n",
    "  all_courses\n",
    "  # vidu_enrolls\n",
    "  vidu_courses\n",
    "  for course in all_courses:\n",
    "    if course in vidu_courses:  # if vidu enrolled in this course\n",
    "      print(f'{course.name} is taken by vidu')\n",
    "    else:\n",
    "      print(f'{course.name} is NOT taken by vidu')"
   ]
  },
  {
   "cell_type": "code",
   "execution_count": 15,
   "metadata": {},
   "outputs": [
    {
     "data": {
      "text/plain": [
       "15"
      ]
     },
     "execution_count": 15,
     "metadata": {},
     "output_type": "execute_result"
    },
    {
     "data": {
      "text/plain": [
       "16"
      ]
     },
     "execution_count": 15,
     "metadata": {},
     "output_type": "execute_result"
    },
    {
     "data": {
      "text/plain": [
       "17"
      ]
     },
     "execution_count": 15,
     "metadata": {},
     "output_type": "execute_result"
    },
    {
     "data": {
      "text/plain": [
       "18"
      ]
     },
     "execution_count": 15,
     "metadata": {},
     "output_type": "execute_result"
    }
   ],
   "source": [
    "numbers = [15, 16, 17, 18]\n",
    "for number in numbers:\n",
    "  number"
   ]
  },
  {
   "cell_type": "code",
   "execution_count": 32,
   "metadata": {},
   "outputs": [
    {
     "data": {
      "text/plain": [
       "True"
      ]
     },
     "execution_count": 32,
     "metadata": {},
     "output_type": "execute_result"
    },
    {
     "data": {
      "text/plain": [
       "True"
      ]
     },
     "execution_count": 32,
     "metadata": {},
     "output_type": "execute_result"
    }
   ],
   "source": [
    "15 == 15\n",
    "15 in [17, 21, 5, 15, 20]"
   ]
  },
  {
   "cell_type": "code",
   "execution_count": 40,
   "metadata": {},
   "outputs": [
    {
     "name": "stdout",
     "output_type": "stream",
     "text": [
      "Maths is selected\n",
      "Stats is selected\n",
      "PDSA is NOT selected\n"
     ]
    }
   ],
   "source": [
    "# final\n",
    "with app.app_context():\n",
    "  all_courses = Course.query.all()\n",
    "  vidu_enrolls = Enrollment.query.filter_by(student_id=1).all()\n",
    "  vidu_courses = [enroll.course for enroll in vidu_enrolls]\n",
    "  for course in all_courses:\n",
    "    if course in vidu_courses:\n",
    "      print(f'{course.name} is selected')\n",
    "    else:\n",
    "      print(f'{course.name} is NOT selected')"
   ]
  }
 ],
 "metadata": {
  "kernelspec": {
   "display_name": "Python 3",
   "language": "python",
   "name": "python3"
  },
  "language_info": {
   "codemirror_mode": {
    "name": "ipython",
    "version": 3
   },
   "file_extension": ".py",
   "mimetype": "text/x-python",
   "name": "python",
   "nbconvert_exporter": "python",
   "pygments_lexer": "ipython3",
   "version": "3.12.6"
  }
 },
 "nbformat": 4,
 "nbformat_minor": 2
}
