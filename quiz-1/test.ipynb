{
 "cells": [
  {
   "cell_type": "code",
   "execution_count": 1,
   "metadata": {},
   "outputs": [
    {
     "data": {
      "text/plain": [
       "32"
      ]
     },
     "execution_count": 1,
     "metadata": {},
     "output_type": "execute_result"
    },
    {
     "data": {
      "text/plain": [
       "39"
      ]
     },
     "execution_count": 1,
     "metadata": {},
     "output_type": "execute_result"
    }
   ],
   "source": [
    "len(list('pack my box with five dozen liquor jugs'.replace(' ', '')))\n",
    "len('pack my box with five dozen liquor jugs')"
   ]
  },
  {
   "cell_type": "code",
   "execution_count": 31,
   "metadata": {},
   "outputs": [
    {
     "data": {
      "text/plain": [
       "1"
      ]
     },
     "execution_count": 31,
     "metadata": {},
     "output_type": "execute_result"
    },
    {
     "data": {
      "text/plain": [
       "2"
      ]
     },
     "execution_count": 31,
     "metadata": {},
     "output_type": "execute_result"
    },
    {
     "data": {
      "text/plain": [
       "3"
      ]
     },
     "execution_count": 31,
     "metadata": {},
     "output_type": "execute_result"
    },
    {
     "data": {
      "text/plain": [
       "4"
      ]
     },
     "execution_count": 31,
     "metadata": {},
     "output_type": "execute_result"
    }
   ],
   "source": [
    "class Student:\n",
    "  idx = 1\n",
    "\n",
    "  def __init__(self, name):\n",
    "    self.roll_no = Student.idx\n",
    "    Student.idx += 1\n",
    "    self.name = name.upper()\n",
    "\n",
    "\n",
    "rahul = Student('rahul maurya')\n",
    "vidu = Student('vidu hr')\n",
    "muskan = Student('muskan ag')\n",
    "harikesh = Student('harikesh shukla')\n",
    "\n",
    "rahul.roll_no\n",
    "vidu.roll_no\n",
    "muskan.roll_no\n",
    "harikesh.roll_no"
   ]
  },
  {
   "cell_type": "code",
   "execution_count": 7,
   "metadata": {},
   "outputs": [
    {
     "name": "stdout",
     "output_type": "stream",
     "text": [
      "i am vidu, i live in $place\n"
     ]
    }
   ],
   "source": [
    "from string import Template\n",
    "\n",
    "statement = 'i am $name, i live in $place'\n",
    "\n",
    "out = Template(statement)\n",
    "\n",
    "print(out.safe_substitute({'name': 'vidu'}))"
   ]
  },
  {
   "cell_type": "code",
   "execution_count": 8,
   "metadata": {},
   "outputs": [
    {
     "name": "stdout",
     "output_type": "stream",
     "text": [
      "$city2 and $city1 are in $country1\n"
     ]
    }
   ],
   "source": [
    "from jinja2 import Template\n",
    "\n",
    "template = Template('${{city3}} and ${{city4}} are in ${{country2}}')\n",
    "out1 = template.render(city3='city2', city4='city1', country2='country1')\n",
    "print(out1)"
   ]
  },
  {
   "cell_type": "code",
   "execution_count": 31,
   "metadata": {},
   "outputs": [
    {
     "name": "stdout",
     "output_type": "stream",
     "text": [
      "Delhi and Mumbai are in India\n"
     ]
    }
   ],
   "source": [
    "from string import Template\n",
    "\n",
    "template = Template(out1)\n",
    "out2 = template.substitute(city2='Delhi', city1='Mumbai', country1='India')\n",
    "print(out2)"
   ]
  },
  {
   "cell_type": "code",
   "execution_count": 3,
   "metadata": {},
   "outputs": [
    {
     "name": "stdout",
     "output_type": "stream",
     "text": [
      "\n",
      "\n",
      "Interfaces in lan 40: Ether2\n",
      "\n",
      "Interfaces in lan 50: Ether1, Ether3\n",
      "\n",
      "Interfaces in lan 60: Ether4\n",
      "\n"
     ]
    }
   ],
   "source": [
    "from jinja2 import Template\n",
    "temp = \"\"\"\n",
    "{% for vid, members in interfaces|groupby(attribute='lan') %}\n",
    "Interfaces in lan {{ vid }}: {{ members|map(attribute='name')|join(', ') }}\n",
    "{% endfor %}\n",
    "\"\"\"\n",
    "\n",
    "interfaces = [\n",
    "    {'name': 'Ether1', 'lan': 50},\n",
    "    {'name': 'Ether2', 'lan': 40},\n",
    "    {'name': 'Ether3', 'lan': 50},\n",
    "    {'name': 'Ether4', 'lan': 60},\n",
    "]\n",
    "\n",
    "output = Template(temp).render(interfaces=interfaces)\n",
    "print(output)"
   ]
  },
  {
   "cell_type": "code",
   "execution_count": 1,
   "metadata": {},
   "outputs": [],
   "source": [
    "import sqlite3"
   ]
  },
  {
   "cell_type": "code",
   "execution_count": 5,
   "metadata": {},
   "outputs": [],
   "source": [
    "# Connect to SQLite database\n",
    "conn = sqlite3.connect('test.db')\n",
    "cursor = conn.cursor()"
   ]
  },
  {
   "cell_type": "code",
   "execution_count": 6,
   "metadata": {},
   "outputs": [
    {
     "data": {
      "text/plain": [
       "<sqlite3.Cursor at 0x1fb53a5b140>"
      ]
     },
     "execution_count": 6,
     "metadata": {},
     "output_type": "execute_result"
    }
   ],
   "source": [
    "# Create the student table\n",
    "cursor.execute('''\n",
    "CREATE TABLE student (\n",
    "    RollNo INTEGER PRIMARY KEY,\n",
    "    Name TEXT,\n",
    "    SubjectID TEXT\n",
    ")\n",
    "''')"
   ]
  },
  {
   "cell_type": "code",
   "execution_count": 7,
   "metadata": {},
   "outputs": [
    {
     "data": {
      "text/plain": [
       "<sqlite3.Cursor at 0x1fb53a5b140>"
      ]
     },
     "execution_count": 7,
     "metadata": {},
     "output_type": "execute_result"
    }
   ],
   "source": [
    "# Create the subject table\n",
    "cursor.execute('''\n",
    "CREATE TABLE subject (\n",
    "    SubjectID TEXT PRIMARY KEY,\n",
    "    SubjectName TEXT\n",
    ")\n",
    "''')"
   ]
  },
  {
   "cell_type": "code",
   "execution_count": 8,
   "metadata": {},
   "outputs": [
    {
     "data": {
      "text/plain": [
       "<sqlite3.Cursor at 0x1fb53a5b140>"
      ]
     },
     "execution_count": 8,
     "metadata": {},
     "output_type": "execute_result"
    }
   ],
   "source": [
    "# Insert data into student table\n",
    "students = [\n",
    "    (1, 'Kavi', 'S1'),\n",
    "    (2, 'Subhash', 'S2'),\n",
    "    (3, 'Nazrul', 'S1'),\n",
    "    (4, 'Tagore', 'S3'),\n",
    "    (5, 'Rohit', 'S2'),\n",
    "    (6, 'Sourav', 'S1')\n",
    "]\n",
    "cursor.executemany('INSERT INTO student VALUES (?, ?, ?)', students)\n",
    "conn.commit()"
   ]
  },
  {
   "cell_type": "code",
   "execution_count": 9,
   "metadata": {},
   "outputs": [
    {
     "data": {
      "text/plain": [
       "<sqlite3.Cursor at 0x1fb53a5b140>"
      ]
     },
     "execution_count": 9,
     "metadata": {},
     "output_type": "execute_result"
    }
   ],
   "source": [
    "# Insert data into subject table\n",
    "subjects = [\n",
    "    ('S1', 'Bengali'),\n",
    "    ('S2', 'English'),\n",
    "    ('S3', 'Hindi')\n",
    "]\n",
    "cursor.executemany('INSERT INTO subject VALUES (?, ?)', subjects)\n",
    "conn.commit()"
   ]
  },
  {
   "cell_type": "code",
   "execution_count": 22,
   "metadata": {},
   "outputs": [
    {
     "data": {
      "text/plain": [
       "<sqlite3.Cursor at 0x1fb53a5b140>"
      ]
     },
     "execution_count": 22,
     "metadata": {},
     "output_type": "execute_result"
    },
    {
     "data": {
      "text/plain": [
       "[(1, 'Kavi', 'S1', 'Bengali'),\n",
       " (3, 'Nazrul', 'S1', 'Bengali'),\n",
       " (6, 'Sourav', 'S1', 'Bengali')]"
      ]
     },
     "execution_count": 22,
     "metadata": {},
     "output_type": "execute_result"
    }
   ],
   "source": [
    "# Run a select query to verify\n",
    "cursor.execute(\"\"\"\n",
    "SELECT * FROM student NATURAL JOIN subject\n",
    "               WHERE subject.subjectName = 'Bengali'\n",
    "\"\"\")\n",
    "result = cursor.fetchall()\n",
    "result"
   ]
  },
  {
   "cell_type": "code",
   "execution_count": 21,
   "metadata": {},
   "outputs": [
    {
     "data": {
      "text/plain": [
       "<sqlite3.Cursor at 0x1fb53a5b140>"
      ]
     },
     "execution_count": 21,
     "metadata": {},
     "output_type": "execute_result"
    },
    {
     "data": {
      "text/plain": [
       "[(1, 'Kavi', 'S1', 'S1', 'Bengali'),\n",
       " (3, 'Nazrul', 'S1', 'S1', 'Bengali'),\n",
       " (6, 'Sourav', 'S1', 'S1', 'Bengali')]"
      ]
     },
     "execution_count": 21,
     "metadata": {},
     "output_type": "execute_result"
    }
   ],
   "source": [
    "# Run a select query to verify\n",
    "cursor.execute(\"\"\"\n",
    "SELECT * FROM student INNER JOIN subject\n",
    "               ON student.SubjectId = subject.SubjectId\n",
    "               WHERE subject.subjectName = 'Bengali'\n",
    "\"\"\")\n",
    "result = cursor.fetchall()\n",
    "result"
   ]
  },
  {
   "cell_type": "code",
   "execution_count": 20,
   "metadata": {},
   "outputs": [
    {
     "data": {
      "text/plain": [
       "<sqlite3.Cursor at 0x1fb53a5b140>"
      ]
     },
     "execution_count": 20,
     "metadata": {},
     "output_type": "execute_result"
    },
    {
     "data": {
      "text/plain": [
       "[(1, 'Kavi', 'S1', 'S1', 'Bengali'),\n",
       " (3, 'Nazrul', 'S1', 'S1', 'Bengali'),\n",
       " (6, 'Sourav', 'S1', 'S1', 'Bengali')]"
      ]
     },
     "execution_count": 20,
     "metadata": {},
     "output_type": "execute_result"
    }
   ],
   "source": [
    "# Run a select query to verify\n",
    "cursor.execute(\"\"\"\n",
    "SELECT * FROM student, subject\n",
    "               WHERE student.SubjectId = subject.SubjectId\n",
    "               AND subject.subjectName = 'Bengali'\n",
    "\"\"\")\n",
    "result = cursor.fetchall()\n",
    "result"
   ]
  }
 ],
 "metadata": {
  "kernelspec": {
   "display_name": "Python 3",
   "language": "python",
   "name": "python3"
  },
  "language_info": {
   "codemirror_mode": {
    "name": "ipython",
    "version": 3
   },
   "file_extension": ".py",
   "mimetype": "text/x-python",
   "name": "python",
   "nbconvert_exporter": "python",
   "pygments_lexer": "ipython3",
   "version": "3.12.6"
  }
 },
 "nbformat": 4,
 "nbformat_minor": 2
}
