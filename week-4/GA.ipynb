{
 "cells": [
  {
   "cell_type": "markdown",
   "metadata": {},
   "source": [
    "# 01-02"
   ]
  },
  {
   "cell_type": "code",
   "execution_count": 1,
   "metadata": {},
   "outputs": [],
   "source": [
    "import sqlite3\n",
    "conn = sqlite3.connect(':memory:')\n",
    "c = conn.cursor()"
   ]
  },
  {
   "cell_type": "code",
   "execution_count": 2,
   "metadata": {},
   "outputs": [
    {
     "data": {
      "text/plain": [
       "<sqlite3.Cursor at 0x1a742fa99c0>"
      ]
     },
     "execution_count": 2,
     "metadata": {},
     "output_type": "execute_result"
    }
   ],
   "source": [
    "# Create table Instructors\n",
    "c.execute('''CREATE TABLE Instructors (\n",
    "    Instructor_ID INTEGER PRIMARY KEY,\n",
    "    Instructor_Name TEXT,\n",
    "    Department_Name TEXT\n",
    ")''')"
   ]
  },
  {
   "cell_type": "code",
   "execution_count": 3,
   "metadata": {},
   "outputs": [
    {
     "data": {
      "text/plain": [
       "<sqlite3.Cursor at 0x1a742fa99c0>"
      ]
     },
     "execution_count": 3,
     "metadata": {},
     "output_type": "execute_result"
    }
   ],
   "source": [
    "# Create table Departments\n",
    "c.execute('''CREATE TABLE Departments (\n",
    "    Department_Name TEXT PRIMARY KEY,\n",
    "    Building_Name TEXT\n",
    ")''')"
   ]
  },
  {
   "cell_type": "code",
   "execution_count": 4,
   "metadata": {},
   "outputs": [
    {
     "data": {
      "text/plain": [
       "<sqlite3.Cursor at 0x1a742fa99c0>"
      ]
     },
     "execution_count": 4,
     "metadata": {},
     "output_type": "execute_result"
    }
   ],
   "source": [
    "# Insert data into Instructors table\n",
    "data = [\n",
    "    (101, \"Amit Dubey\", \"Physics\"),\n",
    "    (102, \"Sarthak Gaur\", \"English\"),\n",
    "    (103, \"Neha Sharma\", \"English\"),\n",
    "    (104, \"Sumit Kumar\", \"Chemistry\"),\n",
    "    (105, \"Himanshi Mehra\", \"Mathematics\")\n",
    "]\n",
    "c.executemany(\"INSERT INTO Instructors VALUES (?, ?, ?)\", data)\n",
    "conn.commit()"
   ]
  },
  {
   "cell_type": "code",
   "execution_count": 5,
   "metadata": {},
   "outputs": [
    {
     "data": {
      "text/plain": [
       "<sqlite3.Cursor at 0x1a742fa99c0>"
      ]
     },
     "execution_count": 5,
     "metadata": {},
     "output_type": "execute_result"
    }
   ],
   "source": [
    "# Insert data into Departments table\n",
    "data = [\n",
    "    (\"English\", \"B1\"),\n",
    "    (\"Mathematics\", \"B2\"),\n",
    "    (\"Physics\", \"B3\"),\n",
    "    (\"Chemistry\", \"B2\"),\n",
    "    (\"Finance\", \"B5\")\n",
    "]\n",
    "c.executemany(\"INSERT INTO Departments VALUES (?, ?)\", data)\n",
    "conn.commit()"
   ]
  },
  {
   "cell_type": "code",
   "execution_count": 6,
   "metadata": {},
   "outputs": [
    {
     "data": {
      "text/plain": [
       "<sqlite3.Cursor at 0x1a742fa99c0>"
      ]
     },
     "execution_count": 6,
     "metadata": {},
     "output_type": "execute_result"
    },
    {
     "name": "stdout",
     "output_type": "stream",
     "text": [
      "[('Sarthak Gaur',), ('Neha Sharma',), ('Sumit Kumar',), ('Himanshi Mehra',)]\n"
     ]
    }
   ],
   "source": [
    "# Run the query\n",
    "c.execute('''SELECT Instructor_Name\n",
    "FROM Instructors i\n",
    "JOIN Departments d ON d.Department_Name = i.Department_Name\n",
    "WHERE (i.Department_Name = 'English' OR d.Building_Name IN (\"B1\", \"B2\"))''')\n",
    "\n",
    "result = c.fetchall()\n",
    "print(result)"
   ]
  },
  {
   "cell_type": "code",
   "execution_count": 7,
   "metadata": {},
   "outputs": [
    {
     "data": {
      "text/plain": [
       "<sqlite3.Cursor at 0x1a742fa99c0>"
      ]
     },
     "execution_count": 7,
     "metadata": {},
     "output_type": "execute_result"
    },
    {
     "name": "stdout",
     "output_type": "stream",
     "text": [
      "[('Sarthak Gaur',), ('Neha Sharma',)]\n",
      "hello\n",
      "vidu\n"
     ]
    }
   ],
   "source": [
    "# Run the query\n",
    "c.execute('''SELECT Instructor_Name\n",
    "FROM Instructors i\n",
    "INNER JOIN Departments d ON i.Department_Name = d.Department_Name\n",
    "WHERE d.Building_Name = \"B1\"''')\n",
    "\n",
    "result = c.fetchall()\n",
    "print(result)\n",
    "print('hello')\n",
    "print('vidu')"
   ]
  },
  {
   "cell_type": "code",
   "execution_count": 8,
   "metadata": {},
   "outputs": [],
   "source": [
    "conn.close()"
   ]
  },
  {
   "cell_type": "markdown",
   "metadata": {},
   "source": [
    "# 03"
   ]
  },
  {
   "cell_type": "code",
   "execution_count": 9,
   "metadata": {},
   "outputs": [],
   "source": [
    "conn = sqlite3.connect(':memory:')\n",
    "c = conn.cursor()"
   ]
  },
  {
   "cell_type": "code",
   "execution_count": 10,
   "metadata": {},
   "outputs": [
    {
     "data": {
      "text/plain": [
       "<sqlite3.Cursor at 0x1a742faa640>"
      ]
     },
     "execution_count": 10,
     "metadata": {},
     "output_type": "execute_result"
    }
   ],
   "source": [
    "# Create the table without a primary key\n",
    "c.execute('''CREATE TABLE friends (\n",
    "    name TEXT\n",
    ")''')"
   ]
  },
  {
   "cell_type": "code",
   "execution_count": 11,
   "metadata": {},
   "outputs": [
    {
     "data": {
      "text/plain": [
       "<sqlite3.Cursor at 0x1a742faa640>"
      ]
     },
     "execution_count": 11,
     "metadata": {},
     "output_type": "execute_result"
    },
    {
     "data": {
      "text/plain": [
       "<sqlite3.Cursor at 0x1a742faa640>"
      ]
     },
     "execution_count": 11,
     "metadata": {},
     "output_type": "execute_result"
    },
    {
     "data": {
      "text/plain": [
       "<sqlite3.Cursor at 0x1a742faa640>"
      ]
     },
     "execution_count": 11,
     "metadata": {},
     "output_type": "execute_result"
    },
    {
     "data": {
      "text/plain": [
       "<sqlite3.Cursor at 0x1a742faa640>"
      ]
     },
     "execution_count": 11,
     "metadata": {},
     "output_type": "execute_result"
    },
    {
     "data": {
      "text/plain": [
       "<sqlite3.Cursor at 0x1a742faa640>"
      ]
     },
     "execution_count": 11,
     "metadata": {},
     "output_type": "execute_result"
    },
    {
     "data": {
      "text/plain": [
       "<sqlite3.Cursor at 0x1a742faa640>"
      ]
     },
     "execution_count": 11,
     "metadata": {},
     "output_type": "execute_result"
    }
   ],
   "source": [
    "# Insert data\n",
    "data = [\"vidu\", \"rahul\", \"muskan\", \"cmd\", \"harikesh\", \"harikesh\"]\n",
    "for name in data:\n",
    "  c.execute(\"INSERT INTO friends (name) VALUES (?)\", (name,))\n",
    "\n",
    "conn.commit()"
   ]
  },
  {
   "cell_type": "code",
   "execution_count": 12,
   "metadata": {},
   "outputs": [
    {
     "data": {
      "text/plain": [
       "<sqlite3.Cursor at 0x1a742faa640>"
      ]
     },
     "execution_count": 12,
     "metadata": {},
     "output_type": "execute_result"
    },
    {
     "name": "stdout",
     "output_type": "stream",
     "text": [
      "[('vidu',), ('rahul',), ('muskan',), ('cmd',), ('harikesh',), ('harikesh',)]\n"
     ]
    }
   ],
   "source": [
    "# Print the table contents\n",
    "c.execute(\"SELECT * FROM friends\")\n",
    "print(c.fetchall())\n",
    "\n",
    "conn.close()"
   ]
  }
 ],
 "metadata": {
  "kernelspec": {
   "display_name": "Python 3",
   "language": "python",
   "name": "python3"
  },
  "language_info": {
   "codemirror_mode": {
    "name": "ipython",
    "version": 3
   },
   "file_extension": ".py",
   "mimetype": "text/x-python",
   "name": "python",
   "nbconvert_exporter": "python",
   "pygments_lexer": "ipython3",
   "version": "3.12.6"
  }
 },
 "nbformat": 4,
 "nbformat_minor": 2
}
