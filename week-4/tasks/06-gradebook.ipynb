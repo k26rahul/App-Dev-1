{
 "cells": [
  {
   "cell_type": "markdown",
   "metadata": {},
   "source": [
    "# gradebook as `2D list`"
   ]
  },
  {
   "cell_type": "code",
   "execution_count": 27,
   "metadata": {},
   "outputs": [],
   "source": [
    "gradebook = [\n",
    "    [...],  # students\n",
    "    [...],  # courses\n",
    "    [...],  # student-course relationships (enrollments)\n",
    "]"
   ]
  },
  {
   "cell_type": "code",
   "execution_count": 28,
   "metadata": {},
   "outputs": [],
   "source": [
    "gradebook = [\n",
    "    ['vidu', 'rahul', 'muskan', 'sanika'],\n",
    "    ['maths', 'stats', 'mlf', 'pdsa', 'dbms'],\n",
    "    [\n",
    "        ('vidu', 'maths'),\n",
    "        ('vidu', 'mlf'),\n",
    "        ('rahul', 'pdsa'),\n",
    "        ('muskan', 'dbms')\n",
    "    ]\n",
    "]"
   ]
  },
  {
   "cell_type": "code",
   "execution_count": 29,
   "metadata": {},
   "outputs": [
    {
     "data": {
      "text/plain": [
       "[['vidu', 'rahul', 'muskan', 'sanika', 'harikesh'],\n",
       " ['maths', 'stats', 'mlf', 'pdsa', 'dbms', 'english'],\n",
       " [('vidu', 'maths'),\n",
       "  ('vidu', 'mlf'),\n",
       "  ('rahul', 'pdsa'),\n",
       "  ('muskan', 'dbms'),\n",
       "  ('sanika', 'dbms')]]"
      ]
     },
     "execution_count": 29,
     "metadata": {},
     "output_type": "execute_result"
    }
   ],
   "source": [
    "gradebook[0].append('harikesh')\n",
    "gradebook[1].append('english')\n",
    "gradebook[2].append(('sanika', 'dbms'))\n",
    "gradebook"
   ]
  },
  {
   "cell_type": "code",
   "execution_count": 30,
   "metadata": {},
   "outputs": [
    {
     "data": {
      "text/plain": [
       "['vidu', 'vidu', 'rahul', 'muskan', 'sanika']"
      ]
     },
     "execution_count": 30,
     "metadata": {},
     "output_type": "execute_result"
    },
    {
     "data": {
      "text/plain": [
       "['muskan', 'sanika']"
      ]
     },
     "execution_count": 30,
     "metadata": {},
     "output_type": "execute_result"
    }
   ],
   "source": [
    "[data[0] for data in gradebook[2]]\n",
    "[data[0] for data in gradebook[2] if data[1] == 'dbms']"
   ]
  },
  {
   "cell_type": "code",
   "execution_count": 31,
   "metadata": {},
   "outputs": [
    {
     "data": {
      "text/plain": [
       "['maths', 'mlf', 'pdsa', 'dbms', 'dbms']"
      ]
     },
     "execution_count": 31,
     "metadata": {},
     "output_type": "execute_result"
    },
    {
     "data": {
      "text/plain": [
       "[]"
      ]
     },
     "execution_count": 31,
     "metadata": {},
     "output_type": "execute_result"
    }
   ],
   "source": [
    "[data[1] for data in gradebook[2]]\n",
    "[data[1] for data in gradebook[2] if data[0] == 'harikesh']"
   ]
  },
  {
   "cell_type": "markdown",
   "metadata": {},
   "source": [
    "# gradebook as `dict`"
   ]
  },
  {
   "cell_type": "code",
   "execution_count": 32,
   "metadata": {},
   "outputs": [],
   "source": [
    "gradebook = {\n",
    "    'students': [...],  # students\n",
    "    'courses': [...],  # courses\n",
    "    'enrollments': [...],  # student-course relationships\n",
    "}"
   ]
  },
  {
   "cell_type": "code",
   "execution_count": 33,
   "metadata": {},
   "outputs": [],
   "source": [
    "gradebook = {\n",
    "    'students': ['vidu', 'rahul', 'muskan', 'sanika'],\n",
    "    'courses': ['maths', 'stats', 'mlf', 'pdsa', 'dbms'],\n",
    "    'enrollments': [\n",
    "        ('vidu', 'maths'),\n",
    "        ('vidu', 'mlf'),\n",
    "        ('rahul', 'pdsa'),\n",
    "        ('muskan', 'dbms')\n",
    "    ]\n",
    "}"
   ]
  },
  {
   "cell_type": "code",
   "execution_count": 34,
   "metadata": {},
   "outputs": [
    {
     "data": {
      "text/plain": [
       "{'students': ['vidu', 'rahul', 'muskan', 'sanika', 'harikesh'],\n",
       " 'courses': ['maths', 'stats', 'mlf', 'pdsa', 'dbms', 'english'],\n",
       " 'enrollments': [('vidu', 'maths'),\n",
       "  ('vidu', 'mlf'),\n",
       "  ('rahul', 'pdsa'),\n",
       "  ('muskan', 'dbms'),\n",
       "  ('sanika', 'dbms')]}"
      ]
     },
     "execution_count": 34,
     "metadata": {},
     "output_type": "execute_result"
    }
   ],
   "source": [
    "gradebook['students'].append('harikesh')\n",
    "gradebook['courses'].append('english')\n",
    "gradebook['enrollments'].append(('sanika', 'dbms'))\n",
    "gradebook"
   ]
  },
  {
   "cell_type": "code",
   "execution_count": 35,
   "metadata": {},
   "outputs": [
    {
     "data": {
      "text/plain": [
       "['vidu', 'vidu', 'rahul', 'muskan', 'sanika']"
      ]
     },
     "execution_count": 35,
     "metadata": {},
     "output_type": "execute_result"
    },
    {
     "data": {
      "text/plain": [
       "['muskan', 'sanika']"
      ]
     },
     "execution_count": 35,
     "metadata": {},
     "output_type": "execute_result"
    }
   ],
   "source": [
    "[data[0] for data in gradebook['enrollments']]\n",
    "[data[0] for data in gradebook['enrollments'] if data[1] == 'dbms']"
   ]
  },
  {
   "cell_type": "code",
   "execution_count": 36,
   "metadata": {},
   "outputs": [
    {
     "data": {
      "text/plain": [
       "['maths', 'mlf', 'pdsa', 'dbms', 'dbms']"
      ]
     },
     "execution_count": 36,
     "metadata": {},
     "output_type": "execute_result"
    },
    {
     "data": {
      "text/plain": [
       "[]"
      ]
     },
     "execution_count": 36,
     "metadata": {},
     "output_type": "execute_result"
    }
   ],
   "source": [
    "[data[1] for data in gradebook['enrollments']]\n",
    "[data[1] for data in gradebook['enrollments'] if data[0] == 'harikesh']"
   ]
  },
  {
   "cell_type": "markdown",
   "metadata": {},
   "source": [
    "# gradebook as `dict`, enrollments also `dict`"
   ]
  },
  {
   "cell_type": "code",
   "execution_count": 37,
   "metadata": {},
   "outputs": [],
   "source": [
    "gradebook = {\n",
    "    'students': ['vidu', 'rahul', 'muskan', 'sanika'],\n",
    "    'courses': ['maths', 'stats', 'mlf', 'pdsa', 'dbms'],\n",
    "    'enrollments': [\n",
    "        {'student': 'vidu', 'course': 'maths'},\n",
    "        {'student': 'vidu', 'course': 'mlf'},\n",
    "        {'student': 'rahul', 'course': 'pdsa'},\n",
    "        {'student': 'muskan', 'course': 'dbms'}\n",
    "    ]\n",
    "}"
   ]
  },
  {
   "cell_type": "code",
   "execution_count": 38,
   "metadata": {},
   "outputs": [
    {
     "data": {
      "text/plain": [
       "{'students': ['vidu', 'rahul', 'muskan', 'sanika', 'harikesh'],\n",
       " 'courses': ['maths', 'stats', 'mlf', 'pdsa', 'dbms', 'english'],\n",
       " 'enrollments': [{'student': 'vidu', 'course': 'maths'},\n",
       "  {'student': 'vidu', 'course': 'mlf'},\n",
       "  {'student': 'rahul', 'course': 'pdsa'},\n",
       "  {'student': 'muskan', 'course': 'dbms'},\n",
       "  {'student': 'sanika', 'course': 'dbms'}]}"
      ]
     },
     "execution_count": 38,
     "metadata": {},
     "output_type": "execute_result"
    }
   ],
   "source": [
    "gradebook['students'].append('harikesh')\n",
    "gradebook['courses'].append('english')\n",
    "gradebook['enrollments'].append({'student': 'sanika', 'course': 'dbms'})\n",
    "gradebook"
   ]
  },
  {
   "cell_type": "code",
   "execution_count": 39,
   "metadata": {},
   "outputs": [
    {
     "data": {
      "text/plain": [
       "['vidu', 'vidu', 'rahul', 'muskan', 'sanika']"
      ]
     },
     "execution_count": 39,
     "metadata": {},
     "output_type": "execute_result"
    },
    {
     "data": {
      "text/plain": [
       "['muskan', 'sanika']"
      ]
     },
     "execution_count": 39,
     "metadata": {},
     "output_type": "execute_result"
    }
   ],
   "source": [
    "[data['student'] for data in gradebook['enrollments']]\n",
    "[data['student'] for data in gradebook['enrollments'] if data['course'] == 'dbms']"
   ]
  },
  {
   "cell_type": "code",
   "execution_count": 40,
   "metadata": {},
   "outputs": [
    {
     "data": {
      "text/plain": [
       "['maths', 'mlf', 'pdsa', 'dbms', 'dbms']"
      ]
     },
     "execution_count": 40,
     "metadata": {},
     "output_type": "execute_result"
    },
    {
     "data": {
      "text/plain": [
       "[]"
      ]
     },
     "execution_count": 40,
     "metadata": {},
     "output_type": "execute_result"
    }
   ],
   "source": [
    "[data['course'] for data in gradebook['enrollments']]\n",
    "[data['course'] for data in gradebook['enrollments'] if data['student'] == 'harikesh']"
   ]
  },
  {
   "cell_type": "markdown",
   "metadata": {},
   "source": [
    "# model >>> storing the data >>> doing it right 🤔"
   ]
  },
  {
   "cell_type": "code",
   "execution_count": 41,
   "metadata": {},
   "outputs": [],
   "source": [
    "gradebook_bad = {\n",
    "    'students': [\n",
    "        ('vidu', [('maths', 't1', 2023), ('mlf', 't2', 2023)]),\n",
    "        ('rahul', [('pdsa', 't3', 2023)]),\n",
    "        ('muskan', [('dbms', 't3', 2023)]),\n",
    "        ('sanika', [])\n",
    "    ],\n",
    "    'courses': ['maths', 'stats', 'mlf', 'pdsa', 'dbms'],\n",
    "}"
   ]
  },
  {
   "cell_type": "code",
   "execution_count": 42,
   "metadata": {},
   "outputs": [],
   "source": [
    "gradebook_bad_better = {\n",
    "    'students': [\n",
    "        {'name': 'vidu', 'enrollments': [('maths', 't1', 2023), ('mlf', 't2', 2023)]},\n",
    "        {'name': 'rahul', 'enrollments': [('pdsa', 't3', 2023)]},\n",
    "        {'name': 'muskan', 'enrollments': [('dbms', 't3', 2023)]},\n",
    "        {'name': 'sanika', 'enrollments':  []}\n",
    "    ],\n",
    "    'courses': ['maths', 'stats', 'mlf', 'pdsa', 'dbms'],\n",
    "}"
   ]
  },
  {
   "cell_type": "code",
   "execution_count": 43,
   "metadata": {},
   "outputs": [],
   "source": [
    "gradebook_good = {\n",
    "    'students': ['vidu', 'rahul', 'muskan', 'sanika'],\n",
    "    'courses': ['maths', 'stats', 'mlf', 'pdsa', 'dbms'],\n",
    "    'enrollments': [\n",
    "        {'student': 'vidu', 'course': 'maths', 'term': 't1', 'year': 2023},\n",
    "        {'student': 'vidu', 'course': 'mlf', 'term': 't2', 'year': 2023},\n",
    "        {'student': 'rahul', 'course': 'pdsa', 'term': 't3', 'year': 2023},\n",
    "        {'student': 'muskan', 'course': 'dbms', 'term': 't3', 'year': 2023}\n",
    "    ]\n",
    "}"
   ]
  },
  {
   "cell_type": "markdown",
   "metadata": {},
   "source": [
    "# good model >>> easy to scale 📈"
   ]
  },
  {
   "cell_type": "code",
   "execution_count": 44,
   "metadata": {},
   "outputs": [],
   "source": [
    "gradebook_good = {\n",
    "    'students': [\n",
    "        {'name': 'vidu', 'place': 'hbh', 'age': 21},\n",
    "        {'name': 'rahul', 'place': 'albd', 'age': 21},\n",
    "        {'name': 'muskan', 'place': 'raipur', 'age': 22},\n",
    "        {'name': 'sanika', 'place': 'pune', 'age': 25},\n",
    "    ],\n",
    "    'courses': ['maths', 'stats', 'mlf', 'pdsa', 'dbms'],\n",
    "    'enrollments': [\n",
    "        {'student': 'vidu', 'course': 'maths', 'term': 't1', 'year': 2023},\n",
    "        {'student': 'vidu', 'course': 'mlf', 'term': 't2', 'year': 2023},\n",
    "        {'student': 'rahul', 'course': 'pdsa', 'term': 't3', 'year': 2023},\n",
    "        {'student': 'muskan', 'course': 'dbms', 'term': 't3', 'year': 2023}\n",
    "    ]\n",
    "}"
   ]
  },
  {
   "cell_type": "markdown",
   "metadata": {},
   "source": [
    "# good model >>> bulletproof 💪\n",
    "\n",
    "**safe from failure; without errors or shortcomings**\n",
    "\n",
    "https://www.google.com/search?q=idiom+bulletproof+meaning"
   ]
  },
  {
   "cell_type": "code",
   "execution_count": 45,
   "metadata": {},
   "outputs": [],
   "source": [
    "gradebook_bulletproof = {\n",
    "    'students': [\n",
    "        {'id': 'S001', 'name': 'vidu', 'place': 'hbh', 'age': 21},\n",
    "        {'id': 'S002', 'name': 'rahul', 'place': 'albd', 'age': 21},\n",
    "        {'id': 'S003', 'name': 'muskan', 'place': 'raipur', 'age': 22},\n",
    "        {'id': 'S004', 'name': 'sanika', 'place': 'pune', 'age': 25},\n",
    "        {'id': 'S005', 'name': 'sanika', 'place': 'mumbai', 'age': 24},  # 😱\n",
    "    ],\n",
    "    'courses': ['maths', 'stats', 'mlf', 'pdsa', 'dbms'],\n",
    "    'enrollments': [\n",
    "        {'student': 'S001', 'course': 'maths', 'term': 't1', 'year': 2023},\n",
    "        {'student': 'S001', 'course': 'mlf', 'term': 't2', 'year': 2023},\n",
    "        {'student': 'S002', 'course': 'pdsa', 'term': 't3', 'year': 2023},\n",
    "        {'student': 'S003', 'course': 'dbms', 'term': 't3', 'year': 2023},\n",
    "        {'student': 'S005', 'course': 'maths', 'term': 't1', 'year': 2024}  # 😱\n",
    "    ]\n",
    "}"
   ]
  },
  {
   "cell_type": "markdown",
   "metadata": {},
   "source": [
    "# model >>> scalable and bulletproof 🤗\n",
    "\n",
    "**👇 a complete example 👇**"
   ]
  },
  {
   "cell_type": "code",
   "execution_count": 46,
   "metadata": {},
   "outputs": [],
   "source": [
    "# a complete example\n",
    "gradebook = {\n",
    "    'students': [\n",
    "        {'id': 'S001', 'name': 'vidu', 'place': 'hbh', 'age': 21},\n",
    "        {'id': 'S002', 'name': 'rahul', 'place': 'albd', 'age': 21},\n",
    "        {'id': 'S003', 'name': 'muskan', 'place': 'raipur', 'age': 22},\n",
    "        {'id': 'S004', 'name': 'sanika', 'place': 'pune', 'age': 25},\n",
    "        {'id': 'S005', 'name': 'sanika', 'place': 'mumbai', 'age': 24},  # 😱\n",
    "    ],\n",
    "    'courses': [\n",
    "        {'id': 'maths1', 'name': 'Mathematics for Data Science 1', 'level': 'foundations'},\n",
    "        {'id': 'maths2', 'name': 'Mathematics for Data Science 2', 'level': 'foundations'},\n",
    "        {'id': 'stats', 'name': 'Statistics for Data Science', 'level': 'foundations'},\n",
    "        {'id': 'mlf', 'name': 'Machine Learning Foundations', 'level': 'diploma'},\n",
    "        {'id': 'pdsa', 'name': 'PDSA using Python', 'level': 'diploma'},\n",
    "        {'id': 'dbms', 'name': 'Database Management Systems', 'level': 'diploma'},\n",
    "    ],\n",
    "    'enrollments': [\n",
    "        {'student': 'S001', 'course': 'maths1', 'term': 't1', 'year': 2023},\n",
    "        {'student': 'S001', 'course': 'mlf', 'term': 't2', 'year': 2023},\n",
    "        {'student': 'S002', 'course': 'pdsa', 'term': 't3', 'year': 2023},\n",
    "        {'student': 'S003', 'course': 'dbms', 'term': 't3', 'year': 2023},\n",
    "        {'student': 'S005', 'course': 'maths1', 'term': 't1', 'year': 2024}  # 😱\n",
    "    ]\n",
    "}"
   ]
  },
  {
   "cell_type": "code",
   "execution_count": 47,
   "metadata": {},
   "outputs": [
    {
     "data": {
      "text/plain": [
       "[{'id': 'S001', 'name': 'vidu', 'place': 'hbh', 'age': 21},\n",
       " {'id': 'S002', 'name': 'rahul', 'place': 'albd', 'age': 21},\n",
       " {'id': 'S003', 'name': 'muskan', 'place': 'raipur', 'age': 22},\n",
       " {'id': 'S004', 'name': 'sanika', 'place': 'pune', 'age': 25},\n",
       " {'id': 'S005', 'name': 'sanika', 'place': 'mumbai', 'age': 24}]"
      ]
     },
     "execution_count": 47,
     "metadata": {},
     "output_type": "execute_result"
    }
   ],
   "source": [
    "[row for row in gradebook['students']]"
   ]
  },
  {
   "cell_type": "code",
   "execution_count": 48,
   "metadata": {},
   "outputs": [
    {
     "data": {
      "text/plain": [
       "['S001', 'S002', 'S003', 'S004', 'S005']"
      ]
     },
     "execution_count": 48,
     "metadata": {},
     "output_type": "execute_result"
    },
    {
     "data": {
      "text/plain": [
       "['vidu', 'rahul', 'muskan', 'sanika', 'sanika']"
      ]
     },
     "execution_count": 48,
     "metadata": {},
     "output_type": "execute_result"
    },
    {
     "data": {
      "text/plain": [
       "['muskan', 'sanika', 'sanika']"
      ]
     },
     "execution_count": 48,
     "metadata": {},
     "output_type": "execute_result"
    },
    {
     "data": {
      "text/plain": [
       "['S004', 'S005']"
      ]
     },
     "execution_count": 48,
     "metadata": {},
     "output_type": "execute_result"
    }
   ],
   "source": [
    "[row['id'] for row in gradebook['students']]\n",
    "[row['name'] for row in gradebook['students']]\n",
    "[row['name'] for row in gradebook['students'] if row['age'] >= 22]\n",
    "[row['id'] for row in gradebook['students'] if row['name'] == 'sanika']"
   ]
  },
  {
   "cell_type": "code",
   "execution_count": 49,
   "metadata": {},
   "outputs": [
    {
     "data": {
      "text/plain": [
       "[{'student': 'S001', 'course': 'maths1', 'term': 't1', 'year': 2023},\n",
       " {'student': 'S001', 'course': 'mlf', 'term': 't2', 'year': 2023},\n",
       " {'student': 'S002', 'course': 'pdsa', 'term': 't3', 'year': 2023},\n",
       " {'student': 'S003', 'course': 'dbms', 'term': 't3', 'year': 2023},\n",
       " {'student': 'S005', 'course': 'maths1', 'term': 't1', 'year': 2024}]"
      ]
     },
     "execution_count": 49,
     "metadata": {},
     "output_type": "execute_result"
    }
   ],
   "source": [
    "[row for row in gradebook['enrollments']]"
   ]
  },
  {
   "cell_type": "code",
   "execution_count": 50,
   "metadata": {},
   "outputs": [
    {
     "data": {
      "text/plain": [
       "['S001', 'S001', 'S002', 'S003', 'S005']"
      ]
     },
     "execution_count": 50,
     "metadata": {},
     "output_type": "execute_result"
    },
    {
     "data": {
      "text/plain": [
       "['S005']"
      ]
     },
     "execution_count": 50,
     "metadata": {},
     "output_type": "execute_result"
    }
   ],
   "source": [
    "[row['student'] for row in gradebook['enrollments']]\n",
    "[row['student'] for row in gradebook['enrollments'] if row['year'] == 2024]"
   ]
  },
  {
   "cell_type": "code",
   "execution_count": 51,
   "metadata": {},
   "outputs": [
    {
     "data": {
      "text/plain": [
       "['maths1', 'mlf']"
      ]
     },
     "execution_count": 51,
     "metadata": {},
     "output_type": "execute_result"
    },
    {
     "data": {
      "text/plain": [
       "['maths1', 'mlf', 'pdsa']"
      ]
     },
     "execution_count": 51,
     "metadata": {},
     "output_type": "execute_result"
    }
   ],
   "source": [
    "[row['course'] for row in gradebook['enrollments'] if row['student'] == 'S001']\n",
    "[row['course'] for row in gradebook['enrollments'] if row['student'] in ['S001', 'S002']]"
   ]
  },
  {
   "cell_type": "code",
   "execution_count": 52,
   "metadata": {},
   "outputs": [
    {
     "data": {
      "text/plain": [
       "['S001', 'S002']"
      ]
     },
     "execution_count": 52,
     "metadata": {},
     "output_type": "execute_result"
    },
    {
     "data": {
      "text/plain": [
       "['maths1', 'mlf', 'pdsa']"
      ]
     },
     "execution_count": 52,
     "metadata": {},
     "output_type": "execute_result"
    }
   ],
   "source": [
    "students_who_21yo = [row['id'] for row in gradebook['students'] if row['age'] == 21]\n",
    "students_who_21yo\n",
    "\n",
    "[row['course'] for row in gradebook['enrollments'] if row['student'] in students_who_21yo]"
   ]
  }
 ],
 "metadata": {
  "kernelspec": {
   "display_name": "Python 3",
   "language": "python",
   "name": "python3"
  },
  "language_info": {
   "codemirror_mode": {
    "name": "ipython",
    "version": 3
   },
   "file_extension": ".py",
   "mimetype": "text/x-python",
   "name": "python",
   "nbconvert_exporter": "python",
   "pygments_lexer": "ipython3",
   "version": "3.12.6"
  }
 },
 "nbformat": 4,
 "nbformat_minor": 2
}
