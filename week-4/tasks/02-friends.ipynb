{
 "cells": [
  {
   "cell_type": "markdown",
   "metadata": {},
   "source": [
    "# [name + place + state + age + weight + study] `2D list`"
   ]
  },
  {
   "cell_type": "code",
   "execution_count": 3,
   "metadata": {},
   "outputs": [
    {
     "data": {
      "text/plain": [
       "['vidu', 'vishnu', 'rahul', 'muskan', 'sanika']"
      ]
     },
     "execution_count": 3,
     "metadata": {},
     "output_type": "execute_result"
    },
    {
     "data": {
      "text/plain": [
       "['hbh', 'hbh', 'albd', 'raipur', 'pune']"
      ]
     },
     "execution_count": 3,
     "metadata": {},
     "output_type": "execute_result"
    },
    {
     "data": {
      "text/plain": [
       "['ka', 'ka', 'up', 'cg', 'mh']"
      ]
     },
     "execution_count": 3,
     "metadata": {},
     "output_type": "execute_result"
    },
    {
     "data": {
      "text/plain": [
       "['ba+bs', '3rd', 'bsc+bs', 'bs', 'btech+bs']"
      ]
     },
     "execution_count": 3,
     "metadata": {},
     "output_type": "execute_result"
    },
    {
     "data": {
      "text/plain": [
       "['rahul', 'albd', 'up', 21, 65, 'bsc+bs']"
      ]
     },
     "execution_count": 3,
     "metadata": {},
     "output_type": "execute_result"
    },
    {
     "data": {
      "text/plain": [
       "(False, True, True)"
      ]
     },
     "execution_count": 3,
     "metadata": {},
     "output_type": "execute_result"
    },
    {
     "data": {
      "text/plain": [
       "[['vidu', 'hbh', 'ka', 25, 50, 'ba+bs'],\n",
       " ['vishnu', 'hbh', 'ka', 12, 30, '3rd'],\n",
       " ['rahul', 'albd', 'up', 21, 65, 'bsc+bs'],\n",
       " ['muskan', 'raipur', 'cg', 20, 55, 'bs'],\n",
       " ['cmd', 'albd', 'up', 19, 50, 'btech'],\n",
       " ['harikesh', 'albd', 'up', 22, 70, 'bsc+bs']]"
      ]
     },
     "execution_count": 3,
     "metadata": {},
     "output_type": "execute_result"
    },
    {
     "data": {
      "text/plain": [
       "(['cmd'], ['vidu', 'rahul', 'muskan', 'harikesh'], ['vishnu'])"
      ]
     },
     "execution_count": 3,
     "metadata": {},
     "output_type": "execute_result"
    }
   ],
   "source": [
    "friends = [\n",
    "    ['vidu', 'hbh', 'ka', 25, 50, 'ba+bs'],\n",
    "    ['vishnu', 'hbh', 'ka', 12, 30, '3rd'],\n",
    "    ['rahul', 'albd', 'up', 21, 65, 'bsc+bs'],\n",
    "    ['muskan', 'raipur', 'cg', 20, 55, 'bs'],\n",
    "    ['sanika', 'pune', 'mh', 27, 60, 'btech+bs'],\n",
    "]\n",
    "\n",
    "\n",
    "def get_names():\n",
    "  return [row[0] for row in friends]\n",
    "\n",
    "\n",
    "def get_places():\n",
    "  return [row[1] for row in friends]\n",
    "\n",
    "\n",
    "def get_states():\n",
    "  return [row[2] for row in friends]\n",
    "\n",
    "\n",
    "def get_studies():\n",
    "  return [row[5] for row in friends]\n",
    "\n",
    "\n",
    "def get_data_of(name):\n",
    "  return [row for row in friends if row[0] == name][0]  # why [0]\n",
    "\n",
    "\n",
    "def get_people_studying(study):\n",
    "  return [row[0] for row in friends if study in row[5]]\n",
    "\n",
    "\n",
    "def is_friend(name):\n",
    "  return name in get_names()\n",
    "\n",
    "\n",
    "def add_friend(name, place, state, age, weight, study):\n",
    "  if not is_friend(name):\n",
    "    friends.append([name, place, state, age, weight, study])\n",
    "\n",
    "\n",
    "def remove_friend(name):\n",
    "  if is_friend(name):\n",
    "    friends.remove(get_data_of(name))\n",
    "\n",
    "\n",
    "get_names()\n",
    "get_places()\n",
    "get_states()\n",
    "get_studies()\n",
    "get_data_of('rahul')\n",
    "\n",
    "is_friend('zebra'), is_friend('vishnu'), is_friend('muskan')\n",
    "add_friend('cmd', 'albd', 'up', 19, 50, 'btech')\n",
    "add_friend('harikesh', 'albd', 'up', 22, 70, 'bsc+bs')\n",
    "remove_friend('sanika')\n",
    "friends\n",
    "\n",
    "get_people_studying('btech'), get_people_studying('bs'), get_people_studying('3rd')"
   ]
  },
  {
   "cell_type": "markdown",
   "metadata": {},
   "source": [
    "# [name + place + state + age + weight + study] `friends = {name: [...]}`"
   ]
  },
  {
   "cell_type": "code",
   "execution_count": 4,
   "metadata": {},
   "outputs": [
    {
     "data": {
      "text/plain": [
       "dict_keys(['vidu', 'vishnu', 'rahul', 'muskan', 'sanika'])"
      ]
     },
     "execution_count": 4,
     "metadata": {},
     "output_type": "execute_result"
    },
    {
     "data": {
      "text/plain": [
       "['hbh', 'hbh', 'albd', 'raipur', 'pune']"
      ]
     },
     "execution_count": 4,
     "metadata": {},
     "output_type": "execute_result"
    },
    {
     "data": {
      "text/plain": [
       "['ka', 'ka', 'up', 'cg', 'mh']"
      ]
     },
     "execution_count": 4,
     "metadata": {},
     "output_type": "execute_result"
    },
    {
     "data": {
      "text/plain": [
       "['ba+bs', '3rd', 'bsc+bs', 'bs', 'btech+bs']"
      ]
     },
     "execution_count": 4,
     "metadata": {},
     "output_type": "execute_result"
    },
    {
     "data": {
      "text/plain": [
       "['albd', 'up', 21, 65, 'bsc+bs']"
      ]
     },
     "execution_count": 4,
     "metadata": {},
     "output_type": "execute_result"
    },
    {
     "data": {
      "text/plain": [
       "(False, True, True)"
      ]
     },
     "execution_count": 4,
     "metadata": {},
     "output_type": "execute_result"
    },
    {
     "data": {
      "text/plain": [
       "{'vidu': ['hbh', 'ka', 25, 50, 'ba+bs'],\n",
       " 'vishnu': ['hbh', 'ka', 12, 30, '3rd'],\n",
       " 'rahul': ['albd', 'up', 21, 65, 'bsc+bs'],\n",
       " 'muskan': ['raipur', 'cg', 20, 55, 'bs'],\n",
       " 'cmd': ['albd', 'up', 19, 50, 'btech'],\n",
       " 'harikesh': ['albd', 'up', 22, 70, 'bsc+bs']}"
      ]
     },
     "execution_count": 4,
     "metadata": {},
     "output_type": "execute_result"
    },
    {
     "data": {
      "text/plain": [
       "(['cmd'], ['vidu', 'rahul', 'muskan', 'harikesh'], ['vishnu'])"
      ]
     },
     "execution_count": 4,
     "metadata": {},
     "output_type": "execute_result"
    }
   ],
   "source": [
    "friends = {\n",
    "    'vidu': ['hbh', 'ka', 25, 50, 'ba+bs'],\n",
    "    'vishnu': ['hbh', 'ka', 12, 30, '3rd'],\n",
    "    'rahul': ['albd', 'up', 21, 65, 'bsc+bs'],\n",
    "    'muskan': ['raipur', 'cg', 20, 55, 'bs'],\n",
    "    'sanika': ['pune', 'mh', 27, 60, 'btech+bs'],\n",
    "}\n",
    "\n",
    "\n",
    "def get_names():\n",
    "  return friends.keys()\n",
    "\n",
    "\n",
    "def get_places():\n",
    "  return [data[0] for data in friends.values()]\n",
    "\n",
    "\n",
    "def get_states():\n",
    "  return [data[1] for data in friends.values()]\n",
    "\n",
    "\n",
    "def get_studies():\n",
    "  return [data[4] for data in friends.values()]\n",
    "\n",
    "\n",
    "def get_data_of(name):\n",
    "  return friends[name]\n",
    "\n",
    "\n",
    "def get_people_studying(study):\n",
    "  return [name for name, data in friends.items() if study in data[4]]\n",
    "\n",
    "\n",
    "def is_friend(name):\n",
    "  return name in friends\n",
    "\n",
    "\n",
    "def add_friend(name, place, state, age, weight, study):\n",
    "  if not is_friend(name):\n",
    "    friends[name] = [place, state, age, weight, study]\n",
    "\n",
    "\n",
    "def remove_friend(name):\n",
    "  if is_friend(name):\n",
    "    del friends[name]\n",
    "\n",
    "\n",
    "get_names()\n",
    "get_places()\n",
    "get_states()\n",
    "get_studies()\n",
    "get_data_of('rahul')\n",
    "\n",
    "is_friend('zebra'), is_friend('vishnu'), is_friend('muskan')\n",
    "add_friend('cmd', 'albd', 'up', 19, 50, 'btech')\n",
    "add_friend('harikesh', 'albd', 'up', 22, 70, 'bsc+bs')\n",
    "remove_friend('sanika')\n",
    "friends\n",
    "\n",
    "get_people_studying('btech'), get_people_studying('bs'), get_people_studying('3rd')"
   ]
  },
  {
   "cell_type": "markdown",
   "metadata": {},
   "source": [
    "# [name + place + state + age + weight + study] `friends = {name: {...}}`"
   ]
  },
  {
   "cell_type": "code",
   "execution_count": 6,
   "metadata": {},
   "outputs": [
    {
     "data": {
      "text/plain": [
       "dict_keys(['vidu', 'vishnu', 'rahul', 'muskan', 'sanika'])"
      ]
     },
     "execution_count": 6,
     "metadata": {},
     "output_type": "execute_result"
    },
    {
     "data": {
      "text/plain": [
       "['hbh', 'hbh', 'albd', 'raipur', 'pune']"
      ]
     },
     "execution_count": 6,
     "metadata": {},
     "output_type": "execute_result"
    },
    {
     "data": {
      "text/plain": [
       "['ka', 'ka', 'up', 'cg', 'mh']"
      ]
     },
     "execution_count": 6,
     "metadata": {},
     "output_type": "execute_result"
    },
    {
     "data": {
      "text/plain": [
       "['ba+bs', '3rd', 'bsc+bs', 'bs', 'btech+bs']"
      ]
     },
     "execution_count": 6,
     "metadata": {},
     "output_type": "execute_result"
    },
    {
     "data": {
      "text/plain": [
       "{'place': 'albd', 'state': 'up', 'age': 21, 'weight': 65, 'study': 'bsc+bs'}"
      ]
     },
     "execution_count": 6,
     "metadata": {},
     "output_type": "execute_result"
    },
    {
     "data": {
      "text/plain": [
       "(False, True, True)"
      ]
     },
     "execution_count": 6,
     "metadata": {},
     "output_type": "execute_result"
    },
    {
     "data": {
      "text/plain": [
       "{'vidu': {'place': 'hbh',\n",
       "  'state': 'ka',\n",
       "  'age': 25,\n",
       "  'weight': 50,\n",
       "  'study': 'ba+bs'},\n",
       " 'vishnu': {'place': 'hbh',\n",
       "  'state': 'ka',\n",
       "  'age': 12,\n",
       "  'weight': 30,\n",
       "  'study': '3rd'},\n",
       " 'rahul': {'place': 'albd',\n",
       "  'state': 'up',\n",
       "  'age': 21,\n",
       "  'weight': 65,\n",
       "  'study': 'bsc+bs'},\n",
       " 'muskan': {'place': 'raipur',\n",
       "  'state': 'cg',\n",
       "  'age': 20,\n",
       "  'weight': 55,\n",
       "  'study': 'bs'},\n",
       " 'cmd': {'place': 'albd',\n",
       "  'state': 'up',\n",
       "  'age': 19,\n",
       "  'weight': 50,\n",
       "  'study': 'btech'},\n",
       " 'harikesh': {'place': 'albd',\n",
       "  'state': 'up',\n",
       "  'age': 22,\n",
       "  'weight': 70,\n",
       "  'study': 'bsc+bs'}}"
      ]
     },
     "execution_count": 6,
     "metadata": {},
     "output_type": "execute_result"
    },
    {
     "data": {
      "text/plain": [
       "(['cmd'], ['vidu', 'rahul', 'muskan', 'harikesh'], ['vishnu'])"
      ]
     },
     "execution_count": 6,
     "metadata": {},
     "output_type": "execute_result"
    }
   ],
   "source": [
    "friends = {\n",
    "    'vidu': {'place': 'hbh', 'state': 'ka', 'age': 25, 'weight': 50, 'study': 'ba+bs'},\n",
    "    'vishnu': {'place': 'hbh', 'state': 'ka', 'age': 12, 'weight': 30, 'study': '3rd'},\n",
    "    'rahul': {'place': 'albd', 'state': 'up', 'age': 21, 'weight': 65, 'study': 'bsc+bs'},\n",
    "    'muskan': {'place': 'raipur', 'state': 'cg', 'age': 20, 'weight': 55, 'study': 'bs'},\n",
    "    'sanika': {'place': 'pune', 'state': 'mh', 'age': 27, 'weight': 60, 'study': 'btech+bs'},\n",
    "}\n",
    "\n",
    "\n",
    "def get_names():\n",
    "  return friends.keys()\n",
    "\n",
    "\n",
    "def get_places():\n",
    "  return [data['place'] for data in friends.values()]\n",
    "\n",
    "\n",
    "def get_states():\n",
    "  return [data['state'] for data in friends.values()]\n",
    "\n",
    "\n",
    "def get_studies():\n",
    "  return [data['study'] for data in friends.values()]\n",
    "\n",
    "\n",
    "def get_data_of(name):\n",
    "  return friends[name]\n",
    "\n",
    "\n",
    "def get_people_studying(study):\n",
    "  return [name for name, data in friends.items() if study in data['study']]\n",
    "\n",
    "\n",
    "def is_friend(name):\n",
    "  return name in friends\n",
    "\n",
    "\n",
    "def add_friend(name, place, state, age, weight, study):\n",
    "  if not is_friend(name):\n",
    "    friends[name] = {'place': place, 'state': state, 'age': age, 'weight': weight, 'study': study}\n",
    "\n",
    "\n",
    "def remove_friend(name):\n",
    "  if is_friend(name):\n",
    "    del friends[name]\n",
    "\n",
    "\n",
    "get_names()\n",
    "get_places()\n",
    "get_states()\n",
    "get_studies()\n",
    "get_data_of('rahul')\n",
    "\n",
    "is_friend('zebra'), is_friend('vishnu'), is_friend('muskan')\n",
    "add_friend('cmd', 'albd', 'up', 19, 50, 'btech')\n",
    "add_friend('harikesh', 'albd', 'up', 22, 70, 'bsc+bs')\n",
    "remove_friend('sanika')\n",
    "friends\n",
    "\n",
    "get_people_studying('btech'), get_people_studying('bs'), get_people_studying('3rd')"
   ]
  }
 ],
 "metadata": {
  "kernelspec": {
   "display_name": "Python 3",
   "language": "python",
   "name": "python3"
  },
  "language_info": {
   "codemirror_mode": {
    "name": "ipython",
    "version": 3
   },
   "file_extension": ".py",
   "mimetype": "text/x-python",
   "name": "python",
   "nbconvert_exporter": "python",
   "pygments_lexer": "ipython3",
   "version": "3.12.6"
  }
 },
 "nbformat": 4,
 "nbformat_minor": 2
}
