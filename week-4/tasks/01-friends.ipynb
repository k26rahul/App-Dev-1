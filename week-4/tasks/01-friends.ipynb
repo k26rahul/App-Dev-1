{
 "cells": [
  {
   "cell_type": "markdown",
   "metadata": {},
   "source": [
    "# [name only] `1D list`"
   ]
  },
  {
   "cell_type": "code",
   "execution_count": 1,
   "metadata": {},
   "outputs": [
    {
     "data": {
      "text/plain": [
       "(False, False, True)"
      ]
     },
     "execution_count": 1,
     "metadata": {},
     "output_type": "execute_result"
    },
    {
     "data": {
      "text/plain": [
       "['vidu', 'rahul', 'muskan', 'cmd', 'harikesh']"
      ]
     },
     "execution_count": 1,
     "metadata": {},
     "output_type": "execute_result"
    }
   ],
   "source": [
    "friends = ['vidu', 'rahul', 'muskan', 'sanika']\n",
    "\n",
    "\n",
    "def is_friend(name):\n",
    "  return name in friends\n",
    "\n",
    "\n",
    "def add_friend(name):\n",
    "  if name not in friends:\n",
    "    friends.append(name)\n",
    "\n",
    "\n",
    "def remove_friend(name):\n",
    "  if name in friends:\n",
    "    friends.remove(name)\n",
    "\n",
    "\n",
    "add_friend('cmd')\n",
    "add_friend('harikesh')\n",
    "remove_friend('sanika')\n",
    "is_friend('zebra'), is_friend('sanika'), is_friend('vidu')\n",
    "friends"
   ]
  },
  {
   "cell_type": "markdown",
   "metadata": {},
   "source": [
    "# [name + place] `2D list`"
   ]
  },
  {
   "cell_type": "code",
   "execution_count": 2,
   "metadata": {},
   "outputs": [
    {
     "data": {
      "text/plain": [
       "['vidu', 'vishnu', 'rahul', 'muskan', 'sanika']"
      ]
     },
     "execution_count": 2,
     "metadata": {},
     "output_type": "execute_result"
    },
    {
     "data": {
      "text/plain": [
       "['hbh', 'hbh', 'albd', 'raipur', 'pune']"
      ]
     },
     "execution_count": 2,
     "metadata": {},
     "output_type": "execute_result"
    },
    {
     "data": {
      "text/plain": [
       "'albd'"
      ]
     },
     "execution_count": 2,
     "metadata": {},
     "output_type": "execute_result"
    },
    {
     "data": {
      "text/plain": [
       "['vidu', 'vishnu']"
      ]
     },
     "execution_count": 2,
     "metadata": {},
     "output_type": "execute_result"
    },
    {
     "data": {
      "text/plain": [
       "(False, True, True)"
      ]
     },
     "execution_count": 2,
     "metadata": {},
     "output_type": "execute_result"
    },
    {
     "data": {
      "text/plain": [
       "[['vidu', 'hbh'],\n",
       " ['vishnu', 'hbh'],\n",
       " ['rahul', 'albd'],\n",
       " ['muskan', 'raipur'],\n",
       " ['cmd', 'albd'],\n",
       " ['harikesh', 'albd']]"
      ]
     },
     "execution_count": 2,
     "metadata": {},
     "output_type": "execute_result"
    }
   ],
   "source": [
    "friends = [\n",
    "    ['vidu', 'hbh'],\n",
    "    ['vishnu', 'hbh'],\n",
    "    ['rahul', 'albd'],\n",
    "    ['muskan', 'raipur'],\n",
    "    ['sanika', 'pune']\n",
    "]\n",
    "\n",
    "\n",
    "def get_names():\n",
    "  return [row[0] for row in friends]\n",
    "\n",
    "\n",
    "def get_places():\n",
    "  return [row[1] for row in friends]\n",
    "\n",
    "\n",
    "def get_place_of(name):\n",
    "  return [row[1] for row in friends if row[0] == name][0]  # why [0]\n",
    "\n",
    "\n",
    "def get_people_from(place):\n",
    "  return [row[0] for row in friends if row[1] == place]\n",
    "\n",
    "\n",
    "def is_friend(name):\n",
    "  return name in get_names()\n",
    "\n",
    "\n",
    "def add_friend(name, place):\n",
    "  if not is_friend(name):\n",
    "    friends.append([name, place])\n",
    "\n",
    "\n",
    "def remove_friend(name):\n",
    "  if is_friend(name):\n",
    "    friends.remove([name, get_place_of(name)])\n",
    "\n",
    "\n",
    "get_names()\n",
    "get_places()\n",
    "get_place_of('rahul')\n",
    "get_people_from('hbh')\n",
    "is_friend('zebra'), is_friend('vishnu'), is_friend('muskan')\n",
    "\n",
    "add_friend('cmd', 'albd')\n",
    "add_friend('harikesh', 'albd')\n",
    "remove_friend('sanika')\n",
    "friends"
   ]
  },
  {
   "cell_type": "markdown",
   "metadata": {},
   "source": [
    "# [name + place + age] `2D list`"
   ]
  },
  {
   "cell_type": "code",
   "execution_count": 3,
   "metadata": {},
   "outputs": [
    {
     "data": {
      "text/plain": [
       "['vidu', 'vishnu', 'rahul', 'muskan', 'sanika']"
      ]
     },
     "execution_count": 3,
     "metadata": {},
     "output_type": "execute_result"
    },
    {
     "data": {
      "text/plain": [
       "['hbh', 'hbh', 'albd', 'raipur', 'pune']"
      ]
     },
     "execution_count": 3,
     "metadata": {},
     "output_type": "execute_result"
    },
    {
     "data": {
      "text/plain": [
       "'albd'"
      ]
     },
     "execution_count": 3,
     "metadata": {},
     "output_type": "execute_result"
    },
    {
     "data": {
      "text/plain": [
       "21"
      ]
     },
     "execution_count": 3,
     "metadata": {},
     "output_type": "execute_result"
    },
    {
     "data": {
      "text/plain": [
       "['vidu', 'vishnu']"
      ]
     },
     "execution_count": 3,
     "metadata": {},
     "output_type": "execute_result"
    },
    {
     "data": {
      "text/plain": [
       "(False, True, True)"
      ]
     },
     "execution_count": 3,
     "metadata": {},
     "output_type": "execute_result"
    },
    {
     "data": {
      "text/plain": [
       "[['vidu', 'hbh', 25],\n",
       " ['vishnu', 'hbh', 12],\n",
       " ['rahul', 'albd', 21],\n",
       " ['muskan', 'raipur', 20],\n",
       " ['cmd', 'albd', 19],\n",
       " ['harikesh', 'albd', 22]]"
      ]
     },
     "execution_count": 3,
     "metadata": {},
     "output_type": "execute_result"
    }
   ],
   "source": [
    "friends = [\n",
    "    ['vidu', 'hbh', 25],\n",
    "    ['vishnu', 'hbh', 12],\n",
    "    ['rahul', 'albd', 21],\n",
    "    ['muskan', 'raipur', 20],\n",
    "    ['sanika', 'pune', 27]\n",
    "]\n",
    "\n",
    "\n",
    "def get_names():\n",
    "  return [row[0] for row in friends]\n",
    "\n",
    "\n",
    "def get_places():\n",
    "  return [row[1] for row in friends]\n",
    "\n",
    "\n",
    "def get_people_from(place):\n",
    "  return [row[0] for row in friends if row[1] == place]\n",
    "\n",
    "\n",
    "def get_place_of(name):\n",
    "  return [row[1] for row in friends if row[0] == name][0]\n",
    "\n",
    "\n",
    "def get_age_of(name):\n",
    "  return [row[2] for row in friends if row[0] == name][0]\n",
    "\n",
    "\n",
    "def is_friend(name):\n",
    "  return name in get_names()\n",
    "\n",
    "\n",
    "def add_friend(name, place, age):\n",
    "  if not is_friend(name):\n",
    "    friends.append([name, place, age])\n",
    "\n",
    "\n",
    "def remove_friend(name):\n",
    "  if is_friend(name):\n",
    "    friends.remove([name, get_place_of(name), get_age_of(name)])\n",
    "\n",
    "\n",
    "get_names()\n",
    "get_places()\n",
    "get_place_of('rahul')\n",
    "get_age_of('rahul')\n",
    "get_people_from('hbh')\n",
    "is_friend('zebra'), is_friend('vishnu'), is_friend('muskan')\n",
    "\n",
    "add_friend('cmd', 'albd', 19)\n",
    "add_friend('harikesh', 'albd', 22)\n",
    "remove_friend('sanika')\n",
    "friends"
   ]
  },
  {
   "cell_type": "markdown",
   "metadata": {},
   "source": [
    "# [name + place + age] `friends = {name: [...]}`"
   ]
  },
  {
   "cell_type": "code",
   "execution_count": 4,
   "metadata": {},
   "outputs": [
    {
     "data": {
      "text/plain": [
       "dict_keys(['vidu', 'vishnu', 'rahul', 'muskan', 'sanika'])"
      ]
     },
     "execution_count": 4,
     "metadata": {},
     "output_type": "execute_result"
    },
    {
     "data": {
      "text/plain": [
       "['hbh', 'hbh', 'albd', 'raipur', 'pune']"
      ]
     },
     "execution_count": 4,
     "metadata": {},
     "output_type": "execute_result"
    },
    {
     "data": {
      "text/plain": [
       "'albd'"
      ]
     },
     "execution_count": 4,
     "metadata": {},
     "output_type": "execute_result"
    },
    {
     "data": {
      "text/plain": [
       "21"
      ]
     },
     "execution_count": 4,
     "metadata": {},
     "output_type": "execute_result"
    },
    {
     "data": {
      "text/plain": [
       "['vidu', 'vishnu']"
      ]
     },
     "execution_count": 4,
     "metadata": {},
     "output_type": "execute_result"
    },
    {
     "data": {
      "text/plain": [
       "(False, True, True)"
      ]
     },
     "execution_count": 4,
     "metadata": {},
     "output_type": "execute_result"
    },
    {
     "data": {
      "text/plain": [
       "{'vidu': ['hbh', 25],\n",
       " 'vishnu': ['hbh', 12],\n",
       " 'rahul': ['albd', 21],\n",
       " 'muskan': ['raipur', 20],\n",
       " 'cmd': ['albd', 19],\n",
       " 'harikesh': ['albd', 22]}"
      ]
     },
     "execution_count": 4,
     "metadata": {},
     "output_type": "execute_result"
    }
   ],
   "source": [
    "friends = {\n",
    "    'vidu': ['hbh', 25],\n",
    "    'vishnu': ['hbh', 12],\n",
    "    'rahul': ['albd', 21],\n",
    "    'muskan': ['raipur', 20],\n",
    "    'sanika': ['pune', 27]\n",
    "}\n",
    "\n",
    "\n",
    "def get_names():\n",
    "  return friends.keys()\n",
    "\n",
    "\n",
    "def get_places():\n",
    "  return [data[0] for data in friends.values()]\n",
    "\n",
    "\n",
    "def get_people_from(place):\n",
    "  return [name for name, data in friends.items() if data[0] == place]\n",
    "\n",
    "\n",
    "def get_place_of(name):\n",
    "  return friends[name][0]\n",
    "\n",
    "\n",
    "def get_age_of(name):\n",
    "  return friends[name][1]\n",
    "\n",
    "\n",
    "def is_friend(name):\n",
    "  return name in friends\n",
    "\n",
    "\n",
    "def add_friend(name, place, age):\n",
    "  if not is_friend(name):\n",
    "    friends[name] = [place, age]\n",
    "\n",
    "\n",
    "def remove_friend(name):\n",
    "  if is_friend(name):\n",
    "    del friends[name]\n",
    "\n",
    "\n",
    "get_names()\n",
    "get_places()\n",
    "get_place_of('rahul')\n",
    "get_age_of('rahul')\n",
    "get_people_from('hbh')\n",
    "is_friend('zebra'), is_friend('vishnu'), is_friend('muskan')\n",
    "\n",
    "add_friend('cmd', 'albd', 19)\n",
    "add_friend('harikesh', 'albd', 22)\n",
    "remove_friend('sanika')\n",
    "friends"
   ]
  },
  {
   "cell_type": "markdown",
   "metadata": {},
   "source": [
    "# [name + place + age] `friends = {name: {...}}`"
   ]
  },
  {
   "cell_type": "code",
   "execution_count": 5,
   "metadata": {},
   "outputs": [
    {
     "data": {
      "text/plain": [
       "dict_keys(['vidu', 'vishnu', 'rahul', 'muskan', 'sanika'])"
      ]
     },
     "execution_count": 5,
     "metadata": {},
     "output_type": "execute_result"
    },
    {
     "data": {
      "text/plain": [
       "['hbh', 'hbh', 'albd', 'raipur', 'pune']"
      ]
     },
     "execution_count": 5,
     "metadata": {},
     "output_type": "execute_result"
    },
    {
     "data": {
      "text/plain": [
       "'albd'"
      ]
     },
     "execution_count": 5,
     "metadata": {},
     "output_type": "execute_result"
    },
    {
     "data": {
      "text/plain": [
       "21"
      ]
     },
     "execution_count": 5,
     "metadata": {},
     "output_type": "execute_result"
    },
    {
     "data": {
      "text/plain": [
       "['vidu', 'vishnu']"
      ]
     },
     "execution_count": 5,
     "metadata": {},
     "output_type": "execute_result"
    },
    {
     "data": {
      "text/plain": [
       "(False, True, True)"
      ]
     },
     "execution_count": 5,
     "metadata": {},
     "output_type": "execute_result"
    },
    {
     "data": {
      "text/plain": [
       "{'vidu': {'place': 'hbh', 'age': 25},\n",
       " 'vishnu': {'place': 'hbh', 'age': 12},\n",
       " 'rahul': {'place': 'albd', 'age': 21},\n",
       " 'muskan': {'place': 'raipur', 'age': 20},\n",
       " 'cmd': {'place': 'albd', 'age': 19},\n",
       " 'harikesh': {'place': 'albd', 'age': 22}}"
      ]
     },
     "execution_count": 5,
     "metadata": {},
     "output_type": "execute_result"
    }
   ],
   "source": [
    "friends = {\n",
    "    'vidu': {\n",
    "        'place': 'hbh', 'age': 25\n",
    "    },\n",
    "    'vishnu': {\n",
    "        'place': 'hbh', 'age': 12\n",
    "    },\n",
    "    'rahul': {\n",
    "        'place': 'albd', 'age': 21\n",
    "    },\n",
    "    'muskan': {\n",
    "        'place': 'raipur', 'age': 20\n",
    "    },\n",
    "    'sanika': {\n",
    "        'place': 'pune', 'age': 27\n",
    "    }\n",
    "}\n",
    "\n",
    "\n",
    "def get_names():\n",
    "  return friends.keys()\n",
    "\n",
    "\n",
    "def get_places():\n",
    "  return [data['place'] for data in friends.values()]\n",
    "\n",
    "\n",
    "def get_people_from(place):\n",
    "  return [name for name, data in friends.items() if data['place'] == place]\n",
    "\n",
    "\n",
    "def get_place_of(name):\n",
    "  return friends[name]['place']\n",
    "\n",
    "\n",
    "def get_age_of(name):\n",
    "  return friends[name]['age']\n",
    "\n",
    "\n",
    "def is_friend(name):\n",
    "  return name in friends\n",
    "\n",
    "\n",
    "def add_friend(name, place, age):\n",
    "  if not is_friend(name):\n",
    "    friends[name] = {'place': place, 'age': age}\n",
    "\n",
    "\n",
    "def remove_friend(name):\n",
    "  if is_friend(name):\n",
    "    del friends[name]\n",
    "\n",
    "\n",
    "get_names()\n",
    "get_places()\n",
    "get_place_of('rahul')\n",
    "get_age_of('rahul')\n",
    "get_people_from('hbh')\n",
    "is_friend('zebra'), is_friend('vishnu'), is_friend('muskan')\n",
    "\n",
    "add_friend('cmd', 'albd', 19)\n",
    "add_friend('harikesh', 'albd', 22)\n",
    "remove_friend('sanika')\n",
    "friends"
   ]
  }
 ],
 "metadata": {
  "kernelspec": {
   "display_name": "Python 3",
   "language": "python",
   "name": "python3"
  },
  "language_info": {
   "codemirror_mode": {
    "name": "ipython",
    "version": 3
   },
   "file_extension": ".py",
   "mimetype": "text/x-python",
   "name": "python",
   "nbconvert_exporter": "python",
   "pygments_lexer": "ipython3",
   "version": "3.12.6"
  }
 },
 "nbformat": 4,
 "nbformat_minor": 2
}
