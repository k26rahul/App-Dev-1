{
 "cells": [
  {
   "cell_type": "markdown",
   "metadata": {},
   "source": [
    "# persistent data storage [committing changes to disk]"
   ]
  },
  {
   "cell_type": "code",
   "execution_count": 123,
   "metadata": {},
   "outputs": [],
   "source": [
    "import json"
   ]
  },
  {
   "cell_type": "markdown",
   "metadata": {},
   "source": [
    "# [name only] `1D list`"
   ]
  },
  {
   "cell_type": "code",
   "execution_count": 124,
   "metadata": {},
   "outputs": [],
   "source": [
    "def commit(friends):\n",
    "  open('friends-name-only.json', 'w+').write(json.dumps(friends))\n",
    "\n",
    "\n",
    "# save the initial data to the file\n",
    "# commit([\"vidu\", \"rahul\", \"muskan\", \"sanika\"])"
   ]
  },
  {
   "cell_type": "code",
   "execution_count": 125,
   "metadata": {},
   "outputs": [
    {
     "data": {
      "text/plain": [
       "['vidu', 'rahul', 'muskan', 'sanika']"
      ]
     },
     "execution_count": 125,
     "metadata": {},
     "output_type": "execute_result"
    }
   ],
   "source": [
    "def load_friends():\n",
    "  json_string = open('friends-name-only.json').read()\n",
    "  return json.loads(json_string)\n",
    "\n",
    "\n",
    "friends = load_friends()\n",
    "friends"
   ]
  },
  {
   "cell_type": "code",
   "execution_count": 126,
   "metadata": {},
   "outputs": [],
   "source": [
    "def is_friend(name):\n",
    "  return name in friends\n",
    "\n",
    "\n",
    "def add_friend(name):\n",
    "  if name not in friends:\n",
    "    friends.append(name)\n",
    "    commit(friends)  # save the updated friends data to the json file\n",
    "\n",
    "\n",
    "def remove_friend(name):\n",
    "  if name in friends:\n",
    "    friends.remove(name)\n",
    "    commit(friends)  # save the updated friends data to the json file"
   ]
  },
  {
   "cell_type": "code",
   "execution_count": 127,
   "metadata": {},
   "outputs": [],
   "source": [
    "# add_friend('cmd')\n",
    "# add_friend('dolphin')\n",
    "# remove_friend('sanika')\n",
    "# friends"
   ]
  },
  {
   "cell_type": "code",
   "execution_count": 128,
   "metadata": {},
   "outputs": [
    {
     "data": {
      "text/plain": [
       "(True, False)"
      ]
     },
     "execution_count": 128,
     "metadata": {},
     "output_type": "execute_result"
    }
   ],
   "source": [
    "is_friend('sanika'), is_friend('dolphin')"
   ]
  },
  {
   "cell_type": "markdown",
   "metadata": {},
   "source": [
    "# [name + place + state + age + weight + study] `friends = {name: {...}}`"
   ]
  },
  {
   "cell_type": "code",
   "execution_count": 129,
   "metadata": {},
   "outputs": [],
   "source": [
    "def commit(friends):\n",
    "  open('friends-full-data.json', 'w+').write(json.dumps(friends, indent=2))\n",
    "\n",
    "\n",
    "# save the initial data to the file\n",
    "# commit({\n",
    "#     \"vidu\": {\"place\": \"hbh\", \"state\": \"ka\", \"age\": 25, \"weight\": 50, \"study\": \"ba+bs\"},\n",
    "#     \"vishnu\": {\"place\": \"hbh\", \"state\": \"ka\", \"age\": 12, \"weight\": 30, \"study\": \"3rd\"},\n",
    "#     \"rahul\": {\"place\": \"albd\", \"state\": \"up\", \"age\": 21, \"weight\": 65, \"study\": \"bsc+bs\"},\n",
    "#     \"muskan\": {\"place\": \"raipur\", \"state\": \"cg\", \"age\": 20, \"weight\": 55, \"study\": \"bs\"},\n",
    "#     \"sanika\": {\"place\": \"pune\", \"state\": \"mh\", \"age\": 27, \"weight\": 60, \"study\": \"btech+bs\"}\n",
    "# })"
   ]
  },
  {
   "cell_type": "code",
   "execution_count": 130,
   "metadata": {},
   "outputs": [
    {
     "data": {
      "text/plain": [
       "['vidu', 'vishnu', 'rahul', 'muskan', 'sanika']"
      ]
     },
     "execution_count": 130,
     "metadata": {},
     "output_type": "execute_result"
    }
   ],
   "source": [
    "def load_friends():\n",
    "  json_string = open('friends-full-data.json').read()\n",
    "  return json.loads(json_string)\n",
    "\n",
    "\n",
    "friends = load_friends()\n",
    "list(friends)"
   ]
  },
  {
   "cell_type": "code",
   "execution_count": 131,
   "metadata": {},
   "outputs": [
    {
     "data": {
      "text/plain": [
       "['vidu', 'vishnu', 'rahul', 'muskan', 'sanika']"
      ]
     },
     "execution_count": 131,
     "metadata": {},
     "output_type": "execute_result"
    },
    {
     "data": {
      "text/plain": [
       "['hbh', 'hbh', 'albd', 'raipur', 'pune']"
      ]
     },
     "execution_count": 131,
     "metadata": {},
     "output_type": "execute_result"
    },
    {
     "data": {
      "text/plain": [
       "['ka', 'ka', 'up', 'cg', 'mh']"
      ]
     },
     "execution_count": 131,
     "metadata": {},
     "output_type": "execute_result"
    },
    {
     "data": {
      "text/plain": [
       "['ba+bs', '3rd', 'bsc+bs', 'bs', 'btech+bs']"
      ]
     },
     "execution_count": 131,
     "metadata": {},
     "output_type": "execute_result"
    },
    {
     "data": {
      "text/plain": [
       "{'place': 'albd', 'state': 'up', 'age': 21, 'weight': 65, 'study': 'bsc+bs'}"
      ]
     },
     "execution_count": 131,
     "metadata": {},
     "output_type": "execute_result"
    },
    {
     "data": {
      "text/plain": [
       "(['sanika'], ['vidu', 'rahul', 'muskan', 'sanika'], ['vishnu'])"
      ]
     },
     "execution_count": 131,
     "metadata": {},
     "output_type": "execute_result"
    }
   ],
   "source": [
    "def get_names():\n",
    "  return list(friends.keys())\n",
    "\n",
    "\n",
    "def get_places():\n",
    "  return [data['place'] for data in friends.values()]\n",
    "\n",
    "\n",
    "def get_states():\n",
    "  return [data['state'] for data in friends.values()]\n",
    "\n",
    "\n",
    "def get_studies():\n",
    "  return [data['study'] for data in friends.values()]\n",
    "\n",
    "\n",
    "def get_data_of(name):\n",
    "  return friends[name] if name in friends else None\n",
    "\n",
    "\n",
    "def get_people_studying(study):\n",
    "  return [name for name, data in friends.items() if study in data['study']]\n",
    "\n",
    "\n",
    "def is_friend(name):\n",
    "  return name in friends\n",
    "\n",
    "\n",
    "def add_friend(name, place, state, age, weight, study):\n",
    "  if not is_friend(name):\n",
    "    friends[name] = {'place': place, 'state': state, 'age': age, 'weight': weight, 'study': study}\n",
    "    commit(friends)  # save the updated friends data to the json file\n",
    "\n",
    "\n",
    "def remove_friend(name):\n",
    "  if is_friend(name):\n",
    "    del friends[name]\n",
    "    commit(friends)  # save the updated friends data to the json file\n",
    "\n",
    "\n",
    "get_names()\n",
    "get_places()\n",
    "get_states()\n",
    "get_studies()\n",
    "get_data_of('rahul')\n",
    "get_people_studying('btech'), get_people_studying('bs'), get_people_studying('3rd')"
   ]
  },
  {
   "cell_type": "code",
   "execution_count": 132,
   "metadata": {},
   "outputs": [],
   "source": [
    "# add_friend('cmd', 'albd', 'up', 19, 50, 'btech')\n",
    "# add_friend('dolphin', 'ocean', 'earth', 5, 200, '0')\n",
    "# remove_friend('sanika')\n",
    "# friends"
   ]
  },
  {
   "cell_type": "code",
   "execution_count": 133,
   "metadata": {},
   "outputs": [
    {
     "data": {
      "text/plain": [
       "(True, False)"
      ]
     },
     "execution_count": 133,
     "metadata": {},
     "output_type": "execute_result"
    }
   ],
   "source": [
    "is_friend('sanika'), is_friend('dolphin')"
   ]
  }
 ],
 "metadata": {
  "kernelspec": {
   "display_name": "Python 3",
   "language": "python",
   "name": "python3"
  },
  "language_info": {
   "codemirror_mode": {
    "name": "ipython",
    "version": 3
   },
   "file_extension": ".py",
   "mimetype": "text/x-python",
   "name": "python",
   "nbconvert_exporter": "python",
   "pygments_lexer": "ipython3",
   "version": "3.12.6"
  }
 },
 "nbformat": 4,
 "nbformat_minor": 2
}
