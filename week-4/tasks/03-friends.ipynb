{
 "cells": [
  {
   "cell_type": "markdown",
   "metadata": {},
   "source": [
    "# persistent data storage [committing changes to disk]"
   ]
  },
  {
   "cell_type": "code",
   "execution_count": 2,
   "metadata": {},
   "outputs": [],
   "source": [
    "import json"
   ]
  },
  {
   "cell_type": "markdown",
   "metadata": {},
   "source": [
    "# [name only] `1D list`"
   ]
  },
  {
   "cell_type": "code",
   "execution_count": 9,
   "metadata": {},
   "outputs": [
    {
     "data": {
      "text/plain": [
       "['vidu', 'rahul', 'muskan', 'sanika']"
      ]
     },
     "execution_count": 9,
     "metadata": {},
     "output_type": "execute_result"
    }
   ],
   "source": [
    "def commit(friends):\n",
    "  open('friends-name-only.json', 'w+').write(json.dumps(friends))\n",
    "\n",
    "\n",
    "def load_friends():\n",
    "  json_string = open('friends-name-only.json').read()\n",
    "  return json.loads(json_string)\n",
    "\n",
    "\n",
    "# commit(['vidu', 'rahul', 'muskan', 'sanika'])\n",
    "friends = load_friends()\n",
    "friends"
   ]
  },
  {
   "cell_type": "code",
   "execution_count": 4,
   "metadata": {},
   "outputs": [
    {
     "data": {
      "text/plain": [
       "(False, False, True)"
      ]
     },
     "execution_count": 4,
     "metadata": {},
     "output_type": "execute_result"
    }
   ],
   "source": [
    "def is_friend(name):\n",
    "  return name in friends\n",
    "\n",
    "\n",
    "def add_friend(name):\n",
    "  if name not in friends:\n",
    "    friends.append(name)\n",
    "    commit(friends)  # save the updated friends data to the json file\n",
    "\n",
    "\n",
    "def remove_friend(name):\n",
    "  if name in friends:\n",
    "    friends.remove(name)\n",
    "    commit(friends)  # save the updated friends data to the json file\n",
    "\n",
    "\n",
    "add_friend('cmd')\n",
    "add_friend('harikesh')\n",
    "add_friend('dolphin')\n",
    "add_friend('harikesh')\n",
    "remove_friend('sanika')\n",
    "is_friend('zebra'), is_friend('sanika'), is_friend('vidu')"
   ]
  },
  {
   "cell_type": "markdown",
   "metadata": {},
   "source": [
    "# [name + place + state + age + weight + study] `friends = {name: {...}}`"
   ]
  },
  {
   "cell_type": "code",
   "execution_count": 7,
   "metadata": {},
   "outputs": [],
   "source": [
    "def commit(friends):\n",
    "  open('friends-full-data.json', 'w+').write(json.dumps(friends))\n",
    "\n",
    "\n",
    "def load_friends():\n",
    "  json_string = open('friends-full-data.json').read()\n",
    "  return json.loads(json_string)\n",
    "\n",
    "\n",
    "# save the initial data to the file\n",
    "# commit({\n",
    "#     'vidu': {'place': 'hbh', 'state': 'ka', 'age': 25, 'weight': 50, 'study': 'ba+bs'},\n",
    "#     'vishnu': {'place': 'hbh', 'state': 'ka', 'age': 12, 'weight': 30, 'study': '3rd'},\n",
    "#     'rahul': {'place': 'albd', 'state': 'up', 'age': 21, 'weight': 65, 'study': 'bsc+bs'},\n",
    "#     'muskan': {'place': 'raipur', 'state': 'cg', 'age': 20, 'weight': 55, 'study': 'bs'},\n",
    "#     'sanika': {'place': 'pune', 'state': 'mh', 'age': 27, 'weight': 60, 'study': 'btech+bs'},\n",
    "# })\n",
    "friends = load_friends()"
   ]
  },
  {
   "cell_type": "code",
   "execution_count": 57,
   "metadata": {},
   "outputs": [
    {
     "data": {
      "text/plain": [
       "dict_keys(['vidu', 'vishnu', 'rahul', 'muskan', 'cmd', 'harikesh', 'dolphin'])"
      ]
     },
     "execution_count": 57,
     "metadata": {},
     "output_type": "execute_result"
    },
    {
     "data": {
      "text/plain": [
       "['hbh', 'hbh', 'albd', 'raipur', 'albd', 'albd', 'ocean']"
      ]
     },
     "execution_count": 57,
     "metadata": {},
     "output_type": "execute_result"
    },
    {
     "data": {
      "text/plain": [
       "['ka', 'ka', 'up', 'cg', 'up', 'up', 'earth']"
      ]
     },
     "execution_count": 57,
     "metadata": {},
     "output_type": "execute_result"
    },
    {
     "data": {
      "text/plain": [
       "['ba+bs', '3rd', 'bsc+bs', 'bs', 'btech', 'bsc+bs', '0']"
      ]
     },
     "execution_count": 57,
     "metadata": {},
     "output_type": "execute_result"
    },
    {
     "data": {
      "text/plain": [
       "{'place': 'albd', 'state': 'up', 'age': 21, 'weight': 65, 'study': 'bsc+bs'}"
      ]
     },
     "execution_count": 57,
     "metadata": {},
     "output_type": "execute_result"
    },
    {
     "data": {
      "text/plain": [
       "(False, True, True)"
      ]
     },
     "execution_count": 57,
     "metadata": {},
     "output_type": "execute_result"
    },
    {
     "data": {
      "text/plain": [
       "{'vidu': {'place': 'hbh',\n",
       "  'state': 'ka',\n",
       "  'age': 25,\n",
       "  'weight': 50,\n",
       "  'study': 'ba+bs'},\n",
       " 'vishnu': {'place': 'hbh',\n",
       "  'state': 'ka',\n",
       "  'age': 12,\n",
       "  'weight': 30,\n",
       "  'study': '3rd'},\n",
       " 'rahul': {'place': 'albd',\n",
       "  'state': 'up',\n",
       "  'age': 21,\n",
       "  'weight': 65,\n",
       "  'study': 'bsc+bs'},\n",
       " 'muskan': {'place': 'raipur',\n",
       "  'state': 'cg',\n",
       "  'age': 20,\n",
       "  'weight': 55,\n",
       "  'study': 'bs'},\n",
       " 'cmd': {'place': 'albd',\n",
       "  'state': 'up',\n",
       "  'age': 19,\n",
       "  'weight': 50,\n",
       "  'study': 'btech'},\n",
       " 'harikesh': {'place': 'albd',\n",
       "  'state': 'up',\n",
       "  'age': 22,\n",
       "  'weight': 70,\n",
       "  'study': 'bsc+bs'},\n",
       " 'dolphin': {'place': 'ocean',\n",
       "  'state': 'earth',\n",
       "  'age': 5,\n",
       "  'weight': 200,\n",
       "  'study': '0'}}"
      ]
     },
     "execution_count": 57,
     "metadata": {},
     "output_type": "execute_result"
    },
    {
     "data": {
      "text/plain": [
       "(['cmd'], ['vidu', 'rahul', 'muskan', 'harikesh'], ['vishnu'])"
      ]
     },
     "execution_count": 57,
     "metadata": {},
     "output_type": "execute_result"
    }
   ],
   "source": [
    "def get_names():\n",
    "  return friends.keys()\n",
    "\n",
    "\n",
    "def get_places():\n",
    "  return [data['place'] for data in friends.values()]\n",
    "\n",
    "\n",
    "def get_states():\n",
    "  return [data['state'] for data in friends.values()]\n",
    "\n",
    "\n",
    "def get_studies():\n",
    "  return [data['study'] for data in friends.values()]\n",
    "\n",
    "\n",
    "def get_data_of(name):\n",
    "  return friends[name] if name in friends else None\n",
    "\n",
    "\n",
    "def get_people_studying(study):\n",
    "  return [name for name, data in friends.items() if study in data['study']]\n",
    "\n",
    "\n",
    "def is_friend(name):\n",
    "  return name in friends\n",
    "\n",
    "\n",
    "def add_friend(name, place, state, age, weight, study):\n",
    "  if not is_friend(name):\n",
    "    friends[name] = {'place': place, 'state': state, 'age': age, 'weight': weight, 'study': study}\n",
    "    commit(friends)  # save the updated friends data to the json file\n",
    "\n",
    "\n",
    "def remove_friend(name):\n",
    "  if is_friend(name):\n",
    "    del friends[name]\n",
    "    commit(friends)  # save the updated friends data to the json file\n",
    "\n",
    "\n",
    "get_names()\n",
    "get_places()\n",
    "get_states()\n",
    "get_studies()\n",
    "get_data_of('rahul')\n",
    "\n",
    "is_friend('zebra'), is_friend('vishnu'), is_friend('muskan')\n",
    "add_friend('cmd', 'albd', 'up', 19, 50, 'btech')\n",
    "add_friend('harikesh', 'albd', 'up', 22, 70, 'bsc+bs')\n",
    "add_friend('dolphin', 'ocean', 'earth', 5, 200, '0')\n",
    "remove_friend('sanika')\n",
    "friends\n",
    "\n",
    "get_people_studying('btech'), get_people_studying('bs'), get_people_studying('3rd')"
   ]
  }
 ],
 "metadata": {
  "kernelspec": {
   "display_name": "Python 3",
   "language": "python",
   "name": "python3"
  },
  "language_info": {
   "codemirror_mode": {
    "name": "ipython",
    "version": 3
   },
   "file_extension": ".py",
   "mimetype": "text/x-python",
   "name": "python",
   "nbconvert_exporter": "python",
   "pygments_lexer": "ipython3",
   "version": "3.12.6"
  }
 },
 "nbformat": 4,
 "nbformat_minor": 2
}
