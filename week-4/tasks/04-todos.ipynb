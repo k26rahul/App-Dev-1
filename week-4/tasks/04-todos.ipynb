{
 "cells": [
  {
   "cell_type": "markdown",
   "metadata": {},
   "source": [
    "# without persistent storage"
   ]
  },
  {
   "cell_type": "code",
   "execution_count": 1,
   "metadata": {},
   "outputs": [],
   "source": [
    "todos = [\n",
    "    'lab 4',\n",
    "    'pdsa week 4',\n",
    "    'oct 19 email html',\n",
    "]\n",
    "\n",
    "\n",
    "def add_todo(text):\n",
    "  todos.append(text)"
   ]
  },
  {
   "cell_type": "code",
   "execution_count": 2,
   "metadata": {},
   "outputs": [
    {
     "data": {
      "text/plain": [
       "['lab 4', 'pdsa week 4', 'oct 19 email html']"
      ]
     },
     "execution_count": 2,
     "metadata": {},
     "output_type": "execute_result"
    }
   ],
   "source": [
    "todos"
   ]
  },
  {
   "cell_type": "code",
   "execution_count": 3,
   "metadata": {},
   "outputs": [
    {
     "data": {
      "text/plain": [
       "['lab 4',\n",
       " 'pdsa week 4',\n",
       " 'oct 19 email html',\n",
       " 'youtube cc',\n",
       " 'trip photos',\n",
       " 'week 4 tasks']"
      ]
     },
     "execution_count": 3,
     "metadata": {},
     "output_type": "execute_result"
    }
   ],
   "source": [
    "add_todo('youtube cc')\n",
    "add_todo('trip photos')\n",
    "add_todo('week 4 tasks')\n",
    "todos"
   ]
  },
  {
   "cell_type": "markdown",
   "metadata": {},
   "source": [
    "# with persistent storage: committing all changes to a separate data file"
   ]
  },
  {
   "cell_type": "code",
   "execution_count": 4,
   "metadata": {},
   "outputs": [],
   "source": [
    "import json"
   ]
  },
  {
   "cell_type": "code",
   "execution_count": 5,
   "metadata": {},
   "outputs": [],
   "source": [
    "def commit(todos):\n",
    "  json_string = json.dumps(todos, indent=2)\n",
    "  open('todos.json', 'w+').write(json_string)"
   ]
  },
  {
   "cell_type": "markdown",
   "metadata": {},
   "source": [
    "save the initial data to the file"
   ]
  },
  {
   "cell_type": "code",
   "execution_count": 6,
   "metadata": {},
   "outputs": [],
   "source": [
    "commit([\n",
    "    'lab 4',\n",
    "    'pdsa week 4',\n",
    "    'oct 19 email html',\n",
    "])"
   ]
  },
  {
   "cell_type": "markdown",
   "metadata": {},
   "source": [
    "loading data from the file"
   ]
  },
  {
   "cell_type": "code",
   "execution_count": 7,
   "metadata": {},
   "outputs": [
    {
     "data": {
      "text/plain": [
       "['lab 4', 'pdsa week 4', 'oct 19 email html']"
      ]
     },
     "execution_count": 7,
     "metadata": {},
     "output_type": "execute_result"
    }
   ],
   "source": [
    "json_string = open('todos.json').read()\n",
    "todos = json.loads(json_string)\n",
    "todos"
   ]
  },
  {
   "cell_type": "code",
   "execution_count": 8,
   "metadata": {},
   "outputs": [],
   "source": [
    "def add_todo(text):\n",
    "  todos.append(text)\n",
    "  commit(todos)"
   ]
  },
  {
   "cell_type": "code",
   "execution_count": 9,
   "metadata": {},
   "outputs": [
    {
     "data": {
      "text/plain": [
       "['lab 4',\n",
       " 'pdsa week 4',\n",
       " 'oct 19 email html',\n",
       " 'youtube cc',\n",
       " 'trip photos',\n",
       " 'week 4 tasks']"
      ]
     },
     "execution_count": 9,
     "metadata": {},
     "output_type": "execute_result"
    }
   ],
   "source": [
    "add_todo('youtube cc')\n",
    "add_todo('trip photos')\n",
    "add_todo('week 4 tasks')\n",
    "todos"
   ]
  }
 ],
 "metadata": {
  "kernelspec": {
   "display_name": "Python 3",
   "language": "python",
   "name": "python3"
  },
  "language_info": {
   "codemirror_mode": {
    "name": "ipython",
    "version": 3
   },
   "file_extension": ".py",
   "mimetype": "text/x-python",
   "name": "python",
   "nbconvert_exporter": "python",
   "pygments_lexer": "ipython3",
   "version": "3.12.6"
  }
 },
 "nbformat": 4,
 "nbformat_minor": 2
}
