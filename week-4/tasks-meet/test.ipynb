{
 "cells": [
  {
   "cell_type": "code",
   "execution_count": 1,
   "metadata": {},
   "outputs": [
    {
     "data": {
      "text/plain": [
       "50"
      ]
     },
     "execution_count": 1,
     "metadata": {},
     "output_type": "execute_result"
    }
   ],
   "source": [
    "marks = {\n",
    "    'rahul': [90, 80, 100, 56, 35],\n",
    "    'vidu': [100, 100, 50, 45, 92]\n",
    "}\n",
    "\n",
    "marks['vidu'][2]"
   ]
  },
  {
   "cell_type": "code",
   "execution_count": 2,
   "metadata": {},
   "outputs": [
    {
     "name": "stdout",
     "output_type": "stream",
     "text": [
      "i do not have any potato\n"
     ]
    }
   ],
   "source": [
    "shopping = {\n",
    "    'apple': 5,\n",
    "    'orange': 10,\n",
    "    'kiwi': 8,\n",
    "    'banana': 24\n",
    "}\n",
    "\n",
    "shopping['grapes'] = 15\n",
    "shopping['mango'] = 2\n",
    "shopping['tomato'] = 100\n",
    "shopping['lemon'] = 16\n",
    "\n",
    "shopping['apple'] = 6\n",
    "shopping['kiwi'] = 10\n",
    "\n",
    "item = 'potato'\n",
    "if item in shopping:\n",
    "  print(f'i have {shopping[item]} {item}')\n",
    "else:\n",
    "  print(f'i do not have any {item}')"
   ]
  },
  {
   "cell_type": "code",
   "execution_count": 3,
   "metadata": {},
   "outputs": [
    {
     "name": "stdout",
     "output_type": "stream",
     "text": [
      "apple 6\n",
      "orange 10\n",
      "kiwi 10\n",
      "banana 24\n",
      "grapes 15\n",
      "mango 2\n",
      "tomato 100\n",
      "lemon 16\n"
     ]
    }
   ],
   "source": [
    "for key, value in shopping.items():\n",
    "  print(key, value)"
   ]
  },
  {
   "cell_type": "code",
   "execution_count": 4,
   "metadata": {},
   "outputs": [
    {
     "name": "stdout",
     "output_type": "stream",
     "text": [
      "i am rahul\n",
      "i am 65 kg\n"
     ]
    }
   ],
   "source": [
    "name, weight = ('rahul', 65)  # unpacking\n",
    "print(f'i am {name}')\n",
    "print(f'i am {weight} kg')"
   ]
  },
  {
   "cell_type": "code",
   "execution_count": 5,
   "metadata": {},
   "outputs": [
    {
     "name": "stdout",
     "output_type": "stream",
     "text": [
      "i am vidu\n",
      "i am 21 years old\n",
      "i am 50 kg\n",
      "i am rahul\n",
      "i am 22 years old\n",
      "i am 65 kg\n",
      "i am muskan\n",
      "i am 20 years old\n",
      "i am 60 kg\n"
     ]
    }
   ],
   "source": [
    "my_lst = [('vidu', 21, 50), ('rahul', 22, 65), ('muskan', 20, 60)]\n",
    "for name, age, weight in my_lst:\n",
    "  print(f'i am {name}')\n",
    "  print(f'i am {age} years old')\n",
    "  print(f'i am {weight} kg')"
   ]
  },
  {
   "cell_type": "code",
   "execution_count": 6,
   "metadata": {},
   "outputs": [
    {
     "name": "stdout",
     "output_type": "stream",
     "text": [
      "i am vidu\n",
      "i am 21 years old\n",
      "i am rahul\n",
      "i am 22 years old\n",
      "i am muskan\n",
      "i am 20 years old\n"
     ]
    }
   ],
   "source": [
    "my_lst = [('vidu', 21), ('rahul', 22), ('muskan', 20)]\n",
    "for name, age in my_lst:\n",
    "  print(f'i am {name}')\n",
    "  print(f'i am {age} years old')"
   ]
  },
  {
   "cell_type": "code",
   "execution_count": 7,
   "metadata": {},
   "outputs": [
    {
     "name": "stdout",
     "output_type": "stream",
     "text": [
      "i bought #6 of apple\n",
      "i bought #10 of orange\n",
      "i bought #10 of kiwi\n",
      "i bought #24 of banana\n",
      "i bought #15 of grapes\n",
      "i bought #2 of mango\n",
      "i bought #100 of tomato\n",
      "i bought #16 of lemon\n"
     ]
    }
   ],
   "source": [
    "for item, qty in shopping.items():\n",
    "  print(f'i bought #{qty} of {item}')"
   ]
  },
  {
   "cell_type": "code",
   "execution_count": 8,
   "metadata": {},
   "outputs": [
    {
     "name": "stdout",
     "output_type": "stream",
     "text": [
      "i bought #6 of apple\n",
      "i bought #10 of orange\n",
      "i bought #10 of kiwi\n",
      "i bought #24 of banana\n",
      "i bought #15 of grapes\n",
      "i bought #2 of mango\n",
      "i bought #100 of tomato\n",
      "i bought #16 of lemon\n"
     ]
    }
   ],
   "source": [
    "for something in shopping.items():\n",
    "  item, qty = something\n",
    "  print(f'i bought #{qty} of {item}')"
   ]
  },
  {
   "cell_type": "code",
   "execution_count": 9,
   "metadata": {},
   "outputs": [
    {
     "data": {
      "text/plain": [
       "list"
      ]
     },
     "execution_count": 9,
     "metadata": {},
     "output_type": "execute_result"
    },
    {
     "data": {
      "text/plain": [
       "dict_keys"
      ]
     },
     "execution_count": 9,
     "metadata": {},
     "output_type": "execute_result"
    }
   ],
   "source": [
    "# different kind of objects, but both are `iterable`\n",
    "type(['apple', 'orange', 'kiwi', 'banana', 'grapes', 'mango', 'tomato'])\n",
    "\n",
    "type(shopping.keys())  # different kind of objects, but both are `iterable`"
   ]
  },
  {
   "cell_type": "code",
   "execution_count": 10,
   "metadata": {},
   "outputs": [
    {
     "data": {
      "text/plain": [
       "list"
      ]
     },
     "execution_count": 10,
     "metadata": {},
     "output_type": "execute_result"
    },
    {
     "data": {
      "text/plain": [
       "list_reverseiterator"
      ]
     },
     "execution_count": 10,
     "metadata": {},
     "output_type": "execute_result"
    },
    {
     "name": "stdout",
     "output_type": "stream",
     "text": [
      "9\n",
      "8\n"
     ]
    }
   ],
   "source": [
    "lst = [8, 9, 10]\n",
    "type(lst)  # different kind of objects, but both are `iterable`\n",
    "type(reversed(lst))  # different kind of objects, but both are `iterable`\n",
    "\n",
    "iterable = list(reversed(lst))[1:]  # [1:] <<< is subscripting\n",
    "for something in iterable:\n",
    "  print(something)"
   ]
  },
  {
   "cell_type": "code",
   "execution_count": 11,
   "metadata": {},
   "outputs": [
    {
     "data": {
      "text/plain": [
       "dict_keys(['apple', 'orange', 'kiwi', 'banana', 'grapes', 'mango', 'tomato', 'lemon'])"
      ]
     },
     "execution_count": 11,
     "metadata": {},
     "output_type": "execute_result"
    },
    {
     "data": {
      "text/plain": [
       "dict_values([6, 10, 10, 24, 15, 2, 100, 16])"
      ]
     },
     "execution_count": 11,
     "metadata": {},
     "output_type": "execute_result"
    },
    {
     "data": {
      "text/plain": [
       "dict_items([('apple', 6), ('orange', 10), ('kiwi', 10), ('banana', 24), ('grapes', 15), ('mango', 2), ('tomato', 100), ('lemon', 16)])"
      ]
     },
     "execution_count": 11,
     "metadata": {},
     "output_type": "execute_result"
    }
   ],
   "source": [
    "shopping.keys()\n",
    "shopping.values()\n",
    "shopping.items()"
   ]
  }
 ],
 "metadata": {
  "kernelspec": {
   "display_name": "Python 3",
   "language": "python",
   "name": "python3"
  },
  "language_info": {
   "codemirror_mode": {
    "name": "ipython",
    "version": 3
   },
   "file_extension": ".py",
   "mimetype": "text/x-python",
   "name": "python",
   "nbconvert_exporter": "python",
   "pygments_lexer": "ipython3",
   "version": "3.12.6"
  }
 },
 "nbformat": 4,
 "nbformat_minor": 2
}
