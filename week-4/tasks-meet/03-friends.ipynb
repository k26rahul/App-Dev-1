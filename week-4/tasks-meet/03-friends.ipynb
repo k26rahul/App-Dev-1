{
 "cells": [
  {
   "cell_type": "code",
   "execution_count": 1,
   "metadata": {},
   "outputs": [],
   "source": [
    "import json"
   ]
  },
  {
   "cell_type": "markdown",
   "metadata": {},
   "source": [
    "# butterfly_message"
   ]
  },
  {
   "cell_type": "code",
   "execution_count": 2,
   "metadata": {},
   "outputs": [
    {
     "data": {
      "text/plain": [
       "['i am butterfly',\n",
       " 'i eat flowers',\n",
       " 'i am beautiful',\n",
       " 'i live in parks',\n",
       " 'vidu is my best friend',\n",
       " 'i am magical',\n",
       " 'i want to go to hills',\n",
       " 'i drink nectar',\n",
       " 'i am feeling sleepy']"
      ]
     },
     "execution_count": 2,
     "metadata": {},
     "output_type": "execute_result"
    }
   ],
   "source": [
    "# loading (initial state)\n",
    "json_string = open('butterfly_message.json').read()\n",
    "butterfly_message = json.loads(json_string)\n",
    "butterfly_message"
   ]
  },
  {
   "cell_type": "code",
   "execution_count": 9,
   "metadata": {},
   "outputs": [
    {
     "data": {
      "text/plain": [
       "['i am butterfly',\n",
       " 'i eat flowers',\n",
       " 'i am beautiful',\n",
       " 'i live in parks',\n",
       " 'vidu is my best friend',\n",
       " 'i am magical',\n",
       " 'i want to go to hills',\n",
       " 'i drink nectar',\n",
       " 'i am feeling sleepy',\n",
       " 'goodnight',\n",
       " 'see u in the morning 7am',\n",
       " 'bye!!']"
      ]
     },
     "execution_count": 9,
     "metadata": {},
     "output_type": "execute_result"
    }
   ],
   "source": [
    "# query/manipulate\n",
    "butterfly_message.append('bye!!')\n",
    "butterfly_message"
   ]
  },
  {
   "cell_type": "code",
   "execution_count": 10,
   "metadata": {},
   "outputs": [
    {
     "data": {
      "text/plain": [
       "230"
      ]
     },
     "execution_count": 10,
     "metadata": {},
     "output_type": "execute_result"
    }
   ],
   "source": [
    "# committing (saving to disc)\n",
    "json_string = json.dumps(butterfly_message)\n",
    "open('butterfly_message.json', 'w+').write(json_string)"
   ]
  },
  {
   "cell_type": "markdown",
   "metadata": {},
   "source": [
    "# [name only] `1D list`"
   ]
  },
  {
   "cell_type": "code",
   "execution_count": 6,
   "metadata": {},
   "outputs": [],
   "source": [
    "friends = ['vidu', 'rahul', 'muskan', 'sanika']"
   ]
  },
  {
   "cell_type": "code",
   "execution_count": 7,
   "metadata": {},
   "outputs": [],
   "source": [
    "def is_friend(name):\n",
    "  return name in friends\n",
    "\n",
    "\n",
    "def add_friend(name):\n",
    "  if not is_friend(name):\n",
    "    friends.append(name)\n",
    "\n",
    "\n",
    "def remove_friend(name):\n",
    "  if is_friend(name):\n",
    "    friends.remove(name)"
   ]
  },
  {
   "cell_type": "code",
   "execution_count": 8,
   "metadata": {},
   "outputs": [
    {
     "name": "stdout",
     "output_type": "stream",
     "text": [
      "['vidu', 'rahul', 'muskan', 'sanika']\n"
     ]
    }
   ],
   "source": [
    "print(friends)"
   ]
  }
 ],
 "metadata": {
  "kernelspec": {
   "display_name": "Python 3",
   "language": "python",
   "name": "python3"
  },
  "language_info": {
   "codemirror_mode": {
    "name": "ipython",
    "version": 3
   },
   "file_extension": ".py",
   "mimetype": "text/x-python",
   "name": "python",
   "nbconvert_exporter": "python",
   "pygments_lexer": "ipython3",
   "version": "3.12.6"
  }
 },
 "nbformat": 4,
 "nbformat_minor": 2
}
