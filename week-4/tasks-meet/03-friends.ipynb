{
 "cells": [
  {
   "cell_type": "code",
   "execution_count": 185,
   "metadata": {},
   "outputs": [],
   "source": [
    "import json"
   ]
  },
  {
   "cell_type": "markdown",
   "metadata": {},
   "source": [
    "# vidu-data.json"
   ]
  },
  {
   "cell_type": "markdown",
   "metadata": {},
   "source": [
    "loading data:"
   ]
  },
  {
   "cell_type": "code",
   "execution_count": 186,
   "metadata": {},
   "outputs": [
    {
     "data": {
      "text/plain": [
       "{'name': 'vidu',\n",
       " 'place': 'hospete',\n",
       " 'age': '15',\n",
       " 'study': 'ba+bs+iks',\n",
       " 'weight': 70,\n",
       " 'state': 'ka',\n",
       " 'level': 'degree'}"
      ]
     },
     "execution_count": 186,
     "metadata": {},
     "output_type": "execute_result"
    }
   ],
   "source": [
    "# file >>> json_string\n",
    "json_string = open('vidu-data.json').read()\n",
    "\n",
    "# json_string >>> json.loads >>> object\n",
    "data = json.loads(json_string)\n",
    "\n",
    "# ✅\n",
    "data"
   ]
  },
  {
   "cell_type": "markdown",
   "metadata": {},
   "source": [
    "manipulate the data as you wish"
   ]
  },
  {
   "cell_type": "code",
   "execution_count": 187,
   "metadata": {},
   "outputs": [
    {
     "data": {
      "text/plain": [
       "{'name': 'vidu',\n",
       " 'place': 'hospete',\n",
       " 'age': '15',\n",
       " 'study': 'ba+bs+iks',\n",
       " 'weight': 70,\n",
       " 'state': 'ka',\n",
       " 'level': 'degree'}"
      ]
     },
     "execution_count": 187,
     "metadata": {},
     "output_type": "execute_result"
    }
   ],
   "source": [
    "data['level'] = 'degree'\n",
    "data"
   ]
  },
  {
   "cell_type": "markdown",
   "metadata": {},
   "source": [
    "saving data to disc (commit):"
   ]
  },
  {
   "cell_type": "code",
   "execution_count": 188,
   "metadata": {},
   "outputs": [
    {
     "data": {
      "text/plain": [
       "119"
      ]
     },
     "execution_count": 188,
     "metadata": {},
     "output_type": "execute_result"
    }
   ],
   "source": [
    "# object >>> json.dumps >>> json_string\n",
    "json_string = json.dumps(data)\n",
    "\n",
    "# json_string >>> file\n",
    "open('vidu-data.json', 'w+').write(json_string)"
   ]
  },
  {
   "cell_type": "markdown",
   "metadata": {},
   "source": [
    "# butterfly_message.json"
   ]
  },
  {
   "cell_type": "markdown",
   "metadata": {},
   "source": [
    "loading data: file >>> json_string >>> json.loads >>> object"
   ]
  },
  {
   "cell_type": "code",
   "execution_count": 189,
   "metadata": {},
   "outputs": [
    {
     "data": {
      "text/plain": [
       "list"
      ]
     },
     "execution_count": 189,
     "metadata": {},
     "output_type": "execute_result"
    },
    {
     "data": {
      "text/plain": [
       "['i am butterfly',\n",
       " 'i eat nectar',\n",
       " 'i love sky',\n",
       " 'vidu is my best friend',\n",
       " 'today is wednesday',\n",
       " 'i am cool',\n",
       " 'i am beautiful',\n",
       " 'i fly in sky',\n",
       " 'i dream of waterfalls']"
      ]
     },
     "execution_count": 189,
     "metadata": {},
     "output_type": "execute_result"
    }
   ],
   "source": [
    "# too bad >>> initial state = fresh empty list\n",
    "# what we want >>> initial state = last saved state (all messages restored)\n",
    "json_string = open('butterfly_message.json').read()\n",
    "butterfly_message = json.loads(json_string)\n",
    "type(butterfly_message)\n",
    "butterfly_message"
   ]
  },
  {
   "cell_type": "markdown",
   "metadata": {},
   "source": [
    "manipulate the data as you wish"
   ]
  },
  {
   "cell_type": "code",
   "execution_count": 190,
   "metadata": {},
   "outputs": [
    {
     "data": {
      "text/plain": [
       "['i am butterfly',\n",
       " 'i eat nectar',\n",
       " 'i love sky',\n",
       " 'vidu is my best friend',\n",
       " 'today is wednesday',\n",
       " 'i am cool',\n",
       " 'i am beautiful',\n",
       " 'i fly in sky',\n",
       " 'i dream of waterfalls']"
      ]
     },
     "execution_count": 190,
     "metadata": {},
     "output_type": "execute_result"
    }
   ],
   "source": [
    "butterfly_message"
   ]
  },
  {
   "cell_type": "markdown",
   "metadata": {},
   "source": [
    "saving data to disc (commit): object >>> json.dumps >>> json_string >>> fil"
   ]
  },
  {
   "cell_type": "code",
   "execution_count": 191,
   "metadata": {},
   "outputs": [
    {
     "data": {
      "text/plain": [
       "168"
      ]
     },
     "execution_count": 191,
     "metadata": {},
     "output_type": "execute_result"
    }
   ],
   "source": [
    "json_string = json.dumps(butterfly_message)\n",
    "open('butterfly_message.json', 'w+').write(json_string)"
   ]
  },
  {
   "cell_type": "markdown",
   "metadata": {},
   "source": [
    "# [name only] `1D list`"
   ]
  },
  {
   "cell_type": "code",
   "execution_count": 192,
   "metadata": {},
   "outputs": [
    {
     "data": {
      "text/plain": [
       "['vidu', 'rahul', 'muskan', 'sanika']"
      ]
     },
     "execution_count": 192,
     "metadata": {},
     "output_type": "execute_result"
    }
   ],
   "source": [
    "# loading\n",
    "json_string = open('friends-name-only.json').read()\n",
    "friends = json.loads(json_string)\n",
    "friends"
   ]
  },
  {
   "cell_type": "code",
   "execution_count": 193,
   "metadata": {},
   "outputs": [],
   "source": [
    "# committing\n",
    "def commit(friends):\n",
    "  json_string = json.dumps(friends)\n",
    "  open('friends-name-only.json', 'w+').write(json_string)"
   ]
  },
  {
   "cell_type": "code",
   "execution_count": 194,
   "metadata": {},
   "outputs": [],
   "source": [
    "def is_friend(name):\n",
    "  return name in friends\n",
    "\n",
    "\n",
    "def add_friend(name):\n",
    "  if not is_friend(name):\n",
    "    friends.append(name)\n",
    "    commit(friends)  # 😱\n",
    "\n",
    "\n",
    "def remove_friend(name):\n",
    "  if is_friend(name):\n",
    "    friends.remove(name)\n",
    "    commit(friends)  # 😱"
   ]
  },
  {
   "cell_type": "code",
   "execution_count": 195,
   "metadata": {},
   "outputs": [
    {
     "data": {
      "text/plain": [
       "['vidu', 'rahul', 'muskan', 'sanika']"
      ]
     },
     "execution_count": 195,
     "metadata": {},
     "output_type": "execute_result"
    }
   ],
   "source": [
    "remove_friend('cmd')\n",
    "friends"
   ]
  },
  {
   "cell_type": "markdown",
   "metadata": {},
   "source": [
    "# [name + place + state + age + weight + study] `friends = {name: {...}}`"
   ]
  },
  {
   "cell_type": "code",
   "execution_count": 196,
   "metadata": {},
   "outputs": [],
   "source": [
    "# loading\n",
    "json_string = open('friends-full-data.json').read()\n",
    "friends = json.loads(json_string)"
   ]
  },
  {
   "cell_type": "code",
   "execution_count": 197,
   "metadata": {},
   "outputs": [],
   "source": [
    "# committing\n",
    "def commit(friends):\n",
    "  json_string = json.dumps(friends)\n",
    "  open('friends-full-data.json', 'w+').write(json_string)"
   ]
  },
  {
   "cell_type": "code",
   "execution_count": 200,
   "metadata": {},
   "outputs": [],
   "source": [
    "# friends = {\n",
    "#     'vidu': {'place': 'hbh', 'state': 'ka', 'age': 25, 'weight': 50, 'study': 'ba+bs'},\n",
    "#     'vishnu': {'place': 'hbh', 'state': 'ka', 'age': 12, 'weight': 30, 'study': '3rd'},\n",
    "#     'rahul': {'place': 'albd', 'state': 'up', 'age': 21, 'weight': 65, 'study': 'bsc+bs'},\n",
    "#     'muskan': {'place': 'raipur', 'state': 'cg', 'age': 20, 'weight': 55, 'study': 'bs'},\n",
    "#     'sanika': {'place': 'pune', 'state': 'mh', 'age': 27, 'weight': 60, 'study': 'btech+bs'},\n",
    "# }\n",
    "# commit(friends)"
   ]
  },
  {
   "cell_type": "code",
   "execution_count": 201,
   "metadata": {},
   "outputs": [
    {
     "data": {
      "text/plain": [
       "{'vidu': {'place': 'hbh',\n",
       "  'state': 'ka',\n",
       "  'age': 25,\n",
       "  'weight': 50,\n",
       "  'study': 'ba+bs'},\n",
       " 'vishnu': {'place': 'hbh',\n",
       "  'state': 'ka',\n",
       "  'age': 12,\n",
       "  'weight': 30,\n",
       "  'study': '3rd'},\n",
       " 'rahul': {'place': 'albd',\n",
       "  'state': 'up',\n",
       "  'age': 21,\n",
       "  'weight': 65,\n",
       "  'study': 'bsc+bs'},\n",
       " 'muskan': {'place': 'raipur',\n",
       "  'state': 'cg',\n",
       "  'age': 20,\n",
       "  'weight': 55,\n",
       "  'study': 'bs'},\n",
       " 'harikesh': {'place': 'albd',\n",
       "  'state': 'up',\n",
       "  'age': 22,\n",
       "  'weight': 70,\n",
       "  'study': 'bsc+bs'},\n",
       " 'mahi': {'place': 'albd',\n",
       "  'state': 'up',\n",
       "  'age': 3.5,\n",
       "  'weight': 15,\n",
       "  'study': 'nursery'}}"
      ]
     },
     "execution_count": 201,
     "metadata": {},
     "output_type": "execute_result"
    }
   ],
   "source": [
    "def get_names():\n",
    "  return list(friends.keys())\n",
    "\n",
    "\n",
    "def get_places():\n",
    "  return [data['place'] for data in friends.values()]\n",
    "\n",
    "\n",
    "def get_states():\n",
    "  return [data['state'] for data in friends.values()]\n",
    "\n",
    "\n",
    "def get_studies():\n",
    "  return [data['study'] for data in friends.values()]\n",
    "\n",
    "\n",
    "def get_data_of(name):\n",
    "  return friends[name]\n",
    "\n",
    "\n",
    "def get_people_studying(study):\n",
    "  return [name for name, data in friends.items() if study in data['study']]\n",
    "\n",
    "\n",
    "def is_friend(name):\n",
    "  return name in friends\n",
    "\n",
    "\n",
    "def add_friend(name, place, state, age, weight, study):\n",
    "  if not is_friend(name):\n",
    "    friends[name] = {'place': place, 'state': state, 'age': age, 'weight': weight, 'study': study}\n",
    "    commit(friends)  # 😱\n",
    "\n",
    "\n",
    "def remove_friend(name):\n",
    "  if is_friend(name):\n",
    "    del friends[name]\n",
    "    commit(friends)  # 😱\n",
    "\n",
    "\n",
    "# get_names()\n",
    "# get_places()\n",
    "# get_states()\n",
    "# get_studies()\n",
    "# get_data_of('rahul')\n",
    "# get_people_studying('btech'), get_people_studying('bs'), get_people_studying('3rd')\n",
    "# is_friend('sanika'), is_friend('harikesh')\n",
    "\n",
    "add_friend('cmd', 'albd', 'up', 19, 50, 'btech')\n",
    "add_friend('harikesh', 'albd', 'up', 22, 70, 'bsc+bs')\n",
    "add_friend('mahi', 'albd', 'up', 3.5, 15, 'nursery')\n",
    "remove_friend('sanika')\n",
    "remove_friend('cmd')\n",
    "friends"
   ]
  }
 ],
 "metadata": {
  "kernelspec": {
   "display_name": "Python 3",
   "language": "python",
   "name": "python3"
  },
  "language_info": {
   "codemirror_mode": {
    "name": "ipython",
    "version": 3
   },
   "file_extension": ".py",
   "mimetype": "text/x-python",
   "name": "python",
   "nbconvert_exporter": "python",
   "pygments_lexer": "ipython3",
   "version": "3.12.6"
  }
 },
 "nbformat": 4,
 "nbformat_minor": 2
}
