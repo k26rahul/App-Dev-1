{
 "cells": [
  {
   "cell_type": "markdown",
   "metadata": {},
   "source": [
    "# [name only] `1D list`"
   ]
  },
  {
   "cell_type": "code",
   "execution_count": 1,
   "metadata": {},
   "outputs": [],
   "source": [
    "friends = ['vidu', 'rahul', 'muskan', 'sanika']"
   ]
  },
  {
   "cell_type": "code",
   "execution_count": 2,
   "metadata": {},
   "outputs": [
    {
     "data": {
      "text/plain": [
       "['vidu', 'rahul', 'muskan', 'harikesh']"
      ]
     },
     "execution_count": 2,
     "metadata": {},
     "output_type": "execute_result"
    }
   ],
   "source": [
    "def is_friend(name):\n",
    "  return name in friends\n",
    "\n",
    "\n",
    "def add_friend(name):\n",
    "  if not is_friend(name):\n",
    "    friends.append(name)\n",
    "\n",
    "\n",
    "def remove_friend(name):\n",
    "  if is_friend(name):\n",
    "    friends.remove(name)\n",
    "\n",
    "\n",
    "add_friend('harikesh')\n",
    "add_friend('gauri')\n",
    "remove_friend('sanika')\n",
    "remove_friend('gauri')\n",
    "friends"
   ]
  },
  {
   "cell_type": "markdown",
   "metadata": {},
   "source": [
    "# [name + place] `2D list`"
   ]
  },
  {
   "cell_type": "code",
   "execution_count": 3,
   "metadata": {},
   "outputs": [],
   "source": [
    "friends = [\n",
    "    ('vidu', 'hbh'),\n",
    "    ('vishnu', 'hbh'),\n",
    "    ('rahul', 'albd'),\n",
    "    ('muskan', 'raipur'),\n",
    "    ('sanika', 'pune')\n",
    "]"
   ]
  },
  {
   "cell_type": "code",
   "execution_count": 4,
   "metadata": {},
   "outputs": [
    {
     "data": {
      "text/plain": [
       "['vidu', 'vishnu', 'rahul', 'muskan', 'sanika']"
      ]
     },
     "execution_count": 4,
     "metadata": {},
     "output_type": "execute_result"
    },
    {
     "data": {
      "text/plain": [
       "['hbh', 'hbh', 'albd', 'raipur', 'pune']"
      ]
     },
     "execution_count": 4,
     "metadata": {},
     "output_type": "execute_result"
    },
    {
     "data": {
      "text/plain": [
       "'albd'"
      ]
     },
     "execution_count": 4,
     "metadata": {},
     "output_type": "execute_result"
    },
    {
     "data": {
      "text/plain": [
       "['vidu', 'vishnu']"
      ]
     },
     "execution_count": 4,
     "metadata": {},
     "output_type": "execute_result"
    },
    {
     "data": {
      "text/plain": [
       "True"
      ]
     },
     "execution_count": 4,
     "metadata": {},
     "output_type": "execute_result"
    },
    {
     "data": {
      "text/plain": [
       "[('vidu', 'hbh'),\n",
       " ('vishnu', 'hbh'),\n",
       " ('rahul', 'albd'),\n",
       " ('muskan', 'raipur'),\n",
       " ('cmd', 'albd'),\n",
       " ('harikesh', 'albd')]"
      ]
     },
     "execution_count": 4,
     "metadata": {},
     "output_type": "execute_result"
    }
   ],
   "source": [
    "def get_names():\n",
    "  return [tup[0] for tup in friends]\n",
    "\n",
    "\n",
    "def get_places():\n",
    "  return [tup[1] for tup in friends]\n",
    "\n",
    "\n",
    "def get_place_of(name):\n",
    "  return [tup[1] for tup in friends if tup[0] == name][0]\n",
    "\n",
    "\n",
    "def get_people_from(place):\n",
    "  return [tup[0] for tup in friends if tup[1] == place]\n",
    "\n",
    "\n",
    "def is_friend(name):\n",
    "  return name in get_names()\n",
    "\n",
    "\n",
    "def add_friend(name, place):\n",
    "  if not is_friend(name):\n",
    "    friends.append((name, place))\n",
    "\n",
    "\n",
    "def remove_friend(name):\n",
    "  if is_friend(name):\n",
    "    place = get_place_of(name)\n",
    "    friends.remove((name, place))\n",
    "\n",
    "\n",
    "get_names()\n",
    "get_places()\n",
    "get_place_of('rahul')\n",
    "get_people_from('hbh')\n",
    "is_friend('rahul')\n",
    "add_friend('cmd', 'albd')\n",
    "add_friend('harikesh', 'albd')\n",
    "remove_friend('sanika')\n",
    "friends"
   ]
  },
  {
   "cell_type": "markdown",
   "metadata": {},
   "source": [
    "# [name + place + age] `2D list`"
   ]
  },
  {
   "cell_type": "code",
   "execution_count": 5,
   "metadata": {},
   "outputs": [],
   "source": [
    "friends = [\n",
    "    ('vidu', 'hbh', 25),\n",
    "    ('vishnu', 'hbh', 12),\n",
    "    ('rahul', 'albd', 21),\n",
    "    ('muskan', 'raipur', 20),\n",
    "    ('sanika', 'pune', 27)\n",
    "]"
   ]
  },
  {
   "cell_type": "code",
   "execution_count": 6,
   "metadata": {},
   "outputs": [
    {
     "data": {
      "text/plain": [
       "['vidu', 'vishnu', 'rahul', 'muskan', 'sanika']"
      ]
     },
     "execution_count": 6,
     "metadata": {},
     "output_type": "execute_result"
    },
    {
     "data": {
      "text/plain": [
       "['hbh', 'hbh', 'albd', 'raipur', 'pune']"
      ]
     },
     "execution_count": 6,
     "metadata": {},
     "output_type": "execute_result"
    },
    {
     "data": {
      "text/plain": [
       "['vidu', 'vishnu']"
      ]
     },
     "execution_count": 6,
     "metadata": {},
     "output_type": "execute_result"
    },
    {
     "data": {
      "text/plain": [
       "'albd'"
      ]
     },
     "execution_count": 6,
     "metadata": {},
     "output_type": "execute_result"
    },
    {
     "data": {
      "text/plain": [
       "21"
      ]
     },
     "execution_count": 6,
     "metadata": {},
     "output_type": "execute_result"
    },
    {
     "data": {
      "text/plain": [
       "(True, False)"
      ]
     },
     "execution_count": 6,
     "metadata": {},
     "output_type": "execute_result"
    },
    {
     "data": {
      "text/plain": [
       "[('vidu', 'hbh', 25),\n",
       " ('vishnu', 'hbh', 12),\n",
       " ('rahul', 'albd', 21),\n",
       " ('muskan', 'raipur', 20),\n",
       " ('cmd', 'albd', 19),\n",
       " ('harikesh', 'albd', 22),\n",
       " ('gauri', 'delhi', 25)]"
      ]
     },
     "execution_count": 6,
     "metadata": {},
     "output_type": "execute_result"
    }
   ],
   "source": [
    "def get_names():\n",
    "  return [tup[0] for tup in friends]\n",
    "\n",
    "\n",
    "def get_places():\n",
    "  return [tup[1] for tup in friends]\n",
    "\n",
    "\n",
    "def get_people_from(place):\n",
    "  return [tup[0] for tup in friends if tup[1] == place]\n",
    "\n",
    "\n",
    "def get_place_of(name):\n",
    "  return [tup[1] for tup in friends if tup[0] == name][0]\n",
    "\n",
    "\n",
    "def get_age_of(name):\n",
    "  return [tup[2] for tup in friends if tup[0] == name][0]\n",
    "\n",
    "\n",
    "def is_friend(name):\n",
    "  return name in get_names()\n",
    "\n",
    "\n",
    "def add_friend(name, place, age):\n",
    "  if not is_friend(name):\n",
    "    friends.append((name, place, age))\n",
    "\n",
    "\n",
    "def remove_friend(name):\n",
    "  if is_friend(name):\n",
    "    friends.remove((name, get_place_of(name), get_age_of(name)))\n",
    "\n",
    "\n",
    "get_names()\n",
    "get_places()\n",
    "get_people_from('hbh')\n",
    "get_place_of('rahul')\n",
    "get_age_of('rahul')\n",
    "is_friend('sanika'), is_friend('harikesh')\n",
    "add_friend('cmd', 'albd', 19)\n",
    "add_friend('harikesh', 'albd', 22)\n",
    "add_friend('gauri', 'delhi', 25)\n",
    "remove_friend('sanika')\n",
    "friends"
   ]
  },
  {
   "cell_type": "markdown",
   "metadata": {},
   "source": [
    "# [name + place + age] `friends = {name: [...]}`"
   ]
  }
 ],
 "metadata": {
  "kernelspec": {
   "display_name": "Python 3",
   "language": "python",
   "name": "python3"
  },
  "language_info": {
   "codemirror_mode": {
    "name": "ipython",
    "version": 3
   },
   "file_extension": ".py",
   "mimetype": "text/x-python",
   "name": "python",
   "nbconvert_exporter": "python",
   "pygments_lexer": "ipython3",
   "version": "3.12.6"
  }
 },
 "nbformat": 4,
 "nbformat_minor": 2
}
