{
 "cells": [
  {
   "cell_type": "markdown",
   "metadata": {},
   "source": [
    "# gradebook = []"
   ]
  },
  {
   "cell_type": "code",
   "execution_count": 27,
   "metadata": {},
   "outputs": [],
   "source": [
    "gradebook = [\n",
    "    ['rahul', 'vidu', 'muskan', 'sanika'],  # students\n",
    "    ['maths1', 'mlf', 'pdsa', 'dbms'],  # courses\n",
    "    [  # enrollments\n",
    "        ('vidu', 'maths1'),\n",
    "        ('vidu', 'pdsa'),\n",
    "        ('rahul', 'pdsa'),\n",
    "        ('muskan', 'dbms')\n",
    "    ]\n",
    "]"
   ]
  },
  {
   "cell_type": "code",
   "execution_count": 28,
   "metadata": {},
   "outputs": [],
   "source": [
    "# add harikesh\n",
    "gradebook[0].append('harikesh')"
   ]
  },
  {
   "cell_type": "code",
   "execution_count": 29,
   "metadata": {},
   "outputs": [],
   "source": [
    "# add english\n",
    "gradebook[1].append('english')"
   ]
  },
  {
   "cell_type": "code",
   "execution_count": 30,
   "metadata": {},
   "outputs": [],
   "source": [
    "# add (harikesh, english), (harikesh, maths1) in enrollments\n",
    "gradebook[2].append(('harikesh', 'english'))\n",
    "gradebook[2].append(('harikesh', 'maths1'))"
   ]
  },
  {
   "cell_type": "code",
   "execution_count": 31,
   "metadata": {},
   "outputs": [
    {
     "data": {
      "text/plain": [
       "['rahul', 'vidu', 'muskan', 'sanika', 'harikesh']"
      ]
     },
     "execution_count": 31,
     "metadata": {},
     "output_type": "execute_result"
    },
    {
     "data": {
      "text/plain": [
       "['maths1', 'mlf', 'pdsa', 'dbms', 'english']"
      ]
     },
     "execution_count": 31,
     "metadata": {},
     "output_type": "execute_result"
    },
    {
     "data": {
      "text/plain": [
       "[('vidu', 'maths1'),\n",
       " ('vidu', 'pdsa'),\n",
       " ('rahul', 'pdsa'),\n",
       " ('muskan', 'dbms'),\n",
       " ('harikesh', 'english'),\n",
       " ('harikesh', 'maths1')]"
      ]
     },
     "execution_count": 31,
     "metadata": {},
     "output_type": "execute_result"
    }
   ],
   "source": [
    "# list all students\n",
    "gradebook[0]\n",
    "\n",
    "# list all courses\n",
    "gradebook[1]\n",
    "\n",
    "# list all enrollments\n",
    "gradebook[2]"
   ]
  },
  {
   "cell_type": "code",
   "execution_count": 32,
   "metadata": {},
   "outputs": [
    {
     "data": {
      "text/plain": [
       "['vidu', 'harikesh']"
      ]
     },
     "execution_count": 32,
     "metadata": {},
     "output_type": "execute_result"
    }
   ],
   "source": [
    "# students who have taken maths1\n",
    "[row[0] for row in gradebook[2] if row[1] == 'maths1']"
   ]
  },
  {
   "cell_type": "code",
   "execution_count": 33,
   "metadata": {},
   "outputs": [
    {
     "data": {
      "text/plain": [
       "['maths1', 'pdsa']"
      ]
     },
     "execution_count": 33,
     "metadata": {},
     "output_type": "execute_result"
    }
   ],
   "source": [
    "# which courses vidu has taken\n",
    "[row[1] for row in gradebook[2] if row[0] == 'vidu']"
   ]
  },
  {
   "cell_type": "code",
   "execution_count": 54,
   "metadata": {},
   "outputs": [
    {
     "data": {
      "text/plain": [
       "{'harikesh', 'muskan', 'rahul', 'vidu'}"
      ]
     },
     "execution_count": 54,
     "metadata": {},
     "output_type": "execute_result"
    }
   ],
   "source": [
    "# which students have taken at least 1 course\n",
    "set(row[0] for row in gradebook[2])"
   ]
  },
  {
   "cell_type": "code",
   "execution_count": 58,
   "metadata": {},
   "outputs": [
    {
     "data": {
      "text/plain": [
       "{'sanika'}"
      ]
     },
     "execution_count": 58,
     "metadata": {},
     "output_type": "execute_result"
    }
   ],
   "source": [
    "# which students have taken 0 courses\n",
    "set(gradebook[0]) - set(row[0] for row in gradebook[2])"
   ]
  },
  {
   "cell_type": "code",
   "execution_count": 59,
   "metadata": {},
   "outputs": [
    {
     "data": {
      "text/plain": [
       "{'dbms', 'english', 'maths1', 'pdsa'}"
      ]
     },
     "execution_count": 59,
     "metadata": {},
     "output_type": "execute_result"
    }
   ],
   "source": [
    "# which course has at least 1 enrollment\n",
    "set(row[1] for row in gradebook[2])"
   ]
  },
  {
   "cell_type": "code",
   "execution_count": 60,
   "metadata": {},
   "outputs": [
    {
     "data": {
      "text/plain": [
       "{'mlf'}"
      ]
     },
     "execution_count": 60,
     "metadata": {},
     "output_type": "execute_result"
    }
   ],
   "source": [
    "# which courses has 0 enrollments\n",
    "set(gradebook[1]) - set(row[1] for row in gradebook[2])"
   ]
  },
  {
   "cell_type": "markdown",
   "metadata": {},
   "source": [
    "# gradebook = {}"
   ]
  },
  {
   "cell_type": "code",
   "execution_count": 64,
   "metadata": {},
   "outputs": [],
   "source": [
    "gradebook = {\n",
    "    'students': ['rahul', 'vidu', 'muskan', 'sanika'],\n",
    "    'courses':  ['maths1', 'mlf', 'pdsa', 'dbms'],\n",
    "    'enrollments': [\n",
    "        ('vidu', 'maths1'),\n",
    "        ('vidu', 'pdsa'),\n",
    "        ('rahul', 'pdsa'),\n",
    "        ('muskan', 'dbms')\n",
    "    ]\n",
    "}"
   ]
  },
  {
   "cell_type": "code",
   "execution_count": 65,
   "metadata": {},
   "outputs": [
    {
     "data": {
      "text/plain": [
       "{'students': ['rahul', 'vidu', 'muskan', 'sanika', 'harikesh'],\n",
       " 'courses': ['maths1', 'mlf', 'pdsa', 'dbms', 'english'],\n",
       " 'enrollments': [('vidu', 'maths1'),\n",
       "  ('vidu', 'pdsa'),\n",
       "  ('rahul', 'pdsa'),\n",
       "  ('muskan', 'dbms'),\n",
       "  ('harikesh', 'english'),\n",
       "  ('harikesh', 'maths1')]}"
      ]
     },
     "execution_count": 65,
     "metadata": {},
     "output_type": "execute_result"
    }
   ],
   "source": [
    "gradebook['students'].append('harikesh')\n",
    "gradebook['courses'].append('english')\n",
    "gradebook['enrollments'].append(('harikesh', 'english'))\n",
    "gradebook['enrollments'].append(('harikesh', 'maths1'))\n",
    "gradebook"
   ]
  },
  {
   "cell_type": "code",
   "execution_count": 71,
   "metadata": {},
   "outputs": [
    {
     "data": {
      "text/plain": [
       "['vidu', 'harikesh']"
      ]
     },
     "execution_count": 71,
     "metadata": {},
     "output_type": "execute_result"
    },
    {
     "data": {
      "text/plain": [
       "['english', 'maths1']"
      ]
     },
     "execution_count": 71,
     "metadata": {},
     "output_type": "execute_result"
    }
   ],
   "source": [
    "[row[0] for row in gradebook['enrollments'] if row[1] == 'maths1']\n",
    "[row[1] for row in gradebook['enrollments'] if row[0] == 'harikesh']"
   ]
  },
  {
   "cell_type": "markdown",
   "metadata": {},
   "source": [
    "# gradebook = {}, enrollments = {}"
   ]
  },
  {
   "cell_type": "code",
   "execution_count": 73,
   "metadata": {},
   "outputs": [],
   "source": [
    "gradebook = {\n",
    "    'students': ['rahul', 'vidu', 'muskan', 'sanika'],\n",
    "    'courses':  ['maths1', 'mlf', 'pdsa', 'dbms'],\n",
    "    'enrollments': [\n",
    "        {'student': 'vidu', 'course': 'maths1'},\n",
    "        {'student': 'vidu', 'course': 'pdsa'},\n",
    "        {'student': 'rahul', 'course': 'pdsa'},\n",
    "        {'student': 'muskan', 'course': 'dbms'}\n",
    "    ]\n",
    "}"
   ]
  },
  {
   "cell_type": "code",
   "execution_count": 74,
   "metadata": {},
   "outputs": [],
   "source": [
    "gradebook['students'].append('harikesh')\n",
    "gradebook['courses'].append('english')\n",
    "gradebook['enrollments'].append({'student': 'harikesh', 'course': 'english'})\n",
    "gradebook['enrollments'].append({'student': 'harikesh', 'course': 'maths1'})"
   ]
  },
  {
   "cell_type": "code",
   "execution_count": 79,
   "metadata": {},
   "outputs": [
    {
     "data": {
      "text/plain": [
       "['vidu', 'harikesh']"
      ]
     },
     "execution_count": 79,
     "metadata": {},
     "output_type": "execute_result"
    },
    {
     "data": {
      "text/plain": [
       "['english', 'maths1']"
      ]
     },
     "execution_count": 79,
     "metadata": {},
     "output_type": "execute_result"
    }
   ],
   "source": [
    "# who taken maths1\n",
    "[row['student'] for row in gradebook['enrollments'] if row['course'] == 'maths1']\n",
    "\n",
    "# what harikesh has taken\n",
    "[row['course'] for row in gradebook['enrollments'] if row['student'] == 'harikesh']"
   ]
  },
  {
   "cell_type": "code",
   "execution_count": 85,
   "metadata": {},
   "outputs": [
    {
     "data": {
      "text/plain": [
       "{'harikesh', 'muskan', 'rahul', 'vidu'}"
      ]
     },
     "execution_count": 85,
     "metadata": {},
     "output_type": "execute_result"
    },
    {
     "data": {
      "text/plain": [
       "{'sanika'}"
      ]
     },
     "execution_count": 85,
     "metadata": {},
     "output_type": "execute_result"
    }
   ],
   "source": [
    "# students having at least 1 course\n",
    "set([row['student'] for row in gradebook['enrollments']])\n",
    "\n",
    "# students having 0 course\n",
    "set(gradebook['students']) - set([row['student'] for row in gradebook['enrollments']])"
   ]
  },
  {
   "cell_type": "code",
   "execution_count": 89,
   "metadata": {},
   "outputs": [
    {
     "data": {
      "text/plain": [
       "{'dbms', 'english', 'maths1', 'pdsa'}"
      ]
     },
     "execution_count": 89,
     "metadata": {},
     "output_type": "execute_result"
    },
    {
     "data": {
      "text/plain": [
       "{'mlf'}"
      ]
     },
     "execution_count": 89,
     "metadata": {},
     "output_type": "execute_result"
    }
   ],
   "source": [
    "# courses with at least 1 enroll\n",
    "set([row['course'] for row in gradebook['enrollments']])\n",
    "\n",
    "# courses with 0 enroll\n",
    "set(gradebook['courses']) - set([row['course'] for row in gradebook['enrollments']])"
   ]
  },
  {
   "cell_type": "markdown",
   "metadata": {},
   "source": [
    "# gradebook = {}, enrollments = [{}, ...], students = [(name, place, age), ...]"
   ]
  },
  {
   "cell_type": "code",
   "execution_count": 91,
   "metadata": {},
   "outputs": [],
   "source": [
    "gradebook = {\n",
    "    'students': [('rahul', 'albd', 21),\n",
    "                 ('vidu', 'hbh', 20),\n",
    "                 ('muskan', 'raipur', 20),\n",
    "                 ('sanika', 'pune', 25)],\n",
    "    'courses':  ['maths1', 'mlf', 'pdsa', 'dbms'],\n",
    "    'enrollments': [\n",
    "        {'student': 'vidu', 'course': 'maths1'},\n",
    "        {'student': 'vidu', 'course': 'pdsa'},\n",
    "        {'student': 'rahul', 'course': 'pdsa'},\n",
    "        {'student': 'muskan', 'course': 'dbms'}\n",
    "    ]\n",
    "}"
   ]
  },
  {
   "cell_type": "code",
   "execution_count": 92,
   "metadata": {},
   "outputs": [],
   "source": [
    "gradebook['students'].append(('harikesh', 'albd', 22))"
   ]
  },
  {
   "cell_type": "code",
   "execution_count": 97,
   "metadata": {},
   "outputs": [],
   "source": [
    "gradebook['courses'].append('english')\n",
    "gradebook['enrollments'].append({'student': 'harikesh', 'course': 'english'})\n",
    "gradebook['enrollments'].append({'student': 'harikesh', 'course': 'maths1'})"
   ]
  },
  {
   "cell_type": "code",
   "execution_count": 96,
   "metadata": {},
   "outputs": [
    {
     "data": {
      "text/plain": [
       "['rahul', 'vidu', 'muskan', 'sanika', 'harikesh']"
      ]
     },
     "execution_count": 96,
     "metadata": {},
     "output_type": "execute_result"
    },
    {
     "data": {
      "text/plain": [
       "['rahul', 'harikesh']"
      ]
     },
     "execution_count": 96,
     "metadata": {},
     "output_type": "execute_result"
    },
    {
     "data": {
      "text/plain": [
       "['sanika', 'harikesh']"
      ]
     },
     "execution_count": 96,
     "metadata": {},
     "output_type": "execute_result"
    }
   ],
   "source": [
    "# all names\n",
    "[row[0] for row in gradebook['students']]\n",
    "\n",
    "# all names (from albd)\n",
    "[row[0] for row in gradebook['students'] if row[1] == 'albd']\n",
    "\n",
    "# all names (>= 22 yo)\n",
    "[row[0] for row in gradebook['students'] if row[2] >= 22]"
   ]
  },
  {
   "cell_type": "code",
   "execution_count": 98,
   "metadata": {},
   "outputs": [
    {
     "data": {
      "text/plain": [
       "['vidu', 'harikesh']"
      ]
     },
     "execution_count": 98,
     "metadata": {},
     "output_type": "execute_result"
    },
    {
     "data": {
      "text/plain": [
       "['english', 'maths1']"
      ]
     },
     "execution_count": 98,
     "metadata": {},
     "output_type": "execute_result"
    }
   ],
   "source": [
    "# who taken maths1\n",
    "[row['student'] for row in gradebook['enrollments'] if row['course'] == 'maths1']\n",
    "\n",
    "# what harikesh has taken\n",
    "[row['course'] for row in gradebook['enrollments'] if row['student'] == 'harikesh']"
   ]
  },
  {
   "cell_type": "code",
   "execution_count": 106,
   "metadata": {},
   "outputs": [
    {
     "data": {
      "text/plain": [
       "{'harikesh', 'muskan', 'rahul', 'vidu'}"
      ]
     },
     "execution_count": 106,
     "metadata": {},
     "output_type": "execute_result"
    },
    {
     "data": {
      "text/plain": [
       "{'sanika'}"
      ]
     },
     "execution_count": 106,
     "metadata": {},
     "output_type": "execute_result"
    }
   ],
   "source": [
    "# students having at least 1 course\n",
    "set([row['student'] for row in gradebook['enrollments']])\n",
    "\n",
    "# students having 0 course\n",
    "set(row[0] for row in gradebook['students']) - set([row['student'] for row in gradebook['enrollments']])"
   ]
  },
  {
   "cell_type": "code",
   "execution_count": 107,
   "metadata": {},
   "outputs": [
    {
     "data": {
      "text/plain": [
       "{'dbms', 'english', 'maths1', 'pdsa'}"
      ]
     },
     "execution_count": 107,
     "metadata": {},
     "output_type": "execute_result"
    },
    {
     "data": {
      "text/plain": [
       "{'mlf'}"
      ]
     },
     "execution_count": 107,
     "metadata": {},
     "output_type": "execute_result"
    }
   ],
   "source": [
    "# courses with at least 1 enroll\n",
    "set([row['course'] for row in gradebook['enrollments']])\n",
    "\n",
    "# courses with 0 enroll\n",
    "set(gradebook['courses']) - set([row['course'] for row in gradebook['enrollments']])"
   ]
  },
  {
   "cell_type": "markdown",
   "metadata": {},
   "source": [
    "# gradebook = {}, enrollments = [{}, ...], students = [{name: ?, place: ?, age: ?}, ...]"
   ]
  },
  {
   "cell_type": "code",
   "execution_count": 116,
   "metadata": {},
   "outputs": [],
   "source": [
    "gradebook = {\n",
    "    'students': [\n",
    "        {'name': 'rahul', 'place': 'albd', 'age': 21},\n",
    "        {'name': 'vidu', 'place': 'hbh', 'age': 20},\n",
    "        {'name': 'muskan', 'place': 'raipur', 'age': 20},\n",
    "        {'name': 'sanika', 'place': 'pune', 'age': 25}\n",
    "    ],\n",
    "    'courses':  ['maths1', 'mlf', 'pdsa', 'dbms'],\n",
    "    'enrollments': [\n",
    "        {'student': 'vidu', 'course': 'maths1'},\n",
    "        {'student': 'vidu', 'course': 'pdsa'},\n",
    "        {'student': 'rahul', 'course': 'pdsa'},\n",
    "        {'student': 'muskan', 'course': 'dbms'}\n",
    "    ]\n",
    "}"
   ]
  },
  {
   "cell_type": "code",
   "execution_count": 117,
   "metadata": {},
   "outputs": [],
   "source": [
    "gradebook['students'].append({'name': 'harikesh', 'place': 'albd', 'age': 22})"
   ]
  },
  {
   "cell_type": "code",
   "execution_count": 118,
   "metadata": {},
   "outputs": [],
   "source": [
    "gradebook['courses'].append('english')\n",
    "gradebook['enrollments'].append({'student': 'harikesh', 'course': 'english'})\n",
    "gradebook['enrollments'].append({'student': 'harikesh', 'course': 'maths1'})"
   ]
  },
  {
   "cell_type": "code",
   "execution_count": 119,
   "metadata": {},
   "outputs": [
    {
     "data": {
      "text/plain": [
       "['rahul', 'vidu', 'muskan', 'sanika', 'harikesh']"
      ]
     },
     "execution_count": 119,
     "metadata": {},
     "output_type": "execute_result"
    },
    {
     "data": {
      "text/plain": [
       "['rahul', 'harikesh']"
      ]
     },
     "execution_count": 119,
     "metadata": {},
     "output_type": "execute_result"
    },
    {
     "data": {
      "text/plain": [
       "['sanika', 'harikesh']"
      ]
     },
     "execution_count": 119,
     "metadata": {},
     "output_type": "execute_result"
    }
   ],
   "source": [
    "# all names\n",
    "[row['name'] for row in gradebook['students']]\n",
    "\n",
    "# all names (from albd)\n",
    "[row['name'] for row in gradebook['students'] if row['place'] == 'albd']\n",
    "\n",
    "# all names (>= 22 yo)\n",
    "[row['name'] for row in gradebook['students'] if row['age'] >= 22]"
   ]
  },
  {
   "cell_type": "code",
   "execution_count": 120,
   "metadata": {},
   "outputs": [
    {
     "data": {
      "text/plain": [
       "['vidu', 'harikesh']"
      ]
     },
     "execution_count": 120,
     "metadata": {},
     "output_type": "execute_result"
    },
    {
     "data": {
      "text/plain": [
       "['english', 'maths1']"
      ]
     },
     "execution_count": 120,
     "metadata": {},
     "output_type": "execute_result"
    }
   ],
   "source": [
    "# who taken maths1\n",
    "[row['student'] for row in gradebook['enrollments'] if row['course'] == 'maths1']\n",
    "\n",
    "# what harikesh has taken\n",
    "[row['course'] for row in gradebook['enrollments'] if row['student'] == 'harikesh']"
   ]
  },
  {
   "cell_type": "code",
   "execution_count": 123,
   "metadata": {},
   "outputs": [
    {
     "data": {
      "text/plain": [
       "{'harikesh', 'muskan', 'rahul', 'vidu'}"
      ]
     },
     "execution_count": 123,
     "metadata": {},
     "output_type": "execute_result"
    },
    {
     "data": {
      "text/plain": [
       "{'sanika'}"
      ]
     },
     "execution_count": 123,
     "metadata": {},
     "output_type": "execute_result"
    }
   ],
   "source": [
    "# students having at least 1 course\n",
    "set([row['student'] for row in gradebook['enrollments']])\n",
    "\n",
    "# students having 0 course\n",
    "set(row['name'] for row in gradebook['students']) - set([row['student'] for row in gradebook['enrollments']])"
   ]
  },
  {
   "cell_type": "code",
   "execution_count": 125,
   "metadata": {},
   "outputs": [
    {
     "data": {
      "text/plain": [
       "{'dbms', 'english', 'maths1', 'pdsa'}"
      ]
     },
     "execution_count": 125,
     "metadata": {},
     "output_type": "execute_result"
    },
    {
     "data": {
      "text/plain": [
       "{'mlf'}"
      ]
     },
     "execution_count": 125,
     "metadata": {},
     "output_type": "execute_result"
    }
   ],
   "source": [
    "# courses with at least 1 enroll\n",
    "set([row['course'] for row in gradebook['enrollments']])\n",
    "\n",
    "# courses with 0 enroll\n",
    "set(gradebook['courses']) - set([row['course'] for row in gradebook['enrollments']])"
   ]
  }
 ],
 "metadata": {
  "kernelspec": {
   "display_name": "Python 3",
   "language": "python",
   "name": "python3"
  },
  "language_info": {
   "codemirror_mode": {
    "name": "ipython",
    "version": 3
   },
   "file_extension": ".py",
   "mimetype": "text/x-python",
   "name": "python",
   "nbconvert_exporter": "python",
   "pygments_lexer": "ipython3",
   "version": "3.12.6"
  }
 },
 "nbformat": 4,
 "nbformat_minor": 2
}
