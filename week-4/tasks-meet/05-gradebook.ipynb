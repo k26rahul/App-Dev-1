{
 "cells": [
  {
   "cell_type": "code",
   "execution_count": 27,
   "metadata": {},
   "outputs": [],
   "source": [
    "gradebook = [\n",
    "    ['rahul', 'vidu', 'muskan', 'sanika'],  # students\n",
    "    ['maths1', 'mlf', 'pdsa', 'dbms'],  # courses\n",
    "    [  # enrollments\n",
    "        ('vidu', 'maths1'),\n",
    "        ('vidu', 'pdsa'),\n",
    "        ('rahul', 'pdsa'),\n",
    "        ('muskan', 'dbms')\n",
    "    ]\n",
    "]"
   ]
  },
  {
   "cell_type": "code",
   "execution_count": 28,
   "metadata": {},
   "outputs": [],
   "source": [
    "# add harikesh\n",
    "gradebook[0].append('harikesh')"
   ]
  },
  {
   "cell_type": "code",
   "execution_count": 29,
   "metadata": {},
   "outputs": [],
   "source": [
    "# add english\n",
    "gradebook[1].append('english')"
   ]
  },
  {
   "cell_type": "code",
   "execution_count": 30,
   "metadata": {},
   "outputs": [],
   "source": [
    "# add (harikesh, english), (harikesh, maths1) in enrollments\n",
    "gradebook[2].append(('harikesh', 'english'))\n",
    "gradebook[2].append(('harikesh', 'maths1'))"
   ]
  },
  {
   "cell_type": "code",
   "execution_count": 31,
   "metadata": {},
   "outputs": [
    {
     "data": {
      "text/plain": [
       "['rahul', 'vidu', 'muskan', 'sanika', 'harikesh']"
      ]
     },
     "execution_count": 31,
     "metadata": {},
     "output_type": "execute_result"
    },
    {
     "data": {
      "text/plain": [
       "['maths1', 'mlf', 'pdsa', 'dbms', 'english']"
      ]
     },
     "execution_count": 31,
     "metadata": {},
     "output_type": "execute_result"
    },
    {
     "data": {
      "text/plain": [
       "[('vidu', 'maths1'),\n",
       " ('vidu', 'pdsa'),\n",
       " ('rahul', 'pdsa'),\n",
       " ('muskan', 'dbms'),\n",
       " ('harikesh', 'english'),\n",
       " ('harikesh', 'maths1')]"
      ]
     },
     "execution_count": 31,
     "metadata": {},
     "output_type": "execute_result"
    }
   ],
   "source": [
    "# list all students\n",
    "gradebook[0]\n",
    "\n",
    "# list all courses\n",
    "gradebook[1]\n",
    "\n",
    "# list all enrollments\n",
    "gradebook[2]"
   ]
  },
  {
   "cell_type": "code",
   "execution_count": 32,
   "metadata": {},
   "outputs": [
    {
     "data": {
      "text/plain": [
       "['vidu', 'harikesh']"
      ]
     },
     "execution_count": 32,
     "metadata": {},
     "output_type": "execute_result"
    }
   ],
   "source": [
    "# students who have taken maths1\n",
    "[row[0] for row in gradebook[2] if row[1] == 'maths1']"
   ]
  },
  {
   "cell_type": "code",
   "execution_count": 33,
   "metadata": {},
   "outputs": [
    {
     "data": {
      "text/plain": [
       "['maths1', 'pdsa']"
      ]
     },
     "execution_count": 33,
     "metadata": {},
     "output_type": "execute_result"
    }
   ],
   "source": [
    "# which courses vidu has taken\n",
    "[row[1] for row in gradebook[2] if row[0] == 'vidu']"
   ]
  },
  {
   "cell_type": "code",
   "execution_count": 54,
   "metadata": {},
   "outputs": [
    {
     "data": {
      "text/plain": [
       "{'harikesh', 'muskan', 'rahul', 'vidu'}"
      ]
     },
     "execution_count": 54,
     "metadata": {},
     "output_type": "execute_result"
    }
   ],
   "source": [
    "# which students have taken at least 1 course\n",
    "set(row[0] for row in gradebook[2])"
   ]
  },
  {
   "cell_type": "code",
   "execution_count": 58,
   "metadata": {},
   "outputs": [
    {
     "data": {
      "text/plain": [
       "{'sanika'}"
      ]
     },
     "execution_count": 58,
     "metadata": {},
     "output_type": "execute_result"
    }
   ],
   "source": [
    "# which students have taken 0 courses\n",
    "set(gradebook[0]) - set(row[0] for row in gradebook[2])"
   ]
  },
  {
   "cell_type": "code",
   "execution_count": 59,
   "metadata": {},
   "outputs": [
    {
     "data": {
      "text/plain": [
       "{'dbms', 'english', 'maths1', 'pdsa'}"
      ]
     },
     "execution_count": 59,
     "metadata": {},
     "output_type": "execute_result"
    }
   ],
   "source": [
    "# which course has at least 1 enrollment\n",
    "set(row[1] for row in gradebook[2])"
   ]
  },
  {
   "cell_type": "code",
   "execution_count": 60,
   "metadata": {},
   "outputs": [
    {
     "data": {
      "text/plain": [
       "{'mlf'}"
      ]
     },
     "execution_count": 60,
     "metadata": {},
     "output_type": "execute_result"
    }
   ],
   "source": [
    "# which courses has 0 enrollments\n",
    "set(gradebook[1]) - set(row[1] for row in gradebook[2])"
   ]
  }
 ],
 "metadata": {
  "kernelspec": {
   "display_name": "Python 3",
   "language": "python",
   "name": "python3"
  },
  "language_info": {
   "codemirror_mode": {
    "name": "ipython",
    "version": 3
   },
   "file_extension": ".py",
   "mimetype": "text/x-python",
   "name": "python",
   "nbconvert_exporter": "python",
   "pygments_lexer": "ipython3",
   "version": "3.12.6"
  }
 },
 "nbformat": 4,
 "nbformat_minor": 2
}
