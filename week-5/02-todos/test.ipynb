{
 "cells": [
  {
   "cell_type": "markdown",
   "metadata": {},
   "source": [
    "# `todos = {todo_id: todo_text, ...}`"
   ]
  },
  {
   "cell_type": "code",
   "execution_count": 1,
   "metadata": {},
   "outputs": [
    {
     "data": {
      "text/plain": [
       "{1: 'drink water', 2: 'quiz 1', 3: 'sleep', 6: 'week 8 ga'}"
      ]
     },
     "execution_count": 1,
     "metadata": {},
     "output_type": "execute_result"
    }
   ],
   "source": [
    "todos = {\n",
    "    1: 'drink water',\n",
    "    2: 'quiz 1',\n",
    "    3: 'sleep'\n",
    "}\n",
    "\n",
    "last_id = 4\n",
    "\n",
    "\n",
    "def add_todo(text):\n",
    "  global last_id\n",
    "  todos[last_id] = text\n",
    "  last_id += 1\n",
    "\n",
    "\n",
    "def remove_todo(id):\n",
    "  if id in todos:\n",
    "    del todos[id]\n",
    "\n",
    "\n",
    "add_todo('water the plants')\n",
    "add_todo('music class')\n",
    "add_todo('week 8 ga')\n",
    "remove_todo(4)\n",
    "remove_todo(5)\n",
    "todos"
   ]
  },
  {
   "cell_type": "code",
   "execution_count": 12,
   "metadata": {},
   "outputs": [
    {
     "name": "stdout",
     "output_type": "stream",
     "text": [
      "6 week 8 ga\n",
      "3 sleep\n",
      "2 quiz 1\n",
      "1 drink water\n"
     ]
    }
   ],
   "source": [
    "for id, text in reversed(todos.items()):\n",
    "  print(id, text)"
   ]
  },
  {
   "cell_type": "code",
   "execution_count": 10,
   "metadata": {},
   "outputs": [
    {
     "name": "stdout",
     "output_type": "stream",
     "text": [
      "1 drink water\n",
      "2 quiz 1\n",
      "3 sleep\n",
      "6 week 8 ga\n"
     ]
    }
   ],
   "source": [
    "for id, text in todos.items():\n",
    "  print(id, text)"
   ]
  },
  {
   "cell_type": "code",
   "execution_count": 2,
   "metadata": {},
   "outputs": [
    {
     "data": {
      "text/plain": [
       "True"
      ]
     },
     "execution_count": 2,
     "metadata": {},
     "output_type": "execute_result"
    }
   ],
   "source": [
    "todos = {\n",
    "    1: 'drink water',\n",
    "    2: 'quiz 1',\n",
    "    3: 'sleep'\n",
    "}\n",
    "\n",
    "1 in todos"
   ]
  }
 ],
 "metadata": {
  "kernelspec": {
   "display_name": "Python 3",
   "language": "python",
   "name": "python3"
  },
  "language_info": {
   "codemirror_mode": {
    "name": "ipython",
    "version": 3
   },
   "file_extension": ".py",
   "mimetype": "text/x-python",
   "name": "python",
   "nbconvert_exporter": "python",
   "pygments_lexer": "ipython3",
   "version": "3.12.6"
  }
 },
 "nbformat": 4,
 "nbformat_minor": 2
}
