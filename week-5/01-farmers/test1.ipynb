{
 "cells": [
  {
   "cell_type": "markdown",
   "metadata": {},
   "source": [
    "# planning (rough 🤔😥😥)"
   ]
  },
  {
   "cell_type": "markdown",
   "metadata": {},
   "source": [
    "rahul is a farmer. needs an app to sell his products. customers will buy those products by using that app.\n",
    "\n",
    "rahul ~ farmer ✅\n",
    "\n",
    "vidu ~ customer ❌\n",
    "\n",
    "class Product:\n",
    "- product_id\n",
    "- name  \n",
    "  examples:\n",
    "  - `{product_id: 1, name: potato}`,\n",
    "  - `{product_id: 2, name: tomato}`\n",
    "\n",
    "class Stock:\n",
    "- product_id\n",
    "- qty\n",
    "- price\n",
    "- expiry  \n",
    "  examples:\n",
    "  - `{product_id: 1, qty: 50, price: 40, expiry: 20}`\n",
    "  - `{product_id: 1, qty: 150, price: 20, expiry: 5}`\n",
    "\n",
    "list inventory: [Stock, Stock, Stock, ...]\n",
    "- example: `[{product_id: 1, qty: 50, price: 40, expiry: 20}, {product_id: 1, qty: 150, price: 20, expiry: 5}, ...]`"
   ]
  },
  {
   "cell_type": "markdown",
   "metadata": {},
   "source": [
    "# 😱 NEW\n",
    "**storage: tables: # slots containing objects**\n",
    "\n",
    "```py\n",
    "# 😥😥\n",
    "honey.id\n",
    "4  # ?honey"
   ]
  },
  {
   "cell_type": "code",
   "execution_count": 24,
   "metadata": {},
   "outputs": [
    {
     "data": {
      "text/plain": [
       "4"
      ]
     },
     "execution_count": 24,
     "metadata": {},
     "output_type": "execute_result"
    },
    {
     "data": {
      "text/plain": [
       "4"
      ]
     },
     "execution_count": 24,
     "metadata": {},
     "output_type": "execute_result"
    }
   ],
   "source": [
    "class Product:\n",
    "  _idx = 1\n",
    "\n",
    "  def __init__(self, name, type):\n",
    "    self.id = Product._idx\n",
    "    Product._idx += 1\n",
    "\n",
    "    self.name = name\n",
    "    self.type = type  # dairy, vegetable, fruit, nut, others\n",
    "\n",
    "  def __repr__(self):\n",
    "    return f'<Product {self.id}: {self.name}, {self.type}>'\n",
    "\n",
    "\n",
    "potato = Product('potato', type='vegetable')\n",
    "tomato = Product('tomato', type='vegetable')\n",
    "milk = Product('milk', type='dairy')\n",
    "honey = Product('honey', type='others')\n",
    "\n",
    "# 😥😥\n",
    "honey.id\n",
    "4  # ?honey"
   ]
  },
  {
   "cell_type": "code",
   "execution_count": 20,
   "metadata": {},
   "outputs": [],
   "source": [
    "class Stock:\n",
    "  _idx = 1\n",
    "\n",
    "  def __init__(self, product_id, qty, price, expiry):\n",
    "    self.id = Stock._idx\n",
    "    Stock._idx += 1\n",
    "\n",
    "    self.product_id = product_id\n",
    "    self.qty = qty\n",
    "    self.price = price\n",
    "    self.expiry = expiry\n",
    "\n",
    "  def __repr__(self):\n",
    "    return f'<Stock {self.id}: {self.product_id}>'\n",
    "\n",
    "\n",
    "potato_stock1 = Stock(product_id=1, qty=50, price=40, expiry=20)\n",
    "potato_stock2 = Stock(product_id=1, qty=150, price=20, expiry=5)\n",
    "honey_stock = Stock(product_id=4, qty=10, price=500, expiry=500)"
   ]
  },
  {
   "cell_type": "code",
   "execution_count": 21,
   "metadata": {},
   "outputs": [
    {
     "data": {
      "text/plain": [
       "{1: <Stock 1: 1>, 2: <Stock 2: 1>, 3: <Stock 3: 4>}"
      ]
     },
     "execution_count": 21,
     "metadata": {},
     "output_type": "execute_result"
    }
   ],
   "source": [
    "class Inventory:\n",
    "  def __init__(self):\n",
    "    self.storage = {}\n",
    "\n",
    "  def add_stock(self, stock):\n",
    "    self.storage[stock.id] = stock\n",
    "\n",
    "  def remove_stock(self, stock_id):\n",
    "    del self.storage[stock_id]\n",
    "\n",
    "\n",
    "inventory = Inventory()\n",
    "inventory.add_stock(potato_stock1)\n",
    "inventory.add_stock(potato_stock2)\n",
    "inventory.add_stock(honey_stock)\n",
    "inventory.storage"
   ]
  }
 ],
 "metadata": {
  "kernelspec": {
   "display_name": "Python 3",
   "language": "python",
   "name": "python3"
  },
  "language_info": {
   "codemirror_mode": {
    "name": "ipython",
    "version": 3
   },
   "file_extension": ".py",
   "mimetype": "text/x-python",
   "name": "python",
   "nbconvert_exporter": "python",
   "pygments_lexer": "ipython3",
   "version": "3.12.6"
  }
 },
 "nbformat": 4,
 "nbformat_minor": 2
}
