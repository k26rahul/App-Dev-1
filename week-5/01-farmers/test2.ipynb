{
 "cells": [
  {
   "cell_type": "code",
   "execution_count": 87,
   "metadata": {},
   "outputs": [],
   "source": [
    "class Product:\n",
    "  _idx = 1\n",
    "\n",
    "  def __init__(self, name, type):\n",
    "    self.id = Product._idx\n",
    "    Product._idx += 1\n",
    "\n",
    "    self.name = name\n",
    "    self.type = type\n",
    "\n",
    "  def __repr__(self):\n",
    "    return f'<Product {self.name}>'\n",
    "\n",
    "\n",
    "class Stock:\n",
    "  _idx = 1\n",
    "\n",
    "  def __init__(self, product_id, qty, price, expiry):\n",
    "    self.id = Stock._idx\n",
    "    Stock._idx += 1\n",
    "\n",
    "    self.product_id = product_id\n",
    "    self.qty = qty\n",
    "    self.price = price\n",
    "    self.expiry = expiry\n",
    "\n",
    "  def __repr__(self):\n",
    "    return f'<Stock {self.product_id}>'"
   ]
  },
  {
   "cell_type": "code",
   "execution_count": 88,
   "metadata": {},
   "outputs": [],
   "source": [
    "products = {\n",
    "    #: Product (as a row)\n",
    "    1: Product('potato', 'veg'),\n",
    "    2: Product('tomato', 'veg'),\n",
    "    3: Product('milk', 'diary'),\n",
    "    4: Product('honey', 'others'),\n",
    "}\n",
    "\n",
    "stocks = {\n",
    "    #: Stock (as a row)\n",
    "    1: Stock(product_id=1, qty=50, price=40, expiry=20),\n",
    "    2: Stock(product_id=1, qty=150, price=20, expiry=5),\n",
    "    3: Stock(product_id=3, qty=10, price=50, expiry=2),\n",
    "    4: Stock(product_id=4, qty=100, price=500, expiry=500),\n",
    "}"
   ]
  },
  {
   "cell_type": "code",
   "execution_count": 89,
   "metadata": {},
   "outputs": [
    {
     "data": {
      "text/plain": [
       "{1: <Product potato>,\n",
       " 2: <Product tomato>,\n",
       " 3: <Product milk>,\n",
       " 4: <Product honey>,\n",
       " 5: <Product kiwi>,\n",
       " 6: <Product paddy>}"
      ]
     },
     "execution_count": 89,
     "metadata": {},
     "output_type": "execute_result"
    }
   ],
   "source": [
    "def add_product(row):\n",
    "  products[row.id] = row\n",
    "\n",
    "\n",
    "add_product(Product('kiwi', 'fruit'))\n",
    "add_product(Product('paddy', 'others'))\n",
    "products"
   ]
  }
 ],
 "metadata": {
  "kernelspec": {
   "display_name": "Python 3",
   "language": "python",
   "name": "python3"
  },
  "language_info": {
   "codemirror_mode": {
    "name": "ipython",
    "version": 3
   },
   "file_extension": ".py",
   "mimetype": "text/x-python",
   "name": "python",
   "nbconvert_exporter": "python",
   "pygments_lexer": "ipython3",
   "version": "3.12.6"
  }
 },
 "nbformat": 4,
 "nbformat_minor": 2
}
