{
 "cells": [
  {
   "cell_type": "markdown",
   "metadata": {},
   "source": [
    "# decorators\n",
    "\n",
    "- 🌟 take a function (`original_function`)\n",
    "  - add functionality to `original_function` without modifying its code\n",
    "- 🌟 return another function (`wrapper`)\n",
    "  - `wrapper` calls `original_function`"
   ]
  },
  {
   "cell_type": "code",
   "execution_count": null,
   "metadata": {},
   "outputs": [],
   "source": [
    "from datetime import datetime\n",
    "\n",
    "\n",
    "def show_time(original_function):\n",
    "  # ☝️ this is decorator\n",
    "  def wrapper(name):\n",
    "    print(f'hey {name}, time is {datetime.now()}')\n",
    "    original_function(f'good {name.upper()}')\n",
    "\n",
    "  return wrapper"
   ]
  },
  {
   "cell_type": "code",
   "execution_count": 5,
   "metadata": {},
   "outputs": [
    {
     "name": "stdout",
     "output_type": "stream",
     "text": [
      "hey vidu, time is 2024-11-04 09:34:31.493365\n",
      "hello good VIDU\n",
      "hey vidu, time is 2024-11-04 09:34:31.493365\n",
      "goodbye good VIDU\n"
     ]
    }
   ],
   "source": [
    "def greet(name):\n",
    "  # ☝️ this to be decorated\n",
    "  print(f'hello {name}')\n",
    "\n",
    "\n",
    "@show_time\n",
    "def bye(name):\n",
    "  # ☝️ this to be decorated\n",
    "  print(f'goodbye {name}')\n",
    "\n",
    "\n",
    "greet = show_time(greet)\n",
    "\n",
    "greet('vidu')\n",
    "bye('vidu')"
   ]
  },
  {
   "cell_type": "code",
   "execution_count": 3,
   "metadata": {},
   "outputs": [
    {
     "name": "stdout",
     "output_type": "stream",
     "text": [
      "message is HELLO VIDU\n"
     ]
    }
   ],
   "source": [
    "def decor(func1):\n",
    "  def inner(name):\n",
    "    s = func1(name)\n",
    "    return f'message is {s.upper()}'\n",
    "  return inner\n",
    "\n",
    "\n",
    "@decor\n",
    "def hello(name):\n",
    "  return f'hello {name}'\n",
    "\n",
    "\n",
    "print(hello('vidu'))"
   ]
  },
  {
   "cell_type": "code",
   "execution_count": 4,
   "metadata": {},
   "outputs": [
    {
     "data": {
      "text/plain": [
       "['hello', 'world']"
      ]
     },
     "execution_count": 4,
     "metadata": {},
     "output_type": "execute_result"
    }
   ],
   "source": [
    "'hello world'.split()"
   ]
  }
 ],
 "metadata": {
  "kernelspec": {
   "display_name": "Python 3",
   "language": "python",
   "name": "python3"
  },
  "language_info": {
   "codemirror_mode": {
    "name": "ipython",
    "version": 3
   },
   "file_extension": ".py",
   "mimetype": "text/x-python",
   "name": "python",
   "nbconvert_exporter": "python",
   "pygments_lexer": "ipython3",
   "version": "3.12.6"
  }
 },
 "nbformat": 4,
 "nbformat_minor": 2
}
