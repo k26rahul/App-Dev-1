{
 "cells": [
  {
   "cell_type": "code",
   "execution_count": 15,
   "metadata": {},
   "outputs": [
    {
     "data": {
      "text/plain": [
       "{1: <Student vidu>}"
      ]
     },
     "execution_count": 15,
     "metadata": {},
     "output_type": "execute_result"
    }
   ],
   "source": [
    "class Student:\n",
    "  _idx = 1\n",
    "\n",
    "  def __init__(self, name, place, age):\n",
    "    self.id = Student._idx\n",
    "    Student._idx += 1\n",
    "\n",
    "    self.name = name\n",
    "    self.place = place\n",
    "    self.age = age\n",
    "\n",
    "  def __repr__(self):\n",
    "    return f'<Student {self.name}>'\n",
    "\n",
    "\n",
    "students = {}\n",
    "\n",
    "\n",
    "def add_student(student):\n",
    "  students[student.id] = student\n",
    "\n",
    "\n",
    "add_student(Student('vidu', 'hbh', 22))\n",
    "students"
   ]
  },
  {
   "cell_type": "code",
   "execution_count": 16,
   "metadata": {},
   "outputs": [
    {
     "data": {
      "text/plain": [
       "{1: <Course maths1>, 2: <Course maths2>}"
      ]
     },
     "execution_count": 16,
     "metadata": {},
     "output_type": "execute_result"
    }
   ],
   "source": [
    "class Course:\n",
    "  _idx = 1\n",
    "\n",
    "  def __init__(self, name, credits):\n",
    "    self.id = Course._idx\n",
    "    Course._idx += 1\n",
    "\n",
    "    self.name = name\n",
    "    self.credits = credits\n",
    "\n",
    "  def __repr__(self):\n",
    "    return f'<Course {self.name}>'\n",
    "\n",
    "\n",
    "courses = {}\n",
    "\n",
    "\n",
    "def add_course(course):\n",
    "  courses[course.id] = course\n",
    "\n",
    "\n",
    "add_course(Course('maths1', 4))\n",
    "add_course(Course('maths2', 4))\n",
    "courses"
   ]
  },
  {
   "cell_type": "code",
   "execution_count": 17,
   "metadata": {},
   "outputs": [
    {
     "data": {
      "text/plain": [
       "{1: <Enroll 1 1>}"
      ]
     },
     "execution_count": 17,
     "metadata": {},
     "output_type": "execute_result"
    }
   ],
   "source": [
    "class Enroll:\n",
    "  _idx = 1\n",
    "\n",
    "  def __init__(self, student_id, course_id, term, year):\n",
    "    self.id = Enroll._idx\n",
    "    Enroll._idx += 1\n",
    "\n",
    "    self.student_id = student_id\n",
    "    self.course_id = course_id\n",
    "    self.term = term\n",
    "    self.year = year\n",
    "\n",
    "  def __repr__(self):\n",
    "    return f'<Enroll {self.student_id} {self.course_id}>'\n",
    "\n",
    "\n",
    "enrolls = {}\n",
    "\n",
    "\n",
    "def add_enroll(enroll):\n",
    "  enrolls[enroll.id] = enroll\n",
    "\n",
    "\n",
    "add_enroll(Enroll(1, 1, 't3', 2024))\n",
    "enrolls"
   ]
  }
 ],
 "metadata": {
  "kernelspec": {
   "display_name": "Python 3",
   "language": "python",
   "name": "python3"
  },
  "language_info": {
   "codemirror_mode": {
    "name": "ipython",
    "version": 3
   },
   "file_extension": ".py",
   "mimetype": "text/x-python",
   "name": "python",
   "nbconvert_exporter": "python",
   "pygments_lexer": "ipython3",
   "version": "3.12.6"
  }
 },
 "nbformat": 4,
 "nbformat_minor": 2
}
