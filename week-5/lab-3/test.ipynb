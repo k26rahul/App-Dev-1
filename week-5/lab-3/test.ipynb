{
 "cells": [
  {
   "cell_type": "markdown",
   "metadata": {},
   "source": [
    "# models using `flask_sqlalchemy` + relationships + cascade"
   ]
  },
  {
   "cell_type": "code",
   "execution_count": 232,
   "metadata": {},
   "outputs": [],
   "source": [
    "from sqlalchemy import Column, Integer, String, ForeignKey\n",
    "from sqlalchemy.orm import relationship\n",
    "from flask import Flask\n",
    "from flask_sqlalchemy import SQLAlchemy"
   ]
  },
  {
   "cell_type": "code",
   "execution_count": 233,
   "metadata": {},
   "outputs": [],
   "source": [
    "app = Flask(__name__)\n",
    "app.config['SQLALCHEMY_DATABASE_URI'] = 'sqlite:///:memory:'\n",
    "db = SQLAlchemy(app)"
   ]
  },
  {
   "cell_type": "markdown",
   "metadata": {},
   "source": [
    "# make classes (tables)"
   ]
  },
  {
   "cell_type": "code",
   "execution_count": 234,
   "metadata": {},
   "outputs": [],
   "source": [
    "class Student(db.Model):\n",
    "  __tablename__ = 'student'\n",
    "  student_id = Column(Integer, primary_key=True, autoincrement=True)\n",
    "  roll_number = Column(String, unique=True, nullable=False)\n",
    "  first_name = Column(String, nullable=False)\n",
    "  last_name = Column(String)\n",
    "\n",
    "  enrolls = relationship('Enroll', back_populates='student', cascade='all, delete')\n",
    "\n",
    "\n",
    "class Course(db.Model):\n",
    "  __tablename__ = 'course'\n",
    "  course_id = Column(Integer, primary_key=True, autoincrement=True)\n",
    "  course_code = Column(String, unique=True, nullable=False)\n",
    "  course_name = Column(String, nullable=False)\n",
    "  course_description = Column(String)\n",
    "\n",
    "  enrolls = relationship('Enroll', back_populates='course', cascade='all, delete')\n",
    "\n",
    "\n",
    "class Enroll(db.Model):\n",
    "  __tablename__ = 'enrollments'\n",
    "  enrollment_id = Column(Integer, primary_key=True, autoincrement=True)\n",
    "  estudent_id = Column(Integer, ForeignKey('student.student_id'), nullable=False)\n",
    "  ecourse_id = Column(Integer, ForeignKey('course.course_id'), nullable=False)\n",
    "\n",
    "  student = relationship('Student', back_populates='enrolls')\n",
    "  course = relationship('Course', back_populates='enrolls')"
   ]
  },
  {
   "cell_type": "markdown",
   "metadata": {},
   "source": [
    "# ~~make engine and session~~ `db.create_all()`"
   ]
  },
  {
   "cell_type": "code",
   "execution_count": 235,
   "metadata": {},
   "outputs": [],
   "source": [
    "with app.app_context():\n",
    "  db.create_all()"
   ]
  },
  {
   "cell_type": "markdown",
   "metadata": {},
   "source": [
    "# populate data"
   ]
  },
  {
   "cell_type": "code",
   "execution_count": 236,
   "metadata": {},
   "outputs": [],
   "source": [
    "with app.app_context():\n",
    "  db.session.add(Course(course_code='CSE01', course_name='MAD 1', course_description='...'))\n",
    "  db.session.add(Course(course_code='CSE02', course_name='DBMS', course_description='...'))\n",
    "  db.session.add(Course(course_code='CSE03', course_name='PDSA', course_description='...'))\n",
    "  db.session.add(Course(course_code='BST13', course_name='BDM', course_description='...'))\n",
    "  db.session.add(Course(course_code='BST14', course_name='BDM2.0', course_description='...'))\n",
    "\n",
    "  db.session.add(Student(roll_number='1', first_name='Harikesh'))\n",
    "  db.session.add(Student(roll_number='2', first_name='Vidu'))\n",
    "\n",
    "  db.session.add(Enroll(estudent_id=1, ecourse_id=1))\n",
    "  db.session.add(Enroll(estudent_id=1, ecourse_id=4))\n",
    "  db.session.add(Enroll(estudent_id=1, ecourse_id=5))\n",
    "  db.session.add(Enroll(estudent_id=2, ecourse_id=1))\n",
    "  db.session.add(Enroll(estudent_id=2, ecourse_id=2))\n",
    "  db.session.add(Enroll(estudent_id=2, ecourse_id=4))\n",
    "  db.session.add(Enroll(estudent_id=2, ecourse_id=5))\n",
    "\n",
    "  # to delete\n",
    "  db.session.add(Student(roll_number='3', first_name='Muskan'))\n",
    "  db.session.add(Enroll(estudent_id=3, ecourse_id=1))\n",
    "  db.session.add(Enroll(estudent_id=3, ecourse_id=2))\n",
    "\n",
    "  db.session.commit()"
   ]
  },
  {
   "cell_type": "markdown",
   "metadata": {},
   "source": [
    "# query data"
   ]
  },
  {
   "cell_type": "markdown",
   "metadata": {},
   "source": [
    "Student.query == db.session.query(Student)"
   ]
  },
  {
   "cell_type": "code",
   "execution_count": 237,
   "metadata": {},
   "outputs": [],
   "source": [
    "with app.app_context():\n",
    "  bdm2 = Course.query.filter_by(course_id=5).first()\n",
    "  if bdm2:\n",
    "    db.session.delete(bdm2)\n",
    "    db.session.commit()"
   ]
  },
  {
   "cell_type": "code",
   "execution_count": 238,
   "metadata": {},
   "outputs": [],
   "source": [
    "with app.app_context():\n",
    "  # Student.query.filter_by(student_id=3).delete()\n",
    "  # db.session.query(Student).filter_by(student_id=3).delete()\n",
    "  student = Student.query.filter_by(student_id=3).first()\n",
    "  if student:\n",
    "    db.session.delete(student)\n",
    "    db.session.commit()"
   ]
  },
  {
   "cell_type": "code",
   "execution_count": 239,
   "metadata": {},
   "outputs": [
    {
     "name": "stdout",
     "output_type": "stream",
     "text": [
      "Harikesh\n",
      "Vidu\n"
     ]
    }
   ],
   "source": [
    "with app.app_context():\n",
    "  students = Student.query.all()\n",
    "  for student in students:\n",
    "    print(student.first_name)"
   ]
  },
  {
   "cell_type": "code",
   "execution_count": 240,
   "metadata": {},
   "outputs": [
    {
     "name": "stdout",
     "output_type": "stream",
     "text": [
      "Harikesh has taken bdm\n",
      "Vidu has taken bdm\n"
     ]
    }
   ],
   "source": [
    "with app.app_context():\n",
    "  bdm = Course.query.filter_by(course_id=4).first()\n",
    "  for enroll in bdm.enrolls:\n",
    "    print(f'{enroll.student.first_name} has taken bdm')"
   ]
  },
  {
   "cell_type": "code",
   "execution_count": 241,
   "metadata": {},
   "outputs": [
    {
     "name": "stdout",
     "output_type": "stream",
     "text": [
      "Harikesh has taken MAD 1\n",
      "Harikesh has taken BDM\n",
      "Vidu has taken MAD 1\n",
      "Vidu has taken DBMS\n",
      "Vidu has taken BDM\n"
     ]
    }
   ],
   "source": [
    "with app.app_context():\n",
    "  enrolls = Enroll.query.all()\n",
    "  for enroll in enrolls:\n",
    "    # print(f'{enroll.estudent_id} {enroll.student}')\n",
    "    print(f'{enroll.student.first_name} has taken {enroll.course.course_name}')"
   ]
  },
  {
   "cell_type": "code",
   "execution_count": 242,
   "metadata": {},
   "outputs": [
    {
     "name": "stdout",
     "output_type": "stream",
     "text": [
      "<Student 1>\n",
      "[<Enroll 1>, <Enroll 2>]\n",
      "<Enroll 1>\n",
      "<Course 1>\n",
      "MAD 1\n"
     ]
    }
   ],
   "source": [
    "student_id = 1\n",
    "with app.app_context():\n",
    "  student = Student.query.filter_by(student_id=student_id).first()\n",
    "  print(student)\n",
    "  print(student.enrolls)\n",
    "  print(student.enrolls[0])\n",
    "  print(student.enrolls[0].course)\n",
    "  print(student.enrolls[0].course.course_name)"
   ]
  },
  {
   "cell_type": "code",
   "execution_count": 243,
   "metadata": {},
   "outputs": [
    {
     "name": "stdout",
     "output_type": "stream",
     "text": [
      "Harikesh has taken MAD 1\n",
      "Harikesh has taken BDM\n"
     ]
    }
   ],
   "source": [
    "student_id = 1\n",
    "with app.app_context():\n",
    "  student = Student.query.filter_by(student_id=student_id).first()\n",
    "  for enroll in student.enrolls:\n",
    "    print(f'{student.first_name} has taken {enroll.course.course_name}')"
   ]
  },
  {
   "cell_type": "code",
   "execution_count": 244,
   "metadata": {},
   "outputs": [
    {
     "name": "stdout",
     "output_type": "stream",
     "text": [
      "Harikesh has taken course MAD 1\n",
      "Harikesh has taken course BDM\n"
     ]
    }
   ],
   "source": [
    "student_id = 1\n",
    "with app.app_context():\n",
    "  student = Student.query.filter_by(student_id=student_id).first()\n",
    "  enrolls = Enroll.query.filter_by(estudent_id=student_id).all()\n",
    "\n",
    "  for enroll in enrolls:\n",
    "    course = Course.query.filter_by(course_id=enroll.ecourse_id).first()\n",
    "    print(f'{student.first_name} has taken course {course.course_name}')"
   ]
  }
 ],
 "metadata": {
  "kernelspec": {
   "display_name": "Python 3",
   "language": "python",
   "name": "python3"
  },
  "language_info": {
   "codemirror_mode": {
    "name": "ipython",
    "version": 3
   },
   "file_extension": ".py",
   "mimetype": "text/x-python",
   "name": "python",
   "nbconvert_exporter": "python",
   "pygments_lexer": "ipython3",
   "version": "3.12.6"
  }
 },
 "nbformat": 4,
 "nbformat_minor": 2
}
