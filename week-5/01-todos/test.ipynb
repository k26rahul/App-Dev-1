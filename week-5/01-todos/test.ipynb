{
 "cells": [
  {
   "cell_type": "code",
   "execution_count": 1,
   "metadata": {},
   "outputs": [
    {
     "data": {
      "text/plain": [
       "['music class', 'week 5 assignments']"
      ]
     },
     "execution_count": 1,
     "metadata": {},
     "output_type": "execute_result"
    }
   ],
   "source": [
    "todos = []\n",
    "\n",
    "\n",
    "def add_todo(text):\n",
    "  todos.append(text)\n",
    "\n",
    "\n",
    "def remove_todo(text):\n",
    "  todos.remove(text)\n",
    "\n",
    "\n",
    "add_todo('quiz 1')\n",
    "add_todo('music class')\n",
    "add_todo('week 5 assignments')\n",
    "remove_todo('quiz 1')\n",
    "todos"
   ]
  }
 ],
 "metadata": {
  "kernelspec": {
   "display_name": "Python 3",
   "language": "python",
   "name": "python3"
  },
  "language_info": {
   "codemirror_mode": {
    "name": "ipython",
    "version": 3
   },
   "file_extension": ".py",
   "mimetype": "text/x-python",
   "name": "python",
   "nbconvert_exporter": "python",
   "pygments_lexer": "ipython3",
   "version": "3.12.6"
  }
 },
 "nbformat": 4,
 "nbformat_minor": 2
}
