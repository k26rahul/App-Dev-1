{
 "cells": [
  {
   "cell_type": "code",
   "execution_count": 2,
   "metadata": {},
   "outputs": [
    {
     "data": {
      "text/plain": [
       "['quiz 1', 'flask', 'sql', 'week 6']"
      ]
     },
     "execution_count": 2,
     "metadata": {},
     "output_type": "execute_result"
    }
   ],
   "source": [
    "todos = [\n",
    "    'quiz 1',\n",
    "    'week 5 pdsa',\n",
    "    'flask',\n",
    "    'sql'\n",
    "]\n",
    "\n",
    "todos.append('week 6')\n",
    "todos.remove('week 5 pdsa')\n",
    "todos"
   ]
  },
  {
   "cell_type": "code",
   "execution_count": 4,
   "metadata": {},
   "outputs": [
    {
     "name": "stdout",
     "output_type": "stream",
     "text": [
      "quiz 1\n"
     ]
    }
   ],
   "source": [
    "todo_item = 'quiz 1'\n",
    "\n",
    "todos = ['quiz 1', 'quiz 1', 'quiz 1']\n",
    "\n",
    "print(todo_item)"
   ]
  },
  {
   "cell_type": "code",
   "execution_count": 11,
   "metadata": {},
   "outputs": [
    {
     "name": "stdout",
     "output_type": "stream",
     "text": [
      "{'text': 'quiz 1', 'created_at': '2024-10-28::21:09:00', 'status': 'pending'}\n",
      "2024-10-28::21:09:00\n"
     ]
    }
   ],
   "source": [
    "todo_item = {\n",
    "    'text': 'quiz 1',\n",
    "    'created_at': '2024-10-28::21:09:00',\n",
    "    'status': 'pending'\n",
    "}\n",
    "\n",
    "todos = [{ 'text': 'quiz 1', 'created_at': '2024-10-28::21:09:00', 'status': 'pending' },\n",
    "         { 'text': 'quiz 1', 'created_at': '2024-10-28::21:09:00', 'status': 'pending' },\n",
    "         { 'text': 'quiz 1', 'created_at': '2024-10-28::21:09:00', 'status': 'pending' }]\n",
    "\n",
    "print(todo_item)\n",
    "print(todo_item['created_at'])"
   ]
  },
  {
   "cell_type": "code",
   "execution_count": 65,
   "metadata": {},
   "outputs": [
    {
     "data": {
      "text/plain": [
       "[{'id': 1,\n",
       "  'text': 'quiz 1',\n",
       "  'created_at': datetime.datetime(2024, 10, 28, 21, 43, 36, 519533),\n",
       "  'status': 'pending'},\n",
       " {'id': 2,\n",
       "  'text': 'project work',\n",
       "  'created_at': datetime.datetime(2024, 10, 28, 21, 43, 36, 519533),\n",
       "  'status': 'pending'},\n",
       " {'id': 3,\n",
       "  'text': 'music class',\n",
       "  'created_at': datetime.datetime(2024, 10, 28, 21, 43, 36, 519533),\n",
       "  'status': 'pending'}]"
      ]
     },
     "execution_count": 65,
     "metadata": {},
     "output_type": "execute_result"
    }
   ],
   "source": [
    "from datetime import datetime\n",
    "\n",
    "todos = []\n",
    "last_id = 1\n",
    "\n",
    "\n",
    "def add_todo(text):\n",
    "  global last_id\n",
    "  todo_item = {\n",
    "      'id': last_id,\n",
    "      'text': text,\n",
    "      'created_at': datetime.now(),\n",
    "      'status': 'pending'\n",
    "  }\n",
    "  todos.append(todo_item)\n",
    "  last_id += 1\n",
    "  return todo_item\n",
    "\n",
    "\n",
    "def remove_todo(id):\n",
    "  ...\n",
    "\n",
    "\n",
    "_ = add_todo('quiz 1')\n",
    "_ = add_todo('project work')\n",
    "_ = add_todo('music class')\n",
    "remove_todo(3)\n",
    "todos"
   ]
  },
  {
   "cell_type": "code",
   "execution_count": 67,
   "metadata": {},
   "outputs": [
    {
     "data": {
      "text/plain": [
       "[{'id': 1,\n",
       "  'text': 'quiz 1',\n",
       "  'created_at': datetime.datetime(2024, 10, 28, 21, 43, 36, 519533),\n",
       "  'status': 'pending'},\n",
       " {'id': 2,\n",
       "  'text': 'project work',\n",
       "  'created_at': datetime.datetime(2024, 10, 28, 21, 43, 36, 519533),\n",
       "  'status': 'pending'}]"
      ]
     },
     "execution_count": 67,
     "metadata": {},
     "output_type": "execute_result"
    }
   ],
   "source": [
    "id = 3\n",
    "for todo_item in todos:\n",
    "  if todo_item['id'] == id:\n",
    "    todos.remove(todo_item)\n",
    "    break\n",
    "\n",
    "todos"
   ]
  }
 ],
 "metadata": {
  "kernelspec": {
   "display_name": "Python 3",
   "language": "python",
   "name": "python3"
  },
  "language_info": {
   "codemirror_mode": {
    "name": "ipython",
    "version": 3
   },
   "file_extension": ".py",
   "mimetype": "text/x-python",
   "name": "python",
   "nbconvert_exporter": "python",
   "pygments_lexer": "ipython3",
   "version": "3.12.6"
  }
 },
 "nbformat": 4,
 "nbformat_minor": 2
}
