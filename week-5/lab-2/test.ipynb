{
 "cells": [
  {
   "cell_type": "code",
   "execution_count": 47,
   "metadata": {},
   "outputs": [],
   "source": [
    "from sqlalchemy import Column, Integer, String, ForeignKey, create_engine\n",
    "from sqlalchemy.orm import declarative_base, sessionmaker"
   ]
  },
  {
   "cell_type": "markdown",
   "metadata": {},
   "source": [
    "# make classes (tables)"
   ]
  },
  {
   "cell_type": "code",
   "execution_count": 48,
   "metadata": {},
   "outputs": [],
   "source": [
    "Base = declarative_base()"
   ]
  },
  {
   "cell_type": "code",
   "execution_count": 49,
   "metadata": {},
   "outputs": [],
   "source": [
    "class Student(Base):\n",
    "  __tablename__ = 'student'\n",
    "\n",
    "  student_id = Column(Integer, primary_key=True, autoincrement=True)\n",
    "  roll_number = Column(String, unique=True, nullable=False)\n",
    "  first_name = Column(String, nullable=False)\n",
    "  last_name = Column(String)\n",
    "\n",
    "  def __repr__(self):\n",
    "    return f'<Student {self.first_name}>'"
   ]
  },
  {
   "cell_type": "code",
   "execution_count": 50,
   "metadata": {},
   "outputs": [],
   "source": [
    "class Course(Base):\n",
    "  __tablename__ = 'course'\n",
    "\n",
    "  course_id = Column(Integer, primary_key=True, autoincrement=True)\n",
    "  course_code = Column(String, unique=True, nullable=False)\n",
    "  course_name = Column(String, nullable=False)\n",
    "  course_description = Column(String)\n",
    "\n",
    "  def __repr__(self):\n",
    "    return f'<Course {self.course_code}>'"
   ]
  },
  {
   "cell_type": "code",
   "execution_count": 51,
   "metadata": {},
   "outputs": [],
   "source": [
    "class Enroll(Base):\n",
    "  __tablename__ = 'enrollments'\n",
    "\n",
    "  enrollment_id = Column(Integer, primary_key=True, autoincrement=True)\n",
    "  estudent_id = Column(Integer, ForeignKey('student.student_id'), nullable=False)\n",
    "  ecourse_id = Column(Integer, ForeignKey('course.course_id'), nullable=False)\n",
    "\n",
    "  def __repr__(self):\n",
    "    return f'<Enroll {self.estudent_id} {self.ecourse_id}>'"
   ]
  },
  {
   "cell_type": "markdown",
   "metadata": {},
   "source": [
    "# make engine and session"
   ]
  },
  {
   "cell_type": "code",
   "execution_count": 52,
   "metadata": {},
   "outputs": [],
   "source": [
    "engine = create_engine('sqlite:///:memory:')\n",
    "Base.metadata.create_all(engine)"
   ]
  },
  {
   "cell_type": "code",
   "execution_count": 53,
   "metadata": {},
   "outputs": [],
   "source": [
    "Session = sessionmaker(bind=engine)\n",
    "session = Session()"
   ]
  },
  {
   "cell_type": "markdown",
   "metadata": {},
   "source": [
    "# populate data"
   ]
  },
  {
   "cell_type": "code",
   "execution_count": 54,
   "metadata": {},
   "outputs": [],
   "source": [
    "session.add(Course(course_code='CSE01', course_name='MAD 1', course_description='...'))\n",
    "session.add(Course(course_code='CSE02', course_name='DBMS', course_description='...'))\n",
    "session.add(Course(course_code='CSE03', course_name='PDSA', course_description='...'))\n",
    "session.add(Course(course_code='BST13', course_name='BDM', course_description='...'))\n",
    "\n",
    "session.add(Student(roll_number='1', first_name='Harikesh', last_name='Shukla'))\n",
    "session.add(Enroll(estudent_id=1, ecourse_id=1))\n",
    "session.add(Enroll(estudent_id=1, ecourse_id=4))\n",
    "\n",
    "session.commit()"
   ]
  },
  {
   "cell_type": "markdown",
   "metadata": {},
   "source": [
    "# query data"
   ]
  },
  {
   "cell_type": "code",
   "execution_count": 55,
   "metadata": {},
   "outputs": [
    {
     "name": "stdout",
     "output_type": "stream",
     "text": [
      "Harikesh has taken 1\n",
      "Harikesh has taken 4\n"
     ]
    }
   ],
   "source": [
    "# find student with student_id=1\n",
    "student = session.query(Student).filter_by(student_id=1).first()\n",
    "\n",
    "# find enrolls of that student\n",
    "enrolls = session.query(Enroll).filter_by(estudent_id=1).all()\n",
    "\n",
    "for enroll in enrolls:\n",
    "  print(f'{student.first_name} has taken {enroll.ecourse_id}')"
   ]
  },
  {
   "cell_type": "code",
   "execution_count": 2,
   "metadata": {},
   "outputs": [
    {
     "data": {
      "text/plain": [
       "100"
      ]
     },
     "execution_count": 2,
     "metadata": {},
     "output_type": "execute_result"
    },
    {
     "data": {
      "text/plain": [
       "100"
      ]
     },
     "execution_count": 2,
     "metadata": {},
     "output_type": "execute_result"
    }
   ],
   "source": [
    "marks = {\n",
    "    'rahul': 100,\n",
    "    'cmd': 50\n",
    "}\n",
    "\n",
    "marks.get('rahul')\n",
    "marks['rahul']"
   ]
  }
 ],
 "metadata": {
  "kernelspec": {
   "display_name": "Python 3",
   "language": "python",
   "name": "python3"
  },
  "language_info": {
   "codemirror_mode": {
    "name": "ipython",
    "version": 3
   },
   "file_extension": ".py",
   "mimetype": "text/x-python",
   "name": "python",
   "nbconvert_exporter": "python",
   "pygments_lexer": "ipython3",
   "version": "3.12.6"
  }
 },
 "nbformat": 4,
 "nbformat_minor": 2
}
