{
 "cells": [
  {
   "cell_type": "code",
   "execution_count": 5,
   "metadata": {},
   "outputs": [
    {
     "data": {
      "text/plain": [
       "{2: {'text': 'eat watermelon', 'status': 'done'},\n",
       " 3: {'text': 'eat dosa', 'status': 'pending'}}"
      ]
     },
     "execution_count": 5,
     "metadata": {},
     "output_type": "execute_result"
    }
   ],
   "source": [
    "todos = {\n",
    "    1: {'text': 'drink water', 'status': 'pending'},\n",
    "    2: {'text': 'eat watermelon', 'status': 'pending'}\n",
    "}\n",
    "\n",
    "todos[3] = {'text': 'eat dosa', 'status': 'pending'}\n",
    "del todos[1]\n",
    "todos[2]['status'] = 'done'\n",
    "todos"
   ]
  },
  {
   "cell_type": "code",
   "execution_count": 22,
   "metadata": {},
   "outputs": [
    {
     "data": {
      "text/plain": [
       "{1: {'text': 'make dinner', 'status': 'pending'},\n",
       " 2: {'text': 'make snacks', 'status': 'pending'},\n",
       " 3: {'text': 'make kheer', 'status': 'pending'}}"
      ]
     },
     "execution_count": 22,
     "metadata": {},
     "output_type": "execute_result"
    }
   ],
   "source": [
    "todos = {}\n",
    "last_id = 1\n",
    "\n",
    "\n",
    "def add_todo(text):\n",
    "  global last_id\n",
    "  todos[last_id] = {'text': text, 'status': 'pending'}\n",
    "  last_id += 1\n",
    "\n",
    "\n",
    "def remove_todo(id):\n",
    "  if id in todos:\n",
    "    del todos[id]\n",
    "\n",
    "\n",
    "def mark_done(id):\n",
    "  if id in todos:\n",
    "    todos[id]['status'] = 'done'\n",
    "\n",
    "\n",
    "add_todo('make dinner')\n",
    "add_todo('make snacks')\n",
    "add_todo('make kheer')\n",
    "todos"
   ]
  },
  {
   "cell_type": "code",
   "execution_count": 30,
   "metadata": {},
   "outputs": [
    {
     "name": "stdout",
     "output_type": "stream",
     "text": [
      "1\n",
      "pending\n",
      "2\n",
      "pending\n",
      "3\n",
      "pending\n"
     ]
    }
   ],
   "source": [
    "for id, todo_item in todos.items():\n",
    "  print(id)\n",
    "  print(todo_item['status'])"
   ]
  },
  {
   "cell_type": "code",
   "execution_count": 14,
   "metadata": {},
   "outputs": [
    {
     "data": {
      "text/plain": [
       "{1: {'text': 'make dinner', 'status': 'pending'},\n",
       " 2: {'text': 'make snacks', 'status': 'done'},\n",
       " 3: {'text': 'make kheer', 'status': 'pending'}}"
      ]
     },
     "execution_count": 14,
     "metadata": {},
     "output_type": "execute_result"
    }
   ],
   "source": [
    "mark_done(2)\n",
    "todos"
   ]
  },
  {
   "cell_type": "code",
   "execution_count": 15,
   "metadata": {},
   "outputs": [
    {
     "data": {
      "text/plain": [
       "{1: {'text': 'make dinner', 'status': 'pending'},\n",
       " 3: {'text': 'make kheer', 'status': 'pending'}}"
      ]
     },
     "execution_count": 15,
     "metadata": {},
     "output_type": "execute_result"
    }
   ],
   "source": [
    "remove_todo(2)\n",
    "todos"
   ]
  },
  {
   "cell_type": "code",
   "execution_count": 21,
   "metadata": {},
   "outputs": [
    {
     "data": {
      "text/plain": [
       "{}"
      ]
     },
     "execution_count": 21,
     "metadata": {},
     "output_type": "execute_result"
    }
   ],
   "source": [
    "remove_todo(1)\n",
    "remove_todo(3)\n",
    "todos"
   ]
  }
 ],
 "metadata": {
  "kernelspec": {
   "display_name": "Python 3",
   "language": "python",
   "name": "python3"
  },
  "language_info": {
   "codemirror_mode": {
    "name": "ipython",
    "version": 3
   },
   "file_extension": ".py",
   "mimetype": "text/x-python",
   "name": "python",
   "nbconvert_exporter": "python",
   "pygments_lexer": "ipython3",
   "version": "3.12.6"
  }
 },
 "nbformat": 4,
 "nbformat_minor": 2
}
