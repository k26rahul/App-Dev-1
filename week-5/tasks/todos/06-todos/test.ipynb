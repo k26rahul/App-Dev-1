{
 "cells": [
  {
   "cell_type": "markdown",
   "metadata": {},
   "source": [
    "# recall friends"
   ]
  },
  {
   "cell_type": "code",
   "execution_count": 1,
   "metadata": {},
   "outputs": [
    {
     "data": {
      "text/plain": [
       "[['vidu', 'hbh', 20], ['vishnu', 'hbh', 11]]"
      ]
     },
     "execution_count": 1,
     "metadata": {},
     "output_type": "execute_result"
    },
    {
     "data": {
      "text/plain": [
       "2"
      ]
     },
     "execution_count": 1,
     "metadata": {},
     "output_type": "execute_result"
    }
   ],
   "source": [
    "friends = [\n",
    "    ['vidu', 'hbh', 20],\n",
    "    ['vishnu', 'hbh', 11],\n",
    "    ['rahul', 'albd', 20],\n",
    "    ['muskan', 'raipur', 19],\n",
    "]\n",
    "\n",
    "friends = [row for row in friends if row[1] == 'hbh']\n",
    "friends\n",
    "len(friends)"
   ]
  },
  {
   "cell_type": "markdown",
   "metadata": {},
   "source": [
    "# filter todos (based on status)"
   ]
  },
  {
   "cell_type": "code",
   "execution_count": 2,
   "metadata": {},
   "outputs": [],
   "source": [
    "from models import TodoItem\n",
    "\n",
    "todos = {\n",
    "    1: TodoItem('drink water'),\n",
    "    2: TodoItem('eat cake'),\n",
    "    3: TodoItem('eat watermelon'),\n",
    "    4: TodoItem('make dinner')\n",
    "}"
   ]
  },
  {
   "cell_type": "code",
   "execution_count": 4,
   "metadata": {},
   "outputs": [],
   "source": [
    "todos[4].status = 'done'"
   ]
  },
  {
   "cell_type": "code",
   "execution_count": 15,
   "metadata": {},
   "outputs": [
    {
     "data": {
      "text/plain": [
       "[(4, TodoItem: 4 done: make dinner)]"
      ]
     },
     "execution_count": 15,
     "metadata": {},
     "output_type": "execute_result"
    },
    {
     "data": {
      "text/plain": [
       "[(1, TodoItem: 1 pending: drink water),\n",
       " (2, TodoItem: 2 pending: eat cake),\n",
       " (3, TodoItem: 3 pending: eat watermelon)]"
      ]
     },
     "execution_count": 15,
     "metadata": {},
     "output_type": "execute_result"
    },
    {
     "data": {
      "text/plain": [
       "[(1, TodoItem: 1 pending: drink water),\n",
       " (2, TodoItem: 2 pending: eat cake),\n",
       " (3, TodoItem: 3 pending: eat watermelon),\n",
       " (4, TodoItem: 4 done: make dinner)]"
      ]
     },
     "execution_count": 15,
     "metadata": {},
     "output_type": "execute_result"
    }
   ],
   "source": [
    "[(id, todo_item) for id, todo_item in todos.items() if todo_item.status == 'done']\n",
    "\n",
    "[(id, todo_item) for id, todo_item in todos.items() if todo_item.status == 'pending']\n",
    "\n",
    "[(id, todo_item) for id, todo_item in todos.items()]"
   ]
  }
 ],
 "metadata": {
  "kernelspec": {
   "display_name": "Python 3",
   "language": "python",
   "name": "python3"
  },
  "language_info": {
   "codemirror_mode": {
    "name": "ipython",
    "version": 3
   },
   "file_extension": ".py",
   "mimetype": "text/x-python",
   "name": "python",
   "nbconvert_exporter": "python",
   "pygments_lexer": "ipython3",
   "version": "3.12.6"
  }
 },
 "nbformat": 4,
 "nbformat_minor": 2
}
