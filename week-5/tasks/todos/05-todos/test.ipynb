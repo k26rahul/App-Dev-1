{
 "cells": [
  {
   "cell_type": "code",
   "execution_count": 30,
   "metadata": {},
   "outputs": [],
   "source": [
    "class TodoItem:\n",
    "  last_idx = 1\n",
    "\n",
    "  def __init__(self, text):\n",
    "    self.id = TodoItem.last_idx\n",
    "    TodoItem.last_idx += 1\n",
    "\n",
    "    self.text = text\n",
    "    self.status = 'pending'\n",
    "\n",
    "  def __repr__(self):\n",
    "    return f'TodoItem {self.id}: {self.text}'"
   ]
  },
  {
   "cell_type": "code",
   "execution_count": 42,
   "metadata": {},
   "outputs": [
    {
     "data": {
      "text/plain": [
       "dict_keys([1, 2])"
      ]
     },
     "execution_count": 42,
     "metadata": {},
     "output_type": "execute_result"
    },
    {
     "data": {
      "text/plain": [
       "dict_values([TodoItem 7: drink water, TodoItem 8: eat cake])"
      ]
     },
     "execution_count": 42,
     "metadata": {},
     "output_type": "execute_result"
    },
    {
     "data": {
      "text/plain": [
       "dict_items([(1, TodoItem 7: drink water), (2, TodoItem 8: eat cake)])"
      ]
     },
     "execution_count": 42,
     "metadata": {},
     "output_type": "execute_result"
    }
   ],
   "source": [
    "todos = {\n",
    "    1: TodoItem('drink water'),\n",
    "    2: TodoItem('eat cake')\n",
    "}\n",
    "\n",
    "todos.keys()\n",
    "todos.values()\n",
    "todos.items()"
   ]
  },
  {
   "cell_type": "code",
   "execution_count": 39,
   "metadata": {},
   "outputs": [
    {
     "name": "stdout",
     "output_type": "stream",
     "text": [
      "2\n",
      "TodoItem 2: eat cake\n",
      "1\n",
      "TodoItem 1: drink water\n"
     ]
    }
   ],
   "source": [
    "something = reversed(todos.items())\n",
    "for id, todo_item in something:\n",
    "  print(id)\n",
    "  print(todo_item)"
   ]
  }
 ],
 "metadata": {
  "kernelspec": {
   "display_name": "Python 3",
   "language": "python",
   "name": "python3"
  },
  "language_info": {
   "codemirror_mode": {
    "name": "ipython",
    "version": 3
   },
   "file_extension": ".py",
   "mimetype": "text/x-python",
   "name": "python",
   "nbconvert_exporter": "python",
   "pygments_lexer": "ipython3",
   "version": "3.12.6"
  }
 },
 "nbformat": 4,
 "nbformat_minor": 2
}
