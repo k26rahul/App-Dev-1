{
 "cells": [
  {
   "cell_type": "code",
   "execution_count": 1,
   "metadata": {},
   "outputs": [],
   "source": [
    "import sqlite3"
   ]
  },
  {
   "cell_type": "code",
   "execution_count": 2,
   "metadata": {},
   "outputs": [],
   "source": [
    "conn = sqlite3.connect('test.db')\n",
    "cur = conn.cursor()"
   ]
  },
  {
   "cell_type": "markdown",
   "metadata": {},
   "source": [
    "# SELECT"
   ]
  },
  {
   "cell_type": "code",
   "execution_count": 4,
   "metadata": {},
   "outputs": [
    {
     "data": {
      "text/plain": [
       "<sqlite3.Cursor at 0x1eb65489fc0>"
      ]
     },
     "execution_count": 4,
     "metadata": {},
     "output_type": "execute_result"
    },
    {
     "name": "stdout",
     "output_type": "stream",
     "text": [
      "vidu\n",
      "rahul\n",
      "harikesh\n"
     ]
    }
   ],
   "source": [
    "cur.execute('select * from students')\n",
    "students = cur.fetchall()\n",
    "for id, name, place, age in students:\n",
    "  print(name)"
   ]
  },
  {
   "cell_type": "markdown",
   "metadata": {},
   "source": [
    "# CREATE"
   ]
  },
  {
   "cell_type": "code",
   "execution_count": 3,
   "metadata": {},
   "outputs": [
    {
     "data": {
      "text/plain": [
       "<sqlite3.Cursor at 0x2273df49ec0>"
      ]
     },
     "execution_count": 3,
     "metadata": {},
     "output_type": "execute_result"
    }
   ],
   "source": [
    "cur.execute(\"\"\"CREATE TABLE students (\n",
    "                id INTEGER PRIMARY KEY,\n",
    "                name TEXT,\n",
    "                place TEXT,\n",
    "                age INTEGER\n",
    "            )\"\"\")\n",
    "conn.commit()"
   ]
  },
  {
   "cell_type": "code",
   "execution_count": 4,
   "metadata": {},
   "outputs": [
    {
     "data": {
      "text/plain": [
       "<sqlite3.Cursor at 0x2273df49ec0>"
      ]
     },
     "execution_count": 4,
     "metadata": {},
     "output_type": "execute_result"
    }
   ],
   "source": [
    "cur.execute(\"\"\"CREATE TABLE courses (\n",
    "                id INTEGER PRIMARY KEY,\n",
    "                name TEXT,\n",
    "                credits INTEGER\n",
    "            )\"\"\")\n",
    "conn.commit()"
   ]
  },
  {
   "cell_type": "code",
   "execution_count": 5,
   "metadata": {},
   "outputs": [
    {
     "data": {
      "text/plain": [
       "<sqlite3.Cursor at 0x2273df49ec0>"
      ]
     },
     "execution_count": 5,
     "metadata": {},
     "output_type": "execute_result"
    }
   ],
   "source": [
    "cur.execute(\"\"\"CREATE TABLE enrolls (\n",
    "                id INTEGER PRIMARY KEY,\n",
    "                student_id INTEGER,\n",
    "                course_id INTEGER,\n",
    "                term TEXT,\n",
    "                year INTEGER,\n",
    "                FOREIGN KEY(student_id) REFERENCES students(id),\n",
    "                FOREIGN KEY(course_id) REFERENCES courses(id)\n",
    "            )\"\"\")\n",
    "conn.commit()"
   ]
  },
  {
   "cell_type": "markdown",
   "metadata": {},
   "source": [
    "# Insert functions"
   ]
  },
  {
   "cell_type": "code",
   "execution_count": null,
   "metadata": {},
   "outputs": [],
   "source": [
    "def add_student(name, place, age):\n",
    "  cur.execute(\"INSERT INTO students (name, place, age) VALUES (?, ?, ?)\", (name, place, age))\n",
    "  conn.commit()\n",
    "\n",
    "\n",
    "# add_student('vidu', 'hbh', 22)\n",
    "# add_student('rahul', 'albd', 21)\n",
    "# add_student('harikesh', 'bhadohi', 26)"
   ]
  },
  {
   "cell_type": "code",
   "execution_count": 8,
   "metadata": {},
   "outputs": [],
   "source": [
    "def add_course(name, credits):\n",
    "  cur.execute('INSERT INTO courses (name, credits) VALUES (?, ?)', (name, credits))\n",
    "  conn.commit()\n",
    "\n",
    "\n",
    "add_course('maths1', 4)\n",
    "add_course('stats1', 8)"
   ]
  },
  {
   "cell_type": "code",
   "execution_count": 10,
   "metadata": {},
   "outputs": [],
   "source": [
    "def add_enroll(student_id, course_id, term, year):\n",
    "  cur.execute('INSERT INTO enrolls (student_id, course_id, term, year) VALUES (?, ?, ?, ?)',\n",
    "              (student_id, course_id, term, year))\n",
    "  conn.commit()\n",
    "\n",
    "\n",
    "# add_enroll(3, 1, 't1', 2024)\n",
    "add_enroll(2, 2, 't2', 2024)"
   ]
  },
  {
   "cell_type": "code",
   "execution_count": 16,
   "metadata": {},
   "outputs": [
    {
     "data": {
      "text/plain": [
       "<sqlite3.Cursor at 0x2273df49ec0>"
      ]
     },
     "execution_count": 16,
     "metadata": {},
     "output_type": "execute_result"
    },
    {
     "data": {
      "text/plain": [
       "[('vidu', 22), ('rahul', 21), ('harikesh', 26)]"
      ]
     },
     "execution_count": 16,
     "metadata": {},
     "output_type": "execute_result"
    }
   ],
   "source": [
    "cur.execute('select name, age from students')\n",
    "cur.fetchall()"
   ]
  },
  {
   "cell_type": "code",
   "execution_count": 17,
   "metadata": {},
   "outputs": [
    {
     "data": {
      "text/plain": [
       "<sqlite3.Cursor at 0x2273df49ec0>"
      ]
     },
     "execution_count": 17,
     "metadata": {},
     "output_type": "execute_result"
    },
    {
     "name": "stdout",
     "output_type": "stream",
     "text": [
      "vidu is 22 years old\n",
      "rahul is 21 years old\n",
      "harikesh is 26 years old\n"
     ]
    }
   ],
   "source": [
    "cur.execute('select name, age from students')\n",
    "for row in cur.fetchall():\n",
    "  print(f'{row[0]} is {row[1]} years old')"
   ]
  },
  {
   "cell_type": "code",
   "execution_count": 29,
   "metadata": {},
   "outputs": [
    {
     "data": {
      "text/plain": [
       "<sqlite3.Cursor at 0x2273df49ec0>"
      ]
     },
     "execution_count": 29,
     "metadata": {},
     "output_type": "execute_result"
    },
    {
     "data": {
      "text/plain": [
       "[('harikesh', 'bhadohi', 'maths1'), ('rahul', 'albd', 'stats1')]"
      ]
     },
     "execution_count": 29,
     "metadata": {},
     "output_type": "execute_result"
    },
    {
     "name": "stdout",
     "output_type": "stream",
     "text": [
      "harikesh from bhadohi has taken maths1\n",
      "rahul from albd has taken stats1\n"
     ]
    }
   ],
   "source": [
    "cur.execute(\"\"\"\n",
    "select students.name, students.place, courses.name\n",
    "            from enrolls\n",
    "            inner join students on students.id = enrolls.student_id\n",
    "            inner join courses on courses.id = enrolls.course_id\n",
    "\"\"\")\n",
    "result = cur.fetchall()\n",
    "\n",
    "result\n",
    "\n",
    "for name, place, course in result:\n",
    "  print(f'{name} from {place} has taken {course}')"
   ]
  }
 ],
 "metadata": {
  "kernelspec": {
   "display_name": "Python 3",
   "language": "python",
   "name": "python3"
  },
  "language_info": {
   "codemirror_mode": {
    "name": "ipython",
    "version": 3
   },
   "file_extension": ".py",
   "mimetype": "text/x-python",
   "name": "python",
   "nbconvert_exporter": "python",
   "pygments_lexer": "ipython3",
   "version": "3.12.6"
  }
 },
 "nbformat": 4,
 "nbformat_minor": 2
}
