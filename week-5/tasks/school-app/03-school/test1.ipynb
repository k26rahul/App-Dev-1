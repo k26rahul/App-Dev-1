{
 "cells": [
  {
   "cell_type": "code",
   "execution_count": 13,
   "metadata": {},
   "outputs": [],
   "source": [
    "from sqlalchemy import Column, Integer, String, ForeignKey, Table, create_engine, insert\n",
    "from sqlalchemy.orm import relationship, sessionmaker, declarative_base"
   ]
  },
  {
   "cell_type": "code",
   "execution_count": 2,
   "metadata": {},
   "outputs": [],
   "source": [
    "Base = declarative_base()"
   ]
  },
  {
   "cell_type": "code",
   "execution_count": 3,
   "metadata": {},
   "outputs": [],
   "source": [
    "enroll_table = Table(\n",
    "    'enrolls',\n",
    "    Base.metadata,\n",
    "    Column('id', Integer, primary_key=True),\n",
    "    Column('student_id', Integer, ForeignKey('students.id')),\n",
    "    Column('course_id', Integer, ForeignKey('courses.id')),\n",
    "    Column('term', String),\n",
    "    Column('year', Integer)\n",
    ")"
   ]
  },
  {
   "cell_type": "code",
   "execution_count": 4,
   "metadata": {},
   "outputs": [],
   "source": [
    "class Student(Base):\n",
    "  __tablename__ = 'students'\n",
    "\n",
    "  id = Column(Integer, primary_key=True)\n",
    "  name = Column(String)\n",
    "  place = Column(String)\n",
    "  age = Column(Integer)\n",
    "\n",
    "  courses = relationship('Course', secondary=enroll_table, back_populates=\"students\")\n",
    "\n",
    "  def __repr__(self):\n",
    "    return f'<Student {self.name}>'"
   ]
  },
  {
   "cell_type": "code",
   "execution_count": 5,
   "metadata": {},
   "outputs": [],
   "source": [
    "class Course(Base):\n",
    "  __tablename__ = 'courses'\n",
    "\n",
    "  id = Column(Integer, primary_key=True)\n",
    "  name = Column(String)\n",
    "  credits = Column(Integer)\n",
    "\n",
    "  students = relationship('Student', secondary=enroll_table, back_populates='courses')\n",
    "\n",
    "  def __repr__(self):\n",
    "    return f'<Course {self.name}>'"
   ]
  },
  {
   "cell_type": "code",
   "execution_count": 6,
   "metadata": {},
   "outputs": [],
   "source": [
    "engine = create_engine('sqlite:///database.sqlite3')\n",
    "Base.metadata.create_all(engine)"
   ]
  },
  {
   "cell_type": "code",
   "execution_count": 7,
   "metadata": {},
   "outputs": [],
   "source": [
    "Session = sessionmaker(bind=engine)\n",
    "session = Session()"
   ]
  },
  {
   "cell_type": "code",
   "execution_count": 8,
   "metadata": {},
   "outputs": [],
   "source": [
    "session.add(Student(name='vidu', place='hbh', age=22))\n",
    "session.add(Student(name='rahul', place='albd', age=21))\n",
    "session.add(Student(name='muskan', place='raipur', age=19))\n",
    "session.commit()"
   ]
  },
  {
   "cell_type": "code",
   "execution_count": 9,
   "metadata": {},
   "outputs": [],
   "source": [
    "session.add(Course(name='maths1', credits=4))\n",
    "session.add(Course(name='stats1', credits=6))\n",
    "session.commit()"
   ]
  },
  {
   "cell_type": "code",
   "execution_count": 10,
   "metadata": {},
   "outputs": [],
   "source": [
    "# students = session.query(Student).all()\n",
    "# students[0].place = 'mumbai'\n",
    "# session.commit()"
   ]
  },
  {
   "cell_type": "code",
   "execution_count": 11,
   "metadata": {},
   "outputs": [],
   "source": [
    "# courses = session.query(Course).all()\n",
    "# maths = courses[0]\n",
    "\n",
    "# students[0].courses.append(maths)\n",
    "# session.commit()"
   ]
  },
  {
   "cell_type": "code",
   "execution_count": 14,
   "metadata": {},
   "outputs": [
    {
     "data": {
      "text/plain": [
       "<sqlalchemy.engine.cursor.CursorResult at 0x238dd04a6d0>"
      ]
     },
     "execution_count": 14,
     "metadata": {},
     "output_type": "execute_result"
    }
   ],
   "source": [
    "session.execute(insert(enroll_table).values(\n",
    "    student_id=3,\n",
    "    course_id=2,\n",
    "    term='t3',\n",
    "    year=2024\n",
    "))"
   ]
  }
 ],
 "metadata": {
  "kernelspec": {
   "display_name": "Python 3",
   "language": "python",
   "name": "python3"
  },
  "language_info": {
   "codemirror_mode": {
    "name": "ipython",
    "version": 3
   },
   "file_extension": ".py",
   "mimetype": "text/x-python",
   "name": "python",
   "nbconvert_exporter": "python",
   "pygments_lexer": "ipython3",
   "version": "3.12.6"
  }
 },
 "nbformat": 4,
 "nbformat_minor": 2
}
